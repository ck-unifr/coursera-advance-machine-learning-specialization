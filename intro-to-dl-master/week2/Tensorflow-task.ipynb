{
 "cells": [
  {
   "cell_type": "markdown",
   "metadata": {
    "slideshow": {
     "slide_type": "slide"
    }
   },
   "source": [
    "# Going deeper with Tensorflow\n",
    "\n",
    "In this video, we're going to study the tools you'll use to build deep learning models. Namely, [Tensorflow](https://www.tensorflow.org/).\n",
    "\n",
    "If you're running this notebook outside the course environment, you'll need to install tensorflow:\n",
    "* `pip install tensorflow` should install cpu-only TF on Linux & Mac OS\n",
    "* If you want GPU support from offset, see [TF install page](https://www.tensorflow.org/install/)"
   ]
  },
  {
   "cell_type": "code",
   "execution_count": 1,
   "metadata": {},
   "outputs": [],
   "source": [
    "import sys\n",
    "sys.path.append(\"..\")\n",
    "import grading"
   ]
  },
  {
   "cell_type": "markdown",
   "metadata": {},
   "source": [
    "# Visualization"
   ]
  },
  {
   "cell_type": "markdown",
   "metadata": {},
   "source": [
    "Plase note that if you are running on the Coursera platform, you won't be able to access the tensorboard instance due to the network setup there. If you run the notebook locally, you should be able to access TensorBoard on http://127.0.0.1:7007/"
   ]
  },
  {
   "cell_type": "code",
   "execution_count": 2,
   "metadata": {},
   "outputs": [
    {
     "name": "stdout",
     "output_type": "stream",
     "text": [
      "tensorboard: no process found\r\n"
     ]
    }
   ],
   "source": [
    "! killall tensorboard\n",
    "import os\n",
    "os.system(\"tensorboard --logdir=/tmp/tboard --port=7007 &\");"
   ]
  },
  {
   "cell_type": "code",
   "execution_count": 3,
   "metadata": {},
   "outputs": [
    {
     "name": "stderr",
     "output_type": "stream",
     "text": [
      "/home/kchen/anaconda3/lib/python3.6/site-packages/h5py/__init__.py:36: FutureWarning: Conversion of the second argument of issubdtype from `float` to `np.floating` is deprecated. In future, it will be treated as `np.float64 == np.dtype(float).type`.\n",
      "  from ._conv import register_converters as _register_converters\n"
     ]
    }
   ],
   "source": [
    "import tensorflow as tf\n",
    "s = tf.InteractiveSession()"
   ]
  },
  {
   "cell_type": "markdown",
   "metadata": {},
   "source": [
    "# Warming up\n",
    "For starters, let's implement a python function that computes the sum of squares of numbers from 0 to N-1."
   ]
  },
  {
   "cell_type": "code",
   "execution_count": 5,
   "metadata": {},
   "outputs": [],
   "source": [
    "import numpy as np\n",
    "def sum_sin(N):\n",
    "    return np.sum(np.arange(N)**2)"
   ]
  },
  {
   "cell_type": "code",
   "execution_count": 6,
   "metadata": {},
   "outputs": [
    {
     "name": "stdout",
     "output_type": "stream",
     "text": [
      "CPU times: user 480 ms, sys: 773 ms, total: 1.25 s\n",
      "Wall time: 1.24 s\n"
     ]
    },
    {
     "data": {
      "text/plain": [
       "662921401752298880"
      ]
     },
     "execution_count": 6,
     "metadata": {},
     "output_type": "execute_result"
    }
   ],
   "source": [
    "%%time\n",
    "sum_sin(10**8)"
   ]
  },
  {
   "cell_type": "markdown",
   "metadata": {},
   "source": [
    "# Tensoflow teaser\n",
    "\n",
    "Doing the very same thing"
   ]
  },
  {
   "cell_type": "code",
   "execution_count": 7,
   "metadata": {},
   "outputs": [],
   "source": [
    "# An integer parameter\n",
    "N = tf.placeholder('int64', name=\"input_to_your_function\")\n",
    "\n",
    "# A recipe on how to produce the same result\n",
    "result = tf.reduce_sum(tf.range(N)**2)"
   ]
  },
  {
   "cell_type": "code",
   "execution_count": 8,
   "metadata": {},
   "outputs": [
    {
     "data": {
      "text/plain": [
       "<tf.Tensor 'Sum:0' shape=() dtype=int64>"
      ]
     },
     "execution_count": 8,
     "metadata": {},
     "output_type": "execute_result"
    }
   ],
   "source": [
    "result"
   ]
  },
  {
   "cell_type": "code",
   "execution_count": 9,
   "metadata": {},
   "outputs": [
    {
     "name": "stdout",
     "output_type": "stream",
     "text": [
      "CPU times: user 465 ms, sys: 525 ms, total: 990 ms\n",
      "Wall time: 1 s\n"
     ]
    },
    {
     "data": {
      "text/plain": [
       "662921401752298880"
      ]
     },
     "execution_count": 9,
     "metadata": {},
     "output_type": "execute_result"
    }
   ],
   "source": [
    "%%time\n",
    "result.eval({N: 10**8})"
   ]
  },
  {
   "cell_type": "code",
   "execution_count": 10,
   "metadata": {},
   "outputs": [],
   "source": [
    "writer = tf.summary.FileWriter(\"/tmp/tboard\", graph=s.graph)"
   ]
  },
  {
   "cell_type": "markdown",
   "metadata": {},
   "source": [
    "# How does it work?\n",
    "1. Define placeholders where you'll send inputs\n",
    "2. Make symbolic graph: a recipe for mathematical transformation of those placeholders\n",
    "3. Compute outputs of your graph with particular values for each placeholder\n",
    "  * `output.eval({placeholder:value})`\n",
    "  * `s.run(output, {placeholder:value})`\n",
    "\n",
    "So far there are two main entities: \"placeholder\" and \"transformation\"\n",
    "* Both can be numbers, vectors, matrices, tensors, etc.\n",
    "* Both can be int32/64, floats, booleans (uint8) of various size.\n",
    "\n",
    "* You can define new transformations as an arbitrary operation on placeholders and other transformations\n",
    " * `tf.reduce_sum(tf.arange(N)**2)` are 3 sequential transformations of placeholder `N`\n",
    " * There's a tensorflow symbolic version for every numpy function\n",
    "   * `a+b, a/b, a**b, ...` behave just like in numpy\n",
    "   * `np.mean` -> `tf.reduce_mean`\n",
    "   * `np.arange` -> `tf.range`\n",
    "   * `np.cumsum` -> `tf.cumsum`\n",
    "   * If if you can't find the op you need, see the [docs](https://www.tensorflow.org/api_docs/python).\n",
    "   \n",
    "`tf.contrib` has many high-level features, may be worth a look."
   ]
  },
  {
   "cell_type": "code",
   "execution_count": 11,
   "metadata": {},
   "outputs": [],
   "source": [
    "with tf.name_scope(\"Placeholders_examples\"):\n",
    "    # Default placeholder that can be arbitrary float32\n",
    "    # scalar, vertor, matrix, etc.\n",
    "    arbitrary_input = tf.placeholder('float32')\n",
    "\n",
    "    # Input vector of arbitrary length\n",
    "    input_vector = tf.placeholder('float32', shape=(None,))\n",
    "\n",
    "    # Input vector that _must_ have 10 elements and integer type\n",
    "    fixed_vector = tf.placeholder('int32', shape=(10,))\n",
    "\n",
    "    # Matrix of arbitrary n_rows and 15 columns\n",
    "    # (e.g. a minibatch your data table)\n",
    "    input_matrix = tf.placeholder('float32', shape=(None, 15))\n",
    "    \n",
    "    # You can generally use None whenever you don't need a specific shape\n",
    "    input1 = tf.placeholder('float64', shape=(None, 100, None))\n",
    "    input2 = tf.placeholder('int32', shape=(None, None, 3, 224, 224))\n",
    "\n",
    "    # elementwise multiplication\n",
    "    double_the_vector = input_vector*2\n",
    "\n",
    "    # elementwise cosine\n",
    "    elementwise_cosine = tf.cos(input_vector)\n",
    "\n",
    "    # difference between squared vector and vector itself plus one\n",
    "    vector_squares = input_vector**2 - input_vector + 1"
   ]
  },
  {
   "cell_type": "code",
   "execution_count": 12,
   "metadata": {},
   "outputs": [],
   "source": [
    "my_vector =  tf.placeholder('float32', shape=(None,), name=\"VECTOR_1\")\n",
    "my_vector2 = tf.placeholder('float32', shape=(None,))\n",
    "my_transformation = my_vector * my_vector2 / (tf.sin(my_vector) + 1)"
   ]
  },
  {
   "cell_type": "code",
   "execution_count": 13,
   "metadata": {},
   "outputs": [
    {
     "name": "stdout",
     "output_type": "stream",
     "text": [
      "Tensor(\"truediv:0\", shape=(?,), dtype=float32)\n"
     ]
    }
   ],
   "source": [
    "print(my_transformation)"
   ]
  },
  {
   "cell_type": "code",
   "execution_count": 14,
   "metadata": {},
   "outputs": [
    {
     "name": "stdout",
     "output_type": "stream",
     "text": [
      "[0. 1. 2. 3. 4.]\n"
     ]
    },
    {
     "data": {
      "text/plain": [
       "array([0.       , 1.6291324, 2.0950115, 2.6289961, 0.       ],\n",
       "      dtype=float32)"
      ]
     },
     "execution_count": 14,
     "metadata": {},
     "output_type": "execute_result"
    }
   ],
   "source": [
    "dummy = np.arange(5).astype('float32')\n",
    "print(dummy)\n",
    "my_transformation.eval({my_vector:dummy, my_vector2:dummy[::-1]})"
   ]
  },
  {
   "cell_type": "code",
   "execution_count": 15,
   "metadata": {},
   "outputs": [],
   "source": [
    "writer.add_graph(my_transformation.graph)\n",
    "writer.flush()"
   ]
  },
  {
   "cell_type": "markdown",
   "metadata": {},
   "source": [
    "TensorBoard allows writing scalars, images, audio, histogram. You can read more on tensorboard usage [here](https://www.tensorflow.org/get_started/graph_viz)."
   ]
  },
  {
   "cell_type": "markdown",
   "metadata": {},
   "source": [
    "# Summary\n",
    "* Tensorflow is based on computation graphs\n",
    "* The graphs consist of placehlders and transformations"
   ]
  },
  {
   "cell_type": "markdown",
   "metadata": {},
   "source": [
    "# Mean squared error\n",
    "\n",
    "Your assignment is to implement mean squared error in tensorflow."
   ]
  },
  {
   "cell_type": "code",
   "execution_count": 16,
   "metadata": {},
   "outputs": [],
   "source": [
    "with tf.name_scope(\"MSE\"):\n",
    "    y_true = tf.placeholder(\"float32\", shape=(None,), name=\"y_true\")\n",
    "    y_predicted = tf.placeholder(\"float32\", shape=(None,), name=\"y_predicted\")\n",
    "    # Your code goes here\n",
    "    # You want to use tf.reduce_mean\n",
    "    # mse = tf.<...>\n",
    "    mse = tf.reduce_mean((y_true-y_predicted)**2)\n",
    "    \n",
    "def compute_mse(vector1, vector2):\n",
    "    return mse.eval({y_true: vector1, y_predicted: vector2})"
   ]
  },
  {
   "cell_type": "code",
   "execution_count": 17,
   "metadata": {},
   "outputs": [],
   "source": [
    "writer.add_graph(mse.graph)\n",
    "writer.flush()"
   ]
  },
  {
   "cell_type": "markdown",
   "metadata": {},
   "source": [
    "Tests and result submission. Please use the credentials obtained from the Coursera assignment page."
   ]
  },
  {
   "cell_type": "code",
   "execution_count": 16,
   "metadata": {
    "collapsed": true
   },
   "outputs": [],
   "source": [
    "import submit"
   ]
  },
  {
   "cell_type": "code",
   "execution_count": 17,
   "metadata": {},
   "outputs": [
    {
     "name": "stdout",
     "output_type": "stream",
     "text": [
      "Submitted to Coursera platform. See results on assignment page!\n"
     ]
    }
   ],
   "source": [
    "submit.submit_mse(compute_mse, <your email>, <your token>)"
   ]
  },
  {
   "cell_type": "markdown",
   "metadata": {},
   "source": [
    "# Variables\n",
    "\n",
    "The inputs and transformations have no value outside function call. This isn't too comfortable if you want your model to have parameters (e.g. network weights) that are always present, but can change their value over time.\n",
    "\n",
    "Tensorflow solves this with `tf.Variable` objects.\n",
    "* You can assign variable a value at any time in your graph\n",
    "* Unlike placeholders, there's no need to explicitly pass values to variables when `s.run(...)`-ing\n",
    "* You can use variables the same way you use transformations \n",
    " "
   ]
  },
  {
   "cell_type": "code",
   "execution_count": 18,
   "metadata": {},
   "outputs": [],
   "source": [
    "# Creating a shared variable\n",
    "shared_vector_1 = tf.Variable(initial_value=np.ones(5),\n",
    "                              name=\"example_variable\")"
   ]
  },
  {
   "cell_type": "code",
   "execution_count": 19,
   "metadata": {},
   "outputs": [
    {
     "name": "stdout",
     "output_type": "stream",
     "text": [
      "Initial value [1. 1. 1. 1. 1.]\n"
     ]
    }
   ],
   "source": [
    "# Initialize variable(s) with initial values\n",
    "s.run(tf.global_variables_initializer())\n",
    "\n",
    "# Evaluating shared variable (outside symbolicd graph)\n",
    "print(\"Initial value\", s.run(shared_vector_1))\n",
    "\n",
    "# Within symbolic graph you use them just\n",
    "# as any other inout or transformation, not \"get value\" needed"
   ]
  },
  {
   "cell_type": "code",
   "execution_count": 20,
   "metadata": {},
   "outputs": [
    {
     "name": "stdout",
     "output_type": "stream",
     "text": [
      "New value [0. 1. 2. 3. 4.]\n"
     ]
    }
   ],
   "source": [
    "# Setting a new value\n",
    "s.run(shared_vector_1.assign(np.arange(5)))\n",
    "\n",
    "# Getting that new value\n",
    "print(\"New value\", s.run(shared_vector_1))"
   ]
  },
  {
   "cell_type": "markdown",
   "metadata": {},
   "source": [
    "# tf.gradients - why graphs matter\n",
    "* Tensorflow can compute derivatives and gradients automatically using the computation graph\n",
    "* True to its name it can manage matrix derivatives\n",
    "* Gradients are computed as a product of elementary derivatives via the chain rule:\n",
    "\n",
    "$$ {\\partial f(g(x)) \\over \\partial x} = {\\partial f(g(x)) \\over \\partial g(x)}\\cdot {\\partial g(x) \\over \\partial x} $$\n",
    "\n",
    "It can get you the derivative of any graph as long as it knows how to differentiate elementary operations"
   ]
  },
  {
   "cell_type": "code",
   "execution_count": 21,
   "metadata": {},
   "outputs": [],
   "source": [
    "my_scalar = tf.placeholder('float32')\n",
    "\n",
    "scalar_squared = my_scalar**2\n",
    "\n",
    "# A derivative of scalar_squared by my_scalar\n",
    "derivative = tf.gradients(scalar_squared, [my_scalar, ])"
   ]
  },
  {
   "cell_type": "code",
   "execution_count": 22,
   "metadata": {},
   "outputs": [
    {
     "data": {
      "text/plain": [
       "[<tf.Tensor 'gradients/pow_1_grad/Reshape:0' shape=<unknown> dtype=float32>]"
      ]
     },
     "execution_count": 22,
     "metadata": {},
     "output_type": "execute_result"
    }
   ],
   "source": [
    "derivative"
   ]
  },
  {
   "cell_type": "code",
   "execution_count": 23,
   "metadata": {},
   "outputs": [
    {
     "data": {
      "image/png": "[encoded data removed]",
      "text/plain": [
       "<matplotlib.figure.Figure at 0x7f33560e39e8>"
      ]
     },
     "metadata": {},
     "output_type": "display_data"
    }
   ],
   "source": [
    "import matplotlib.pyplot as plt\n",
    "%matplotlib inline\n",
    "\n",
    "x = np.linspace(-3, 3)\n",
    "x_squared, x_squared_der = s.run([scalar_squared, derivative[0]],\n",
    "                                 {my_scalar:x})\n",
    "\n",
    "plt.plot(x, x_squared,label=\"$x^2$\")\n",
    "plt.plot(x, x_squared_der, label=r\"$\\frac{dx^2}{dx}$\")\n",
    "plt.legend();"
   ]
  },
  {
   "cell_type": "markdown",
   "metadata": {},
   "source": [
    "# Why that rocks"
   ]
  },
  {
   "cell_type": "code",
   "execution_count": 25,
   "metadata": {},
   "outputs": [],
   "source": [
    "my_vector = tf.placeholder('float32', [None])\n",
    "# Compute the gradient of the next weird function over my_scalar and my_vector\n",
    "# Warning! Trying to understand the meaning of that function may result in permanent brain damage\n",
    "weird_psychotic_function = tf.reduce_mean(\n",
    "    (my_vector+my_scalar)**(1+tf.nn.moments(my_vector,[0])[1]) + \n",
    "    1./ tf.atan(my_scalar))/(my_scalar**2 + 1) + 0.01*tf.sin(\n",
    "    2*my_scalar**1.5)*(tf.reduce_sum(my_vector)* my_scalar**2\n",
    "                      )*tf.exp((my_scalar-4)**2)/(\n",
    "    1+tf.exp((my_scalar-4)**2))*(1.-(tf.exp(-(my_scalar-4)**2)\n",
    "                                    )/(1+tf.exp(-(my_scalar-4)**2)))**2\n",
    "\n",
    "der_by_scalar = tf.gradients(weird_psychotic_function, my_scalar)\n",
    "der_by_vector = tf.gradients(weird_psychotic_function, my_vector)"
   ]
  },
  {
   "cell_type": "code",
   "execution_count": 26,
   "metadata": {},
   "outputs": [
    {
     "data": {
      "image/png": "[encoded data removed]",
      "text/plain": [
       "<matplotlib.figure.Figure at 0x7f330d640da0>"
      ]
     },
     "metadata": {},
     "output_type": "display_data"
    }
   ],
   "source": [
    "# Plotting the derivative\n",
    "scalar_space = np.linspace(1, 7, 100)\n",
    "\n",
    "y = [s.run(weird_psychotic_function, {my_scalar:x, my_vector:[1, 2, 3]})\n",
    "     for x in scalar_space]\n",
    "\n",
    "plt.plot(scalar_space, y, label='function')\n",
    "\n",
    "y_der_by_scalar = [s.run(der_by_scalar,\n",
    "                         {my_scalar:x, my_vector:[1, 2, 3]})\n",
    "                   for x in scalar_space]\n",
    "\n",
    "plt.plot(scalar_space, y_der_by_scalar, label='derivative')\n",
    "plt.grid()\n",
    "plt.legend();"
   ]
  },
  {
   "cell_type": "markdown",
   "metadata": {},
   "source": [
    "# Almost done - optimizers\n",
    "\n",
    "While you can perform gradient descent by hand with automatic grads from above, tensorflow also has some optimization methods implemented for you. Recall momentum & rmsprop?"
   ]
  },
  {
   "cell_type": "code",
   "execution_count": 27,
   "metadata": {},
   "outputs": [],
   "source": [
    "y_guess = tf.Variable(np.zeros(2, dtype='float32'))\n",
    "y_true = tf.range(1, 3, dtype='float32')\n",
    "loss = tf.reduce_mean((y_guess - y_true + tf.random_normal([2]))**2) \n",
    "#loss = tf.reduce_mean((y_guess - y_true)**2) \n",
    "optimizer = tf.train.MomentumOptimizer(0.01, 0.5).minimize(\n",
    "    loss, var_list=y_guess)"
   ]
  },
  {
   "cell_type": "code",
   "execution_count": 28,
   "metadata": {},
   "outputs": [
    {
     "data": {
      "image/png": "[encoded data removed]",
      "text/plain": [
       "<matplotlib.figure.Figure at 0x7f330d640ef0>"
      ]
     },
     "metadata": {},
     "output_type": "display_data"
    }
   ],
   "source": [
    "from matplotlib import animation, rc\n",
    "import matplotlib_utils\n",
    "from IPython.display import HTML, display_html\n",
    "\n",
    "fig, ax = plt.subplots()\n",
    "y_true_value = s.run(y_true)\n",
    "level_x = np.arange(0, 2, 0.02)\n",
    "level_y = np.arange(0, 3, 0.02)\n",
    "X, Y = np.meshgrid(level_x, level_y)\n",
    "Z = (X - y_true_value[0])**2 + (Y - y_true_value[1])**2\n",
    "ax.set_xlim(-0.02, 2)\n",
    "ax.set_ylim(-0.02, 3)\n",
    "s.run(tf.global_variables_initializer())\n",
    "ax.scatter(*s.run(y_true), c='red')\n",
    "contour = ax.contour(X, Y, Z, 10)\n",
    "ax.clabel(contour, inline=1, fontsize=10)\n",
    "line, = ax.plot([], [], lw=2)\n",
    "\n",
    "def init():\n",
    "    line.set_data([], [])\n",
    "    return (line,)\n",
    "\n",
    "guesses = [s.run(y_guess)]\n",
    "\n",
    "def animate(i):\n",
    "    s.run(optimizer)\n",
    "    guesses.append(s.run(y_guess))\n",
    "    line.set_data(*zip(*guesses))\n",
    "    return (line,)\n",
    "\n",
    "anim = animation.FuncAnimation(fig, animate, init_func=init,\n",
    "                               frames=400, interval=20, blit=True)"
   ]
  },
  {
   "cell_type": "code",
   "execution_count": 29,
   "metadata": {},
   "outputs": [
    {
     "data": {
      "text/html": [
       "<video width=\"432\" height=\"288\" controls autoplay loop>\n",
       "  <source type=\"video/mp4\" src=\"data:video/mp4;base64,AAAAHGZ0eXBNNFYgAAACAGlzb21pc28yYXZjMQAAAAhmcmVlAAC2YW1kYXQAAAKuBgX//6rcRem9\n",
       "5tlIt5Ys2CDZI+7veDI2NCAtIGNvcmUgMTQ4IHIyNjQzIDVjNjU3MDQgLSBILjI2NC9NUEVHLTQg\n",
       "QVZDIGNvZGVjIC0gQ29weWxlZnQgMjAwMy0yMDE1IC0gaHR0cDovL3d3dy52aWRlb2xhbi5vcmcv\n",
       "eDI2NC5odG1sIC0gb3B0aW9uczogY2FiYWM9MSByZWY9MyBkZWJsb2NrPTE6MDowIGFuYWx5c2U9\n",
       "MHgzOjB4MTEzIG1lPWhleCBzdWJtZT03IHBzeT0xIHBzeV9yZD0xLjAwOjAuMDAgbWl4ZWRfcmVm\n",
       "PTEgbWVfcmFuZ2U9MTYgY2hyb21hX21lPTEgdHJlbGxpcz0xIDh4OGRjdD0xIGNxbT0wIGRlYWR6\n",
       "b25lPTIxLDExIGZhc3RfcHNraXA9MSBjaHJvbWFfcXBfb2Zmc2V0PS0yIHRocmVhZHM9NiBsb29r\n",
       "YWhlYWRfdGhyZWFkcz0xIHNsaWNlZF90aHJlYWRzPTAgbnI9MCBkZWNpbWF0ZT0xIGludGVybGFj\n",
       "ZWQ9MCBibHVyYXlfY29tcGF0PTAgY29uc3RyYWluZWRfaW50cmE9MCBiZnJhbWVzPTMgYl9weXJh\n",
       "bWlkPTIgYl9hZGFwdD0xIGJfYmlhcz0wIGRpcmVjdD0xIHdlaWdodGI9MSBvcGVuX2dvcD0wIHdl\n",
       "aWdodHA9MiBrZXlpbnQ9MjUwIGtleWludF9taW49MjUgc2NlbmVjdXQ9NDAgaW50cmFfcmVmcmVz\n",
       "aD0wIHJjX2xvb2thaGVhZD00MCByYz1jcmYgbWJ0cmVlPTEgY3JmPTIzLjAgcWNvbXA9MC42MCBx\n",
       "cG1pbj0wIHFwbWF4PTY5IHFwc3RlcD00IGlwX3JhdGlvPTEuNDAgYXE9MToxLjAwAIAAADIqZYiE\n",
       "AC///vau/MsrRwuVLh1Ze7NR8uhJcv2IMH1oAAADAADVayF8oYJVUBjg5Cl8UC950wnQObmxLpMS\n",
       "eTd2N1o7ZvU7nZLqidQWs9IRqH4qZFuUNOvgrgAArGB7WlETloPe/JP4T9cYmW8XOcea2PNfdAfD\n",
       "fd6Iz/LDNKQmyT4UtqyM9VpZ4KW4uKMcNNP2NwTR824pPid9OGlJeuy3yaveIX6TYaJhi3+GxsUl\n",
       "gbdD7wi6WJ8qZSi0PaSn2s4FhcA/XBehncfXRTTznwpqU6eKyFdeuHcy8ZSuHOb76LAZfI9CLqoi\n",
       "rhqAnYx1QmNUdKYgN2Ghp59bZ1F75OEV4hsJWbD4MVPa9dxGgZnyICgNdrvPzXjyiDEJ/sLUA0io\n",
       "jEvnr9yAAEtqpv0e6/hhyHlCpU10mTMbXmfRj8bYGy26WfmWfnj/Ylpn3Ey+mVffWnXaCd29q0w/\n",
       "xD5oiqs7ysEzxEpQzqNukNafCsOpRaMygcotK1tvNtBQ1aKv20FvT0/TclkK72aoqB7PLJjmNRbE\n",
       "gTR9pmLAUP9RRBbTPdpYtp8yDTEgW04qybJag2mqSoeyypGkWX19vHjijtrAg3NogpiR0ZjvMQkS\n",
       "SfYwv6gP3n9JhZnLtx04NKokoPiIPYsnFiXDElwiX3pg65X4X1PEQtKgva9vZDnkZZdKeIt8qYuh\n",
       "Rh+rHc6kk3NOd4xhvZfsDQ4MzkPijfgR6lfJfbf/UdpNLspZbSUfaDZ2ksTG8XwytDPclrX4fzDx\n",
       "D522DhRHjX58DYsPxADFD7XlCS47a/6bzwCP8M4i+lX7sAh7IPQITvL3O437Pb5v38F3JSdQjuQD\n",
       "+T7axFzALehH2dUgzCu+rJhFjqANRbbcH47qEhEPOt31QcgJT9EwXcGHQy88ymlV9ep8qQn+/JIN\n",
       "T61pdnnKLnTxPi3x+daYBkOMiN6A478nJZ+bSIL+EjKpDVhypYQHKgZu7DauGJGOdlNS+aVX630f\n",
       "RiZ3ysf57mjpYZYtQ3BE1OMNMU3x2dprgw951hsyq7bZfM0KeS2XRtDD9U6hLLKiFe86LoZ+mpDb\n",
       "9Cqa3KZ0xaqbD0jHMOma/8H7T8m6SJfCULFvPFu/47/pV1lmezlVg1eF1c+hAhsanhYOY9LBPJxA\n",
       "3hra6xayeb5eFfTXnpbxNPIxCPyLiQddLNgiy8WHGyr5bhwD1HiDCKBf9cxLYbLsWBEwVTpVS4UZ\n",
       "/eyWboayyIzgk0ezmIpqTG7iH/91MDUEENFsRh2hZ8oTfjECf8QsbNWbxO9DlbpNisSWr8jluSaE\n",
       "j6PZ5JnwzJkvMUqzKVJqc0j/ABAL90oAddvFcaeRn7eXq1QDeh+gLL9mIgP+PEnW2SvKJ31ELbRY\n",
       "HqFQfBZ/vPH7e32Wta9i/dFARRVpTTgTAWKjH2YRu8EIU+7fMpHSoHlt+DTsSljAZvSjOu8CJ8QS\n",
       "Tcv+7YlXePYBnm7bbY3iilr4obCVmrKXsMcxpCYfkBBa1aulDndBbkBNFXuHUgNuhW3VBpkXofKX\n",
       "NSdr20071MGav6zPV5yI1EkduEsmNVMMFtsFEP/VXVD8P3AT86Ck9AC72waRrb+n6GRWDW5Wk7IY\n",
       "eW/u8pN+oDcJyLYU1TTrwylwSDD2XvNoZBzTl4imF60ScaE8OUNj1P1/MfFGPjQDlPF+YjKbTi0l\n",
       "a//Fsu+SMi2oeIA0Z6UQoSN1B9LAABNGW4tdtghh6m2shAVZ7sKvHHY0hLuqTW43R8hwyMoNCBxl\n",
       "lBDLb8RM2rz9l5SFotdiisL/yyA3viBzPmGXr5sVBn7ujN+Bsn5H+EQMYOFHstjS5re9ctPUFgUg\n",
       "UrWEmZP374wo6N2qzrdQpKQPyRTU/7vY2EpTwD3v8Sx58jfDTeCMG6eCWp7hGRW+LPTyNsuiN0Ir\n",
       "Kdlv0WV2gxF6I6yUdVVXlvEC7IZcABEpPFJJCNr1WLBai4cF2aEIU/EYCrc9W0O+oui8QTutq2jN\n",
       "j9P/uOTwUQ5YwFTFHV5fx9mSCSce0diHEcz/by7MM6CeXbePpnYaER/lhVRg6gPyPx9fpYgPjgb5\n",
       "42U7xAj+qA/o7fGMbyZQPtJUNQfLmtZ2BKAgfwoI3FjqCpj6yYyf/mXSrjmZv2gjIBJRmzudcZmz\n",
       "O5YjkTfv7L9idZB22J8ihMCjlJLkr7AK99GLy5zFEzV1+fVZDqN3cvnnt3+LWfae/XgMFvGcpi8I\n",
       "biO9jjJItfXA6aTF4FNtQCgseohSKL2a1h0LI76rGrPc/02WxSsq2WwtRxUQCa3sISDbb93eQLvz\n",
       "FZzeie8wPKym2i6rcZAgCOPuTqobO7VwHc3hXIyIVJyzMOJoED7NcrjBf9q5MWLE666trpoSPFJC\n",
       "HGIyU7zeMY3bGYW37b8mDgd+mMt/hwRYKnA7eBOY1Ut9vTQ3R+DIb3vephh2NBXdPZRmMPGY5Bt9\n",
       "3JogQQ+QJjvo9M2CNQOzBKb5jx+OFIwnXhhzg3nM+wiVP6P7zmuyWXeeeThH1P+qmOLiz/+cd5Gi\n",
       "5l+pOrGwyIIgGtKtTpRKcpMVxD6rl/P2yNxryIQ0ZQJc+1NywIEjBmzadJtqhn6xBm0+YmRrFslt\n",
       "FWZ26+AzlF0shrTqGofIGotDREg3JEJAYDaX+AfafPRqSckhW1DzSGQKvDCGSwkglXtwdIJMpHnQ\n",
       "2azg14mmTO73uXLem6VNyOqQx9i4oqb5pugid+j+M335cuzbNvLS77uYelu4KFTjyx6hkVuXEGKX\n",
       "T3x7Es51xVJXOGP4AxB/x0TBDF38EXZ9xc75cwI/lmWO5Jo2zl7JiC/dD10dTB0bI1Dp3xlAZRhX\n",
       "ML7qukur59HEeIDV21WrZUSnS0QQSymGLbhbsECIrqm8H12hCJ9enH0XKfiTZb5TsiAi23g2YhHm\n",
       "bXq5+75O0DuY6YM8Bg+kb8B/trqQFSwUFygdPDOIzzQ/fBovR9VH2V7ibcyXIWvZVw2YVyWI68Yh\n",
       "0DsQbaTQYwY6wDhHtSllJrbEXKX3SS4yhXfnAk9+C2eTMq0kvZJVjInGxKM1kYmPNV8qefsifuGZ\n",
       "c56ZrwGrpAHONyAHotefGw1D7HCF4dZWumrTCONSzw6IdMwDzO1Lo3CG2VYB3dRzPNSgtFmPnK8R\n",
       "y+l0FNwbWLimPAv5hMa4P+M+UQSGse4MPB152hnO2HQYjKgnOOsJNI7N+EzrxSfQ1cUsndSkWQEk\n",
       "/I65nxhaOPBhQ1TJZxQVExmZ7pwmLuvC69EiL+mdBYBVv3G0/DMqnR/Cg5iAxKxdJDgyrdYmJ9f/\n",
       "r8ltmgIHjbrwX3IKO9K/Ijq4piJrN+IbTxRVGw79U5AyhMNfXCxbUTz5qmp106qjx1LidoDBizr3\n",
       "ZnzfiQqtLWTUVKbJjRfpcarJmaL93jb8vecYEJCUCbQ7Ih3X41eg+R6caCgH6b/ezc7xgKfK9K6q\n",
       "ru4ZdEZz9jDL8wshVXNZCkqIMddP1Jik/lY5i9Ig61GtE92g9rIul/j66Vs/gVWZDehRu+siRy3b\n",
       "88h9XQLj3d8LwyvOlJO4ttgquTF4NxrOkm13aFfaT3Sz/xF4qQD95WAAXIzMxc1p2rstUtpXO1Tv\n",
       "budXA4ttAv1MXtd0cIav3iWMXTYbdatPQE1Wb8el0bXJQ1ohOMbgEh3vcoGhZFPlg719xCDfq3t3\n",
       "VfW0sY85ECq8ufjugU1ItF2NYzvpFTb8AAAdx4YooW0oWebrQHvhBjAecF8wxjlfs5hyUowbATJc\n",
       "/i+XIyzszCFUhVd27rLMfB9ARdnJ20c53g+acU40s9i9/DTAb08Pf+tL4Bn1I4oNvkiAn23u6mss\n",
       "SlFtJjNJ8vWN/OJFaqOyaer8el5KjqMwpSZm9P173Os4gTcXTChgxtLeYXUBUyeyyrKIT5UFQ8xR\n",
       "oqpRJIWokCS1T0rK137L5YeHSalEmNXdcHvrnfAT6XtsbG3c1fjjidPYFUcydio64SFfka6oVve6\n",
       "IFLYf3Nzce4Mut44Uw1IwH2uOW8JR7zlrzGcO/XD56+9mjUk8owyAM0SRJjpaJ3ctQE4Q9UNYg/F\n",
       "OFsHXAiIw2sH6Ji6gcsileG6z0jFuIkSisX+I2vAfHSpwHGCIshsbNhOBSb5F5B7D+BcKfzCS6+K\n",
       "6R6+xbJKKvfLNuFInTsEjF6v2O4M7m4Q7NLfLfjG8u71olhFYmEeJpA8ki2KWboDatGNs1Va1+aE\n",
       "36iH3yaNHLVkJULmRNWRM34AaDrLzIaTmEyphTvG3A0qXoXaFDFukQn6gVqRMyx01emsA8BfprP2\n",
       "ZOpMOdk9m0VbpqugwFo4kUXUFVLPnK7R0gQDkpNMVhRlF2rswcHPg4q708cJkyUfIU9W3dj6gLtO\n",
       "8Kk3hUiIGBil9VLFtZQ+fRmrcpOjXclAzKpQzcBB+PP/lhECx9oDK+rQ+QBYgjfnuYhrjjgVL/9W\n",
       "CLtOT5x53JgVcEyWANCPoewEDZbNQgY8dOItOsVCTlc333ul8GUHqscJkuMYusCOLSOm4aXUBN9M\n",
       "rER5snFk6dpkif+QpAZmkAb+YcczlKMdfuSUZeMdNHNDEyTR9DO+x8YC8ueSZI7qRzs/IaJXZQ6V\n",
       "wz5hO5h3V1F9rzrVcht1OTlzu6xduQKcKHufYKnCHx2PJvCfENXOZIa2SMXxJh92OhbwlgPN/+Iy\n",
       "vafJGdR5+7eoQTsu6QpbYdZZSDcO7zQU9orauc7vIWme/I5vGG1xNzx/1ILE13sfKSxIRyHWdN9J\n",
       "8Qbku3R9wo3h0cOSUg0L/ZTgnAULuJwdnyfIgvbXuJ/PltHgqR8S4T8HFWVEq7Y/L8u91Ubt+gLe\n",
       "6TT8ZJLor9DP5oiQBdp8bSF+WA+YnLXr1HnTIasD/Hk2EedB1LJ84OOS0KxQhLXNxjo8q9OkVlMX\n",
       "hQZKtuFqXk6Mp873yJq8o0r6bJ/SetmX3t2EweF3vlj7xdGnDsOJRDydxfsQB2aa4rD4e1zEJLVq\n",
       "TSW/Hx6gKmP/4tonBnQ3hm2YLOgMgDxKu0dFjGp17s2bbM0oGC4Vr0bh3gGPJVycQ9TFGlt5CLbL\n",
       "TsZ74zanVqxx0k+5F/v7yHLwy1FL5exUUwWKZ3vnJah6H9XohLlJUTDvCy6gfq/PnwtymbHBqVsw\n",
       "cfyIfj711YdO0EQgtreH45w3wJaGTJrLrvrM3Xo5E60NYHGRgD/CcgviRMWlj8ewGYxaLD3iaH0w\n",
       "IIwgShJxJ9hStIL6Rj/BT/Y99xcgdYY+injiFLn1cjDqXzLac/1OTlXTChIlDJtNH/WtVSr3gocq\n",
       "0KD5eJp1BU+l6FQaSGo1OjH+c3Q+AEtm0MQndiITuFIqU5qwlEGCjzaU6P4JnBSpZfa8AhXR+rea\n",
       "U1PkAOsfYgSIgopugfJngncInECy7ZCV8EnJGm8AV0XqWygiZ+9ZZI9LUNjjdpsEE3tcGvEhq55n\n",
       "nvIZazRHtpktI2lbrM3/L9tUnAcCYmUSfh8HuynH7nhXEzfzW40PstEMGKfKQGWYWoIxgwTIL8Cs\n",
       "h63aeeHXAq0G4PEFGVJqJyloL5PI7O2MoK4RH+UO9w3IJ3/60C0ooA6TxqsLFLq3CEIT/rTKS8fq\n",
       "GV87sPNsCjpkpGSyX0p7cJCeRa0sC2eQSJ5/dWzYnxC6MyK12hinSNzMIBugJjUFcfQy5cfZoSb/\n",
       "SpsdYrqWnYjenAm/kBMjfPYk4CCXmBoY2fzu0E2Y8vOAKwJ+thrhatmbAT5ixha1pwcNl2ZFugBT\n",
       "Xs1oR8LepIiumOydq2bDMhNyznfCKy9f5ZMoGYwOeafG0+MvP8xhOSjDYjNjre7s0fpAg02utyhM\n",
       "pLwSMPbu2CniZIriPWoVDPmgO7ffY67kntITAENmUb+0AMj+oGmORtaEEIaCOWu3gL83lJekeCAr\n",
       "l17rL3WbBjik0SJypQ3Vu0zYot09D0yoROfLluk4I/kKN29dli2PtwRS2ICHM9FD7/T98Q7M9XWb\n",
       "/NgZnMAu4efT/gmmK5FMkrlqVU3OLboiqg0fkGDuaYoD1buLQpGADXkfbapSvTGSr/D9xhCgrjbg\n",
       "2po+0wm5QWxBZ88XZ/5jCqktB7iCZ2d7GTDp3LxPIGFwJxD3x8eEWdVlHDrLrei2vUZT/T1kyZOa\n",
       "x9BsFXF2cDXOadQixx7mdc6k6Q9T8VyhocXXUXQ7eWJ3HUWWx3VAmmrSz5BdSFwHNa5C59tVH6sK\n",
       "KEmYxRNcflZBxBNpT3eYwpPUlkLRCTlvHB0XeeBezfeYUkivBrbt3lEs1Cpy1R9wthnBeti6PQw2\n",
       "iOyj7ppOkkn9R9UUVDtcOYF//lJmizYK1o85hFtm5X8zBhr67O5rya6/1lJrjQSUEN5U6QlnZve0\n",
       "5/sWPlScK92b8HI1eXLqkR4Do+YdU3LsndUsr3nP8R/+fJfqTXrBMk+70Z/iVn5ubqbnIr4NXkPc\n",
       "N5UuU82gfBqoUT0odsJsI4ufvAae0ypTAtb1351ZSHyKHIOd9cMbpGZijYUEJo5JhFwK3VzhbyXx\n",
       "QgSkbbsFmFtfsVDEQ/hdMcwIcwmfFA8RUwN/Hok/nkAtz+9tU+Pk+rDdakzA1to4wSx5o3Yh2e0W\n",
       "eP3GWXbOVv4zuyG918+OTCURJPhBF2B34x1/abYYh0LNivnRB3YhF9shUI04vAO3uG0goftQlCPP\n",
       "yy7GS9+ArMDVc6NCeIMubihgN+8EmzmYIOYrxkgqON0GK2oaTk3s4QKpc6j3vTN2FMthFzZKMQGB\n",
       "1NCrt0osJ1NmSJ9NYx4bm77sjybMZxdsiJva5L3hVrf5Ahmiqg04zfbqUi6EmSwAw3rG08duJPp2\n",
       "t3ol3rglWyPRdLV8rm0ducy6IRhOpNJmxK23/CkMGQ2g1EccWjQxTAwVHPdfuHMLbBepjcmtvBv0\n",
       "4jpGo7N7PjfD23XSsqYiZIY/sDGRH20Id8ypGg8mwoRqmaAjbN8GhKcEtbPjF53VGa5v2WErUUg2\n",
       "jXJaMQDpH0pKqWvb2goeA9MEYxhtyNzPY5HBalc8B7EF6dSQcco4YFkXup1yxHTmISuu2he1/EWc\n",
       "zep7a+k56G5K0AyzANmDScdb8Ct40PhKf+Bg5F4hXK6GFHAhjdTAIRQQ30s2cKcy+bW8CdfljHAh\n",
       "BYQiDxYQebkMxINv+dIbCTAKr4zgZOBRWrur2zMpH83v2G++/AjyoWPrl+wYqFCX2yLiFunNqzoW\n",
       "E97/noAtwg8ixQqppL/dYBZzIOlfjx6MvJxVcGY0YD0KU4a5zHOqo0Fs4MwpNPxlcKg3v/yDex17\n",
       "TNHyX0HvZl8DFv2o8YaQHDkQWm1WGdXGgYiuTQSpu8RVic1O67W5fNmR1nANE5LFDjpmMd9VYqOo\n",
       "zTAuyEJfoNMUlZmiTi75MxN8rFzj/wZ1VjIlYgKPtqwyknTNLjeyyL3BX+CQIQ2j0+17uS38uQ8j\n",
       "Zwr2T7T/WwzDfkbZc3X2DFbRi3YCV8vhzaHonz3qeTYKY1dR8W3+wYmAF0+jvSZgyMpBWf0ATHj/\n",
       "USKDAdbuCfyBauf88bGgRwXULabSAqEZWzhgUWaXYMmpWRc0EkVHz2wGtZbR/ivmZQB9ZNN7GBvT\n",
       "0QrAQMLNmacquufVflkDGZu7IjybAZR8IG4l3tcihW9YxyDRS6LGNjrQ97VfUDxdbadFnY2qtSi8\n",
       "vdxdhgmDoXsLoMcCBx+PaPOuuffkYNoHo6OIUUCr8Uk+dcm+k2LDONGemMoOTghospSYMva8bV8x\n",
       "qHtSDLk35jtl7lu4strmtYaY4Zpa88X+a07ZsrL8IXXBbJaNGn0n1DCKhw5lIRiZcrY2+2M2Nzfd\n",
       "U4lPyavv62hDSkGaXt3l2LaWflqWQEVBQvMiDPkS24pO/UeGcH/xycWAExv9qFMIvz3lwj/Ex8yP\n",
       "9OlZvxJnYFztq3s1Be/zDAv7mRU+3lYG6+90DJTYsu+BKIT0r9wJX5x5wzzAvFZ0FU4G/pyjnA31\n",
       "Et9gpNHBkwGXcrvNQYWrxEhP1R6tw7VsuWiC9BYr2KIbilzL1N8yUPyJCUmCWQq8BX6OJDxtdWIs\n",
       "w2xckohD45l+Kq7t3rWbNkpHJhMiDK4QKiXNV+N7ubpjBlYQoDCYMCNUBRcvZ3IWMD5uW3xLyD3R\n",
       "TLZpOPSPS2636Ub84XaCcAi65TJRPFSRA0DGp9Nql3JMlTBG2HTJ4j43A/9mz6sLpaRaEmmVdDbg\n",
       "4euXvUq4oNVg1TGMwOwV7e1o9vGjSQurpaYl5z7tOiz1suxsTcXI0/o7QB6UzcgTTLMFYabsh9aJ\n",
       "xOiECsn2EmNaDEKta1ooCQy1XTbn2Joud57Ar0I9Y0ZYt7iN7DMV8ajEZFlNLzwntWyUOa7sbbEy\n",
       "XzKNNrNwSWUvg08GKIgwR7GxYfzU/r4WoL91E3Y3XWECxOholND12oMiC4OEghG4pONfAlFbF+pu\n",
       "dD5SfOBfo6PzQpw1TlkvvR+m6vaJE5hp1nYFD52EaogYJE5hohNZdCiFnECllsItz/l4de1he/6o\n",
       "CjApuwcbZu7zjHE9snQtrxay8YH7jJ0J5mbSOnQJB87eO6YecjY3WbDVzLpEj8nJ/e3afORX45PV\n",
       "9sOdihaHLynni60LHPPgKtLOvRHofMfUDCNANODnKWgrDoE0oao9SL+1dqjvhmeebWEn8uQ3jtnF\n",
       "sv6KJMFq8WO2vv3VZKxNAKZ4E6xO/wf+E5ujBgxTK1J45tlhFblnX7NKD4AphgxHwN9wvUzbyzf8\n",
       "bZh0c3wLghr5btVKS3fIoayX0QtzRKmWlWLOvKemV0/omK6868vQbMp3V7wtHe3hjlN1o+STRrI4\n",
       "PR6GJ5ReQz6VknkhZK3Z8C+7g3pPUMdsZDPXDDrYUvEyUA0q/OZoPZ0wXCa2am2G/7P8VHpJbeZt\n",
       "Sm5zaZwM5jwXoE3Xs/fWJkoiAYYc35hLCtyabjQWhxSfo7Pufil0VN1zqUX/xa/F5gSoFQrjlpMd\n",
       "FOBad69bov4uIU3bb/lLeFPL6cZgdI7Idd+o3AofkqGBE5MvJbaMnqWGa4gFWSHtcgCtnNtRR+MD\n",
       "c7A5Shmm+DcoflwNBMBtGs6a5EwOw6hdARyVxmCgSgTxJULGk+wcwsXp7X4oD8fBUoqdveWJwkjz\n",
       "ZkubgNa77JgiKwBRtcHNb5wdNItQBmfefBl/c5mW9Zzb0SjrpMo+ClQyC6BrSvPnEgeXGI3JPH79\n",
       "0dbf7upOSJYZMQGiGGv0BJT5JnteE62DyPC249/H+V+o9iUkkAVjWGMYKEe7O72mAPJJL7xtWN0w\n",
       "ugU29UsMhdg+oDODl9zg6Q05e+/Bj0/oXXBriiJ/4S5QT+BqJaPzgzSlOTz1szT+o4FyYZzdYte0\n",
       "fMez7dDxACjWnFFCB2pMhGpiszk8iSFQhl70h9Kio9RBNSxGUrS9TP0jKnuJBWlRq71fOnaGr+x9\n",
       "M8jeN8VsSLOPno8+lB20ihriLfRV+iTHAdcoRYzUjEtnm62mLhkdfCVzn3+WcYBS40akCpNg2NH2\n",
       "oLeb7eBJ/7FDmd7yk5d+hX+MFtL97L0eeSG4XOidTkEIqhWoFV1Q6b/PVQ+xQxhzEoFpaiQ9G+zO\n",
       "wLqEk/0V+KMjwz23jC57khNvef0XULQ0H266CdH/GvUW5YtrgW4lRAUCITQ9ol+3zR94POl8QzuK\n",
       "G69KxXullQ0b/8JfTjVGEV+ttUntQWp8CZyrFLRFq4lPPAput0/qNwANyBU0M9xevZ1fpnhOmmpt\n",
       "Qznb94hC+xZhnm7YdDY1jRXnNXupoQmS3SbS8EnE1iLCFT44DQrmsSoXoM0K2c0qP5A1XZgCMBE8\n",
       "YUwfkR/4K+9YLaiYgVQFB4e5ZYqSbE7Z7tc8yMqQ1X5CkokwoyCu4GpARZMwrSjR+oX1m37e8KJw\n",
       "eMjNiwWP0lNOifwpoSnKat+s2KtbseCUT124OAAmiXGuarevFELrVTVRR3t+xa/CNhj2sHxeK6BZ\n",
       "qLvDwMpbRDwqvuBB0HW4fu8WflN8tkChA6ziJrPJ27W0qR7PnnearEKbQlywZgra7O6VNiRm+bfd\n",
       "Z6vT5zIxPIgGcXbBmC4w4SlyKRXxngRDjgJuuKAaA4pKIMCjdjAtUykvpEtn972Vbx/6qYfupwZI\n",
       "omDAkr0FHtC8TBRoFydbhnIQcLlfw/zT1qdFHivZNkzUBexndsZj5rHDETEfR7Oq6JG//C35boQe\n",
       "lYEnfrtMIj0QCGrdPh+a7Aii9B8r7dh5ONxm9t4PDGtE4+Toq3/5UZ8YoLgiOHRIW97590XxzXPx\n",
       "wIJbWpWx/dl9mGjFyNfl9pX/Zyl7rKgKFK9z446kugTAuGYxaC5I1jgw+50igq7yJTNyWtHONqCU\n",
       "Sr4dIkH0nkt9BDxLRjPwNGK88S4ZJvO1fctiJJPoN9d1pXwwmTIfpYdeq3u0Gl+zMSiJqSXzoRDy\n",
       "4exA9vi7YjS0HQxmcQsraQ9LdMJlEhtAUC0qpXnJvcJWrUJW7Fp2w4a1LVTrTgLklWsHPix+YgyM\n",
       "yb3Jf42uJF/VV9l0PSIFnG251xY766ZqiiA3NaLvcPUFFnqJjsb8WEFHDoTP2DTpRqw010uEY3ek\n",
       "gi6v5Rbz0qjbH/ZpO99guEkszXlNyejM7X7aIbKzUMmwYyPzFrMpI3GVZk/1r93D+3jR/GHYe5JK\n",
       "O75Ll8/GsL1VaUb+femsAJBmCKxxJrRSvFX0cxlIi8PzbVvOGDUv/zNNQo1VKVLbcVlSUpgkCKSY\n",
       "fqjb/RsU77JDyKu1K80821wLn/ki+GcX2/teSiFmkk4gghLhZXtEy5xJmcyebP/Qghdwq6u98BcG\n",
       "X4kyKjvh64U6ZM1GFfu/IbjQtMOKcetpk80QqiE+PgvbqIwdJphngA86wIQn0IqqM28pQWFRh9VW\n",
       "ojI8ZsBjwVvR1/zel4KmxlqTX52VIfV/5yyfZ94e6L/n8yUPHQbpigTI3LJJOYtQ4NWVD1ijAtQ7\n",
       "X9e/+0vLDmXuJjsFR3iKrONStk42unK8B1WKEmxlqyVn7KF38N81pICqEhZ8dBN1TIakfaxmtW0l\n",
       "92dfve2eD74GSwjcoqysNAvgpC5O+suetNK7/NjmPPNczQX4b9Dw122Tc1DFQAIxva6UnV4PqTDN\n",
       "h0XkXpLKRYB/UX41XIeFiLFmi+hfYRg7fabyHomkHJhQqDu/Sme5XbnYWc6yJr+oMBW+gK911haG\n",
       "74jGpDyct3nl34BF6NvkgMl2LJMAB3Dq+QBC0j6lVebDIVeG3+yh07KHiE9UxTbn2k9cx0l5/Tye\n",
       "SBeAAJkUFjheKoY53Fh/IbjcuOmySClEIM0FeTxWxO4N5KbqLIlhcG3+oGDPRUmL5MEFPlhESQJm\n",
       "UiBI7YmHQ21bDyhwomKAn2Bn92FJNsG9L813LSl+Y0Vv6TRPT3Tcg6NktRc26DaXhE/gJCP+weO2\n",
       "bSeMhg3qK5RVtRbyt4SDDzSfW0y3xRMBle8clc44/nWhh26Y1ah/MX5aEnJtGweOXamfsaTs0n/M\n",
       "dxPzeWLYnVGcWp+JSi81drFIj2UrprL78wUYUQvj1fimGIMQstAJTKdG2T0pmPiAGqBkrsuKZoPC\n",
       "QS5VMh5CYpZJOBf/BLk1+DODmniFyc9+6jRmCowXU3bZO6K/fsbzTVc8dRjBTHgcVTaNbYYAYDfd\n",
       "13FfFOoJIo92MRZT5q1c4WFNNiRM+mFKvmTbCUnJXqfCQZgZg7rh2AZkpvj7KpLrAdQsxp251K5M\n",
       "FBMYa21CfTttn1zGoKjvotlx6ZRlonRn5oFm90txWNx6MXRumz5l4d6ZTpjfad9nq0iyAojgvgsb\n",
       "vY5cq44d15pHoRDsylqIQtW1prQaPBPozkTW0VHEVPUiBzgPhDeNOQlCtwvq3WerzyvWeUNgc7w6\n",
       "DSYHv7KGvtxhNCARTA0oIrwX76B9ZVJBBqEP6p8Qb9Lkq3XTwLUeF3kqDzm3Kl3Meb9tE0wvdJfs\n",
       "DQvK1223MlyyDoWEnXdEl0mGMW5EDXuxMm2Qc+rVQjxGNc5CD96Ec3BLJfw6xruQewukvHPqgEzJ\n",
       "D3JeT1kc6Gj7rPXDmATTB/hmGrnTxvn1uJ68uMqFU4/kPkWRCkkeeB5Eynv2Edh4ZvVuyhK0u97B\n",
       "MqOPTiVUVJ9fxdooZdznf/NR23WIBKYVf+5FQW4c3Brc03RbQhnhoOoXfCj2FWy7pguWyTuURpIO\n",
       "VN6y0yu50jUXCB4pI+X5wNE8ZtX/UzgeNp+heAm7tf/EIB6Ho6oL+8Y4TCcrZaJrMX0bpAyLfaIp\n",
       "B1Gzc8YrS1ycz8uunhE07Azl9ynKOSAwF1dGwMHS1gyokCIA3l1S091ySEwn+CYrl6AYGYX8OirT\n",
       "5u0TwL9lx8NPcaxAzy22AbATdGsKRIaL+tbZN3Ac7gKau86cCh0SGjzpW1hV8CIf2usPHDL/t3Bq\n",
       "pYtNdZqupiisohS/SZL4FWnBc1ZTrbzkoiQUd666/DiTq4V2YCUK7qgi7Qj5QE21rVQncq60dQrC\n",
       "L953lhmSQcA4SdRhB0caGXm6rI58RK/CeDubefzN04WGNPhV8Ckd7+mIn7HF6YC7mq2bjCvfGxab\n",
       "o1fpHGoVC5z+YGR4mP+VaPgI2bZx7fQx7fT9w/kL6oK/wpSjtK8jpm7hLSFU71AccRWMrC9ousCa\n",
       "D4EQkJvRUhf5D7lkTIZG2jdBcEhzewBBIsowmZdROppSnPq2s4/V9l9gbmdTAtYaHvYuVT57+vvz\n",
       "hzEfaoHZqhIphLo7SofJNYSYJblDlRGSxLH1k+x/qR8m1oMXCWPW3opHBM9LbjABDsu6w0LGn+sI\n",
       "+AnAzun3GKNz/pzpSmDD+747DZmDtxZnmHCPdXVpm/v39Vso4axgDrpY/dP/81grdgJ0ZpCUJ9hl\n",
       "+JtJaSlW8rGWzTpY5VwJDn+gfcTma65Q1qq396nV9Oumv52BYTjqmk3eWxX0n0Lo98/1ZX0+aeaS\n",
       "EwKMvgliuACC2z+bqRHc3rvJiC/MG7vXd0E+3HnIpChlI+461dli7jjRtBVWLBLhwAVTCBMuKiyN\n",
       "Tu/1K8DX0zkCcD7dxhlhg/sidRqC1JPYuDWOsPpdNp4BWXAbRMQAYunRUHf2nfYWYuRk4FYKKztu\n",
       "DbMM709W5KKVbmUyyME4wp0yfOHjuXqdPfYfd31DkXukqo5l60bV0Q5El5FJHSewOvMkOJj6cdXL\n",
       "jb5IZKigsD/ZFnEby5eBdV9HyxtBOkI4iueOvQfQnXwaBxCn1z3iyF5CKn+GelLdMYhwTGpcm0AR\n",
       "DbR88RG8Ek5VgI3KUUGhyopo1WSDaeP3QOWK12bIZlYLB/qV9EuNxXRS7KvNNWciZwYWb3a/RNEb\n",
       "hXWo4tLsb5pmEqAhOdeEGdD2k1kkQqdn/qmuD82KFxij2iAsMco2rmyDUBr5pJDdhbpZymPUWY+U\n",
       "1sRmPdz0pJlViYik+9dC0rOdx695VT4z/uKpeaQda2VrhWi/Lsq7oB/A2R2dRLd4QKHX85UuV5U1\n",
       "RSofUpIANyMZfsnKTK3xMzm+4wBxoMDWHCe/Izg9DZjb+Y58bULXakqfbgYNDKBbYn/C6hcEL6Cd\n",
       "+w21pDvWQw4BzKA+2xheJqew4EbdGKykjSGuwri1AFDIS102XOqMC/QNCCaAXa6Fv91q/8yXBxKz\n",
       "bKBS7ZE/uWsw7J800MHHIiHtJVLBxTQk1W9DowmNK43pqz0rBNOuuScg2bgNMnUKF4QpzOCjxN3x\n",
       "B5RGUl+IulN3ma2DGgMhdwa0LyztxPmuKgj/ZZamFw2rTfEc6Ag4bTpIQ+5LeyOUB5A2bX7Idsw0\n",
       "4WICIGnfkk7ehgop0ZPp2Y4wNDl2wDIBnyR89Nu426E5vPM5ysDUNfJ9ZtDTPKiT5kPphDAJ7BMV\n",
       "u56B5nHo9UuWH5br/f6a5eDac4IlB2waexMAeXg5OYhxn64GdPdnqduDVg35UfCJzq2sPIeyWn7p\n",
       "rLfJXNHZomQCh9/v1Fd1F/m45o/58NSpQw4BsmLrP9CAzxEj4sWfZ5B0wvulvk1e8QY+xWSphi3+\n",
       "GzzrIv8rz41Y18OdnW8fzmaU3XL0OZhVKk6bW8eMLNEaIXYqwgRNh+a7jYT3wI4unOVK97HBi2Lo\n",
       "WjnJdW1ugvRB8kKI7Oux/7jOSidPrzYvfdhEyWEK6F//AuHojbdDFeQeIQxB/aHiTR3Qd1ALX7Rn\n",
       "u+OPap4IkiBLzqLlLubbhlkjlAg1tvFEGjZF7tPkaONyfovz7P27OntwdKqntDevWFJmaoRJ487Y\n",
       "JEge98+d4L9jfSiLV5uupdrlhbTnMGXk23Jm5pMViqagXiifGzOqWTeoIepvm//wxmzbXZA21CvF\n",
       "aQwUR+xOkNafAhAf7l6/uuCsL4ctf86kr5+MKoI4CngWRdTm9/cINyeP3k9w904tQINaZPgTXVFD\n",
       "g5E0N2x836rruxMwLErUexDVYdQzi5a6Bf+dOYZRq+j5TMcUZmgK2FVO4mosiEKtJTbJPVQucUWO\n",
       "6q9Q8c988VqqKcVUQRvLx34ipTTxEqBhVo8aCHb77e4ycYBieXTXCpOrxb47Tgyxsy0IMIL938/l\n",
       "NyvRZW08CuOS27U8mH7BpdZOKrqwbkgP8ITE2iADvMhMgCZBPA6CjtBqSk1otpcHL+cOlCe7YcYs\n",
       "ocGLmepEeArrOz28hEZcIQmQF3OGuYH2U4PjRi9W/fD5mMU892zlwcW/mOHMRdDXNqno0J6+I50r\n",
       "MHMkJMRnIG95NphBthr3uWOV9dA4InZbIahliKKcGlxA2W1qnV/hr5TjRh4ymh+wpqaVPdEUFK28\n",
       "TFgZA5mrOG/33kBwH37wias65ccSvkzB79RkAc+1vJPUcl1W9d/23Dn00TCfHtdqBTDyWdmlv8Tr\n",
       "HrSnZWMAKk6FMoIz7kTnLNS7Ep8oXfg05oTPchMoFIw/97qXRLtkYCChV5kI+jK5w//5+kNae/SI\n",
       "vrbYyTYMf2MlR/8aTJ8FOh7jkQ+Yz5P/cEzG+FmcI2gX2rVkbQt1HF/WJXllX2dWsXH3WmmTYKUo\n",
       "ELqs4IBG6C+V3pYxjxy9oIEUbROcAQ8sRbmMyyomLReArb3yvSrvYCjS24ZEzZVIkh/hPb597Aji\n",
       "NLeh5m19yuGmedwwPc9+YLZduiiDnxrw2IjjacZ4a6XpdsXVhRAs3dJImbJlLvBAnyDzCzZyZEfb\n",
       "lxKt8ol7M930Frf3TC4khXKU6y/nDfz/2+qTowhlbdhyzyNs8PbKspTBBhmKTUNDoN9TOVDAgDoD\n",
       "DK5/n/cvzPZG9V55Bksv4hXhWKaTn6ECCzT9CTmePZMjtq/oXoPR5yix/BayAJJReZDFh1JfAxZH\n",
       "kQWES2JetkLhSRCA+5z1uF/CoMQLqfZL60C+X+O9/PjtLah51VVZd2kyTKGcTgpXecUenUTReu4o\n",
       "VL6RPzGT+dCg+OGpu9o3RKFMxEG3WvSEHA1ERWduBjkWRwI3lPA7shH7N7syC7Dp8ZciRDYs1KZ3\n",
       "wiPqDWmSttpE69WOMLoWm9SmOzFOOcIriFe5d2bnQZCQf7X98mKfgwXiMZoEHqg0P+Tr9UdefWw3\n",
       "M8zPD4t7ydyeLs9iNSY1ZLCsT4af4M1mElc/9KutJ0bknIxvqUNBFAECJEUpEKifcvUvdpoMDJ7c\n",
       "f8L7tHp3aCmCCRUpGLwxhE1FgH0ls76NEeDBlamyXgRrO8TVN3Fe00fZ9Q+JiMIr7BrH0MtmIglC\n",
       "MFY8hoOEtVsPTuYgTSWjFRBFHBOFqMcKGujqQxzQn+Q106Q2lRJ63bfuEuLFA9NadsBCeoinyThv\n",
       "HJD58p8CPE1J1A3QIw7HMtL9ygM4IJJKK/1BiFXdk2JSPwvkpsmirzgwauVGaS5e0iNzCq0tlLmD\n",
       "DXirQqv9ctKHSq5e1+kE2BS8NmwZ7OwWeIjjJefGr9mq2Qi+a0eiB/Ukc5EBgOY5x7WK/KKzUvp1\n",
       "HraNKA6ChGhfKsjvrnyXL6Ldmmw17Zpi9GiWCHk2cyCJk5cl6o9fEYQNgf0DlLPszKu8uPx4PQhf\n",
       "PZy3LikMjf1TxxWMrvMkQww1dRDpjSKxrEEyHv0kj45VdvRldQZnRa2NVT6J3xNyk8w0FLLNDfBo\n",
       "4R9KKu0/gPjZx4gUa/TVMNtO6YqNPEGJ6xMA05Y2u2v6DRdxRPT6yiuMFxBjQhHIxmaCpPe2Gm74\n",
       "jIlQ6YoqJbmwfIn2jMZzFl2f6+Q7lJp//lMLM3oNnBKRrdsmifuggCS72/VkyPtfqwBICWv/hZQr\n",
       "D297eIFtoGa/9MAC1PIQpB8CbIPNDfbxxHDedxg5bM1owg7bVX6o4bmFoR6jAf6O1Mw5qFSAZK00\n",
       "XGzMmVttLLS96Fz1E6Pn00VyzhDMan8+aKW+Bqs+dT8J4exUXVQHpziqwIYd8kbZ8y3J/3of1e43\n",
       "37HNZlb1NvCjL6xi8Vy6Py4mb9+E/c+IvSepp9/KnYpZhzE219eerSYaRm341JYelEHQK3aLzcpR\n",
       "93/GB8hEU0A+Bdwsh6CG4ZNIXarCyhxz9my1wImtDR2Fs+TuGgCSLwsUauQk6fdYRcA4Q1F05ADK\n",
       "53sxXlzvRbJZpfdfOLJzC2khSR1KNdRHXflgWv4Rz5NKEmvZ305JS9EAa5peSoNt8c+kZJGeXFVm\n",
       "1oqxjmPQLlC9mPlgWDv98PwIY8pL+zeni3aejfDKY0aX4YsJHQiZPOaaKP31mW34p3/r21Gv8Mq4\n",
       "7qwNj0wtqA30rbBkrvbeK5OYd4JV9QiU4egWJp4KdjjZWMwXmp0EUufwbr2NdgPPMt4oxzq7Pqwh\n",
       "DSmMqQ0w9Dn3hn1fPkRElft5wfcnYx+Igd8oQK9t5wOvZ8r5ajiHncVeF6KZ7N6cgV09PObeGcUp\n",
       "DmnWNa0ZPkTcQfP9DbVG0jyeltD+6OQhRhj/d/WjHSV72D3Zord7iNQBiXf0qGMiYq8XjjH4o/V0\n",
       "t9CdBs6t8wK9+0HTXuArKsOQ8H8gOEfZ3Rn/f5ENgDdxU9S8pTXo/o+2aMHRowPo+uJakfCwXUW5\n",
       "Q8qErFUpTjQ04cBffavOsv/HlgTChX3X/e1t12LCqyETuKa0n9ZPX1lnTHRZTy8gtzrfr//lMHbK\n",
       "3tFHon9Alx7XRc652Cu0SIVhjUK+cuZuYUEwSXpIS/snItxaCD6JaLqURKKpLax1gfqX8S7KXnD5\n",
       "tVPx2hKHkX3r4lql5yAagwLlmXzYyyjS3VfoqgdvUtMfSucDyAfTF+O0mjsd/0dHEeXVPWWx3+vQ\n",
       "AAEOKrnGAA+XxWAAwoEAAAJdQZokbEL//oywCxc/thUCgKAWJIX8LkasjCNnwNK1F6hx7Sw0K/vz\n",
       "HleDMKloZrdqDVUGi3Wk0W+plc8MQL2P/LUpGPVRTIpuc6kzo4oTD2cJJf5fSl0tZoiV5+R8iWFd\n",
       "BVsIjRF9oCSD5Hwvs/bePBbJVC6QQ7VFQEZZsZK5a0W1+z/3aQQsjugkgz+wsi+V1OQPKVXifkth\n",
       "JXnI/I7bnho/hMzgAEv6/l25YFrHqo5SZ7z/smEsyuX87H5nEB20XvB2w/lEzWZsv6Y+LV04XaSl\n",
       "hfuiuqznqw2fEQ3ZrVhdj3WwBYv/XeXlGV4BuyedvSrNp9A9aOGnulTqoW6zUO1JOxfyNjcM6VhN\n",
       "HfGs3MKsZObbHJiUh9epH3poUz4UhHLnEZvWKokpNWo2v9KkkZCgKcbzOvZcEpeFRGS2Tg9cYoQH\n",
       "EWqfT4GUx4eDi1ntJH+HsrxDJ/aokmaWa8wL+dN+1RSaGK4TsxvyP0auYmBrq6nY9ejq60PMVoF+\n",
       "m85LJZ5ukj1eszRzvCfryliBoOm7DuSTRZQtO4AqNBMkgPYiSNqbQ7dgELI8vdRB3MV8deAiGMgy\n",
       "QlBghEFz4dGZUJJUeKzdibao5mXb/w3BMRC1fKAP4KS5f53aLE1FIN3RWuhn9xUEY1iPQaQi1Rdv\n",
       "X/DbL0zo8Dw2i4SLHJTPdHy7IOABxST6COsJAUqUHSwPkKXshw2OwTUf7dTLoL4+ZEdMJfK5sGqb\n",
       "yXtcFh5OozrUFZvqiiRi1LheiX+m6scPUPFT1uWvcdDpvz2zr1/2js0RX0eK9XWt20hQAkYAAABQ\n",
       "QZ5CeIR/BTPeF83WKrfr3EAgvI9YYAAArWmULuUA872KThEmQN8smOnv2QP/njTAZaGIjH8XNXka\n",
       "igK8M/e14Jc2mh7JKs6j+bO+J3AWBHUAAAA1AZ5hdEf/B+Kja4Bkz1IgVFRHo0R4ULaPATuFYg2H\n",
       "zsaZLmrDKxbVgbM8wR+75cOPKpLOBawAAAAhAZ5jakf/B+o0ppRczrobK+mlhGAKEHOXzRHibvUb\n",
       "vFRBAAAAbkGaZUmoQWiZTAhf//6MsGxrdue4hwFPc5rQoKaKbqxE05babV3HvGA546jDTG1ICfcw\n",
       "zdFZBCK/waI4bLiVhJB1slY4OT9MGQEMsGInnbpZRD7bOTD4C5ZPITHcvkqefavNGmQ84/TnaTIy\n",
       "TEPBAAAAqkGaiUnhClJlMCF//oywAADUO/RgDaqrXbbEKuy1D2XrWwveZUv98XJgfBvKnOW/7mT1\n",
       "xIbGrehLKuYtB7XKL/EeVGn/tM/PCXzTu5qif3GNQ+bCCR4ySJ5utNDveHqrlDrGsXc4DjbMeMt3\n",
       "S8cLCBVj4rQbHKLXqi1+Vry365g1robA7DlyEUxOn5TpwFg6q/RyOyJm7gnqrJqoQgFKt6Y6fkzm\n",
       "mfIzpOCpAAAALkGep0U0TCP/BVnzTSRt5zChHoQilDbdjkwQAFqkzEEbfor9cJIPhkb63hcVekEA\n",
       "AAAeAZ7GdEf/B+KRpUbuSaNqqACaugzrg1M4zxLoi4BOAAAAFAGeyGpH/wfqPv0F8TS7UN+9je1Q\n",
       "AAAAlkGazUmoQWiZTAhf//6MsAAA1AWL1MXwBZuFbGtF0TkaM8ly9g4Wxji7Z6h26Zcv8cN3IDFW\n",
       "cp3VHXEsZZnB3gJpSRW9AkajpRMStSJFTbEs2v4+2t/MYnaI2l2YoqIIupctUVYVe3LBdGZ6a3gF\n",
       "IT3auZgbPdE8zPXZ0SL8/58DPK2Ksuwq15HLHMv70wdmnbN+BhfTMQAAAC1BnutFESwj/wVa77Ig\n",
       "Sh5g7lomLejokGTCABwbCxWKiUPkvVqRztTNCvlyQsAAAAAZAZ8KdEf/B+KRpUbuZAVHarqXURbZ\n",
       "knfQ0AAAABcBnwxqR/8H6j79BfEzi6UIhi0K+LBSGQAAAHRBmxFJqEFsmUwIV//+OEAABkOsWlxJ\n",
       "6AhVLgHlSW8E0RUWLzgLxTusAdP2YjGi8BpjLfbdjLkznFo7NIynyv47lImbLrAnaZcJ8oHrgLot\n",
       "wEQKz4Mm5dWmENcokEkVUl7lQUNgAXcRUlns8W5zUMlsk60zfwAAACdBny9FFSwj/wVa77IgSh5g\n",
       "7qcLYwAOLJ85DHRo2p6U9Jl5smTyPdEAAAAfAZ9OdEf/B+KRpUbulzCoBMAB77QWV14vM1Xy+4Q7\n",
       "gAAAABcBn1BqR/8H6j79BfFXXmrru9gFTuEO4AAAADlBm1JJqEFsmUwIV//+OEAABkWOOgIJLo2x\n",
       "7fanSMLUU+fIIkaza0jvMjFQti9+SFhsaUtr98vjkW8AAAA1QZtzSeEKUmUwIX/+jLAAAZSHtuAE\n",
       "drT5lQ/f9PQQHn2YkKJfW1AnOZzgQ75jGon09ygVbVgAAAA6QZuUSeEOiZTAhn/+nhAAAZGGT3AC\n",
       "wUqcnd/J1W1kN7c1bPfpOUv9o2Qgp7TE5wTdgLueunVLwejQQAAAAHJBm7hJ4Q8mUwIZ//6eEAAD\n",
       "Iu3HAJpS0IqUJWql+On0Bixf5oJOy0WY7iL6G9nyPK0KZRDXA/KOm7H2an09k5xDckSxqISCqd2z\n",
       "EyFqxu7IXIjMGyjpJS+Nhdgc9QFxbYZxYVBK8Eg0KQzoKSh569kyTjkAAAAhQZ/WRRE8I/8AHxMq\n",
       "T43pc4gAJnIw6Mu9dsN+vSNM6HWAAAAAFgGf9XRH/wAAy2PsEqACZh+K1dPs3YEAAAARAZ/3akf/\n",
       "AAGXBHM96rwbxIEAAAB0QZv8SahBaJlMCGf//p4QAAMiK+YCTWcAmHOCXodr1M/CCXXbWbiUybi0\n",
       "iPHcFS8vFZpaoH//EQpialE9e59xgL/042G0JrpiSetCX96zPNturdAZ9gwB6j9+z9rGga90UG7D\n",
       "g/gb1++773n+ZjzfU2KqaQIAAAAZQZ4aRREsI/8AHx3ID4Vjau0VRqobeHYqgQAAABkBnjl0R/8A\n",
       "AZvB2pIALIm7HO3G/Z48FASgAAAAFQGeO2pH/wABk/z2AC6Vc6Kh0LdScQAAAIFBmiBJqEFsmUwI\n",
       "Z//+nhAABh3bjgE19Ruj6y82yKQrFNPrO4estXfkvtTn+AV3kGjxpOKIyBtkBUfPC0x54b1Z5mJ0\n",
       "ZgBxv5d+afb0Bp1/5ZHTSqOiCdV4CiJtXqAn3Pueq5yktLdGDmSRZ9iuMo70Ko5pFDXUxy4jjJa2\n",
       "adolcK0AAAAhQZ5eRRUsI/8AHx3IIht6IIRAAH4ihXeS4OshHlIoYWrAAAAAFQGefXRH/wABj7ZB\n",
       "dABLQZMFjKbkhgAAABYBnn9qR/8AAxEoTdIcAE4vM2+LrdEtAAAAUEGaZEmoQWyZTAhn//6eEAAF\n",
       "9edGAK1BIUllTuf8MeInFGmNNlWC3dO3yiZxBwr3tWHkgnx0vtXT1sWtQg4ru5+2Ow4IMlb6e5eR\n",
       "XxqGCypgAAAAIEGegkUVLCP/AB8dyCENeYAFqcPYbBwZopwVxxMPrPlxAAAAFAGeoXRH/wADBpQR\n",
       "gBNLluiU7BnkAAAADAGeo2pH/wADD/aM8wAAAEpBmqhJqEFsmUwIZ//+nhAABfSktSh4ApmsFk+Z\n",
       "NLKkdC0KL5ud/2WzaCDLdUvER2IHjwIkOpGpEQNBWFtfat4Sbhv4T50Du4tiwQAAACRBnsZFFSwj\n",
       "/wAfHcghOuqAC1HYpfi2j014LlCfs8qDhuTOebkAAAATAZ7ldEf/AAMTevABNR9N41pnkQAAABUB\n",
       "nudqR/8AAxA8vABLTtacpbwnxMAAAABfQZrsSahBbJlMCGf//p4QAAvrzowDRu4Wjf61v7PQ2cCi\n",
       "qwdAX2xmEkIN4AuNhVmJcX2f5MUXXMK+CdyfIwmk8d3c+Zo8qKjMgdSrI/w8xEkdT8LKObAVzycS\n",
       "dd+NDugAAAAjQZ8KRRUsI/8AHx3IRXmGOBJACMi27InLNgLIuM7k6yJk9CkAAAAeAZ8pdEf/AAYc\n",
       "EULuKAEY7hfBN9hErB5hVALFhVqAAAAAHAGfK2pH/wAGIF4EAHBE5sIWPv4O1ftUevuFqcAAAABj\n",
       "QZswSahBbJlMCGf//p4QAAvr+v4BCPXEDqTMyYfFlQ95FbdbsWN+/dvXOYvvphqsN7sU8oak5xEx\n",
       "X4V285RHfpvbG/z2JayhlnTuEHSlOHdTgeTN68kYjAUD41J0685NVM+BAAAAIkGfTkUVLCP/AB8d\n",
       "yEXf4HoAWtX6XAPn0f249g1OirFAtYEAAAAPAZ9tdEf/AAYMBgmyV8VNAAAAFwGfb2pH/wAGH7Hu\n",
       "JtcaXABdAi8+/qPyAAAAYkGbdEmoQWyZTAhn//6eEAALnpc4Ace2Hi0nCMl4KhQiPEeLqeR79xGX\n",
       "lV49eYnVabPX4IyAMrKk4EYGx9ddSNc8PPdn+obXrkaYP3vNH+F/sFxNbikixdu/ZE4wJkQxq1Xw\n",
       "AAAAIkGfkkUVLCP/AB8dyEQd4AAF1EBgy9qG3x04BYaWUZOIHUEAAAAZAZ+xdEf/AAXjCjcWngAn\n",
       "WDWUmsLYczBcGAAAABQBn7NqR/8ABf714AJqwJAWcoxAwAAAAERBm7hJqEFsmUwIZ//+nhAAC5ut\n",
       "k4VwBD410eQSDZxdh+2oX163kyxAE955/cOiJdsGttX9N47Z1RSVazX/8xHSDPj5gQAAABhBn9ZF\n",
       "FSwj/wAfHchENsw+gNrlvDyj7lgAAAAMAZ/1dEf/AAAMjhaFAAAADAGf92pH/wAADJSgSwAAADhB\n",
       "m/xJqEFsmUwIX//+jLAAC7Z5vABUYkGVL64+5W/9lJzb8ReS0T86vzfSd8zZJwhVe5gf/0aNOwAA\n",
       "AB1BnhpFFSwj/wAfHchEddUAFxYBXdER6Qy8fUKMKQAAAAwBnjl0R/8ABfcKi4MAAAALAZ47akf/\n",
       "AAADA7sAAABHQZogSahBbJlMCF///oywABdst0QBEx5EU+zQ1G4vsPu1bez/Jgyt91BFZKgzDg5B\n",
       "NGmzILMeByaUxDHVSfcuIN312BFRglcAAAAhQZ5eRRUsI/8AHx3IjG6CtpwgBo1ZCY61cfD88nTJ\n",
       "kAusAAAAEQGefXRH/wAF9wqO9ztTuFqcAAAAEwGef2pH/wAL9J0PDEewG3xYVakAAABFQZpkSahB\n",
       "bJlMCF///oywABeN8fJBo04AOLRPNNA3ULusBHCTDCMmFzi9vlmrztmPjFfs5f67159s9TY1hqH+\n",
       "RRZMpU/IAAAAJ0GegkUVLCP/AB8dyIzjVQByhnn05h6mvEcDpVZ6+027YyYMn1pdYQAAABwBnqF0\n",
       "R/8AC+sy0WACPdjB+YrpfwevCGOSTQq1AAAAHAGeo2pH/wAL8LwIARgJdngSnHDGKv2qAWLC1OEA\n",
       "AAA0QZqlSahBbJlMCGf//p4QABc8r44Aq3OF0MBRz6zn6H91LCw5AknrvfB4NC+EDKsVnhYyoQAA\n",
       "AGdBmslJ4QpSZTAhn/6eEAAXN1xh9+AQj13OxrEbzuTPwRMxMXl+ynzM7iQWLLJftkjyUsIWX5KS\n",
       "zaF0mDl/dg9okdrBRkVNUitOIEAtUL2l2CMPJrau3QBG9dlXWAzj4y1s4Ft4u0ypAAAAJUGe50U0\n",
       "TCP/AB8TKspea6v4ANaFFJW/gMukDA/8OPphKFE6xcEAAAAVAZ8GdEf/AAvoEP0u1ydCgxJmhSKA\n",
       "AAAAHwGfCGpH/wAL50sAgAt4tvPm6cSsjBJjX42+yWLCkUAAAAA4QZsNSahBaJlMCGf//p4QABdc\n",
       "EnaHgBQbWNFb9G7bgjwjZIdh5jgxwir/gjIMV0Mul8ePAdOCR8EAAAAiQZ8rRREsI/8AHx3IjCsY\n",
       "bcbF11gAc4/kADyf+iUxpqntKwAAABcBn0p0R/8AF09LH6AF+Y/8Co4DJPAoQAAAABIBn0xqR/8A\n",
       "F0T+BQ83jb4sKtUAAABSQZtRSahBbJlMCGf//p4QABbN5zK9nGJOQAOLQsadKC/KHm2X53C9mS7+\n",
       "t+iC/uKUHlnNsZJuovoM0NTaK9+3Z3ETMCzb91hsh2xdcYfvQhhpnwAAACZBn29FFSwj/wAfHciG\n",
       "SLFZmwx6gBGRsOWro3YSg2OWQfCY0yVcqQAAABIBn450R/8AC5rfMCMdgNTuFqcAAAAUAZ+Qakf/\n",
       "AAubyY2UU+hsQTNCkUAAAABLQZuVSahBbJlMCGf//p4QABaoE+r5DzzYBB5W/bmMo3uPPKnQcLcA\n",
       "UEUEw12A4Lpd3e11sYIud+qkWl312n6dcbwihben8FB5tzPhAAAAHEGfs0UVLCP/AB8dyIZJ32qz\n",
       "FV2SyYQynusdPSwAAAATAZ/SdEf/AAt+dKVbBqqsb6AxIAAAAA4Bn9RqR/8AC6KAGQfeQQAAAEFB\n",
       "m9lJqEFsmUwIZ//+nhAAFqzj3AFBtmndA18FzocDvxZ6W6/2D/xQHCE45wGunqdxwQ3HNEXKDyz7\n",
       "xxEGm/JiXgAAABhBn/dFFSwj/wAfHciILMRUZwsh0s5ESMEAAAAPAZ4WdEf/AAs8I6BlM3tPAAAA\n",
       "FwGeGGpH/wALZ+8wAaWWHVvwGwZTgHFgAAAAY0GaHUmoQWyZTAhn//6eEAAsbe5OQaMAcmxbwKbI\n",
       "gSkbqjb2k+qTbmDARDM88uI2M2zk3vYLwa2Nta4Esq9TCRz1g4qnWuLo5FdyELWAROUnf8kZEzMM\n",
       "VoqimQByJLhCvcf2uQAAACJBnjtFFSwj/wAfHckImJnW8CiSAEXwdvycWoaGMaJeVIrAAAAAEgGe\n",
       "WnRH/wAWvhJDG9QgR5t+YQAAAA8BnlxqR/8AFnB85McPnIsAAABzQZpBSahBbJlMCGf//p4QACxV\n",
       "hNdZ4BNfVqmHQb9LhyI4sM8DKJjFpwWHLDUyCpPPdXU8ucVVGId5jZve24pIw0H24mejQrtjrW2Z\n",
       "xnpZZ/aa1gFWH904M4xETIA4o/873wdrlHC/hbq4TsONPB5jNWi4gAAAACdBnn9FFSwj/wAfHckL\n",
       "f4HoAbaSLmxD7/xXhEi3nKPGHgwCnRVif8sAAAAdAZ6edEf/ABayCTAC1pJuPasKjEaw4obMsliw\n",
       "pFEAAAAUAZ6Aakf/ABaeDSGtxhxHxJmhSKAAAAAyQZqFSahBbJlMCGf//p4QACw5gYAHRQdH5VXG\n",
       "hHhgEatdOe4TlxybbMdgbLxPzrnwg4EAAAAYQZ6jRRUsI/8AHx3JDNsw34Da5bw8o+5YAAAADgGe\n",
       "wnRH/wAWIXItb7pBAAAADAGexGpH/wAADJSgSwAAAD9BmslJqEFsmUwIZ//+nhAALDjccAktXQ92\n",
       "7NBJ6P5TU91nYzzcdd50UAdRbfXUvlT9XxRH236rWpdfSk18PyEAAAAWQZ7nRRUsI/8AHx3JDFm3\n",
       "MP1oZyEtYQAAAA4BnwZ0R/8AFrFyLUu6QQAAAA4BnwhqR/8AFizWFMPFSwAAAERBmw1JqEFsmUwI\n",
       "Z//+nhAALDjtKAQPnBaPCc8uZWrKCBQBYrnpNTGt3MfLHdFrmmBwCWe4UF+gHUZNsMF5I/Ojbnwg\n",
       "4QAAACJBnytFFSwj/wAfHckMWz04AG0RPqcb/YGFb/oZB7Q85KKkAAAAEQGfSnRH/wAWG/zhPDa9\n",
       "d2/MAAAAEAGfTGpH/wAWJP7+Mjp3T+sAAABYQZtRSahBbJlMCGf//p4QACtN1BjAFCT63a3rG/z4\n",
       "w+ruHmNjOLCLKbFIevcZIdTNFKAziADfc7Pq7YbfP5xiWWsdPW0MozulKUNgSHTS8uO+Fy5NjGrR\n",
       "eQAAAB9Bn29FFSwj/wAfHckDntYbQAjnOsFVIA6/ZH4ImdDrAAAAGQGfjnRH/wAV/QhuwAJUHg8Z\n",
       "SmcI9WFTQMAAAAAOAZ+Qakf/ABYk/l8UQUkAAAA/QZuVSahBbJlMCGf//p4QACssedTKtgC2OlXl\n",
       "TNd7xXldPkWk4O466mHK+kPl/DrcfSj3pxRTkL4TuScYacJfAAAAJEGfs0UVLCP/AB8dyQCat3XQ\n",
       "A1RsJGO4OY8l5wDJhCOdxe1VHAAAAB4Bn9J0R/8AFjmOABI62DuqrZrFFb9PXrwq0X3CrUAAAAAU\n",
       "AZ/Uakf/ABWiCcntXUtFkmaFqcEAAABXQZvZSahBbJlMCGf//p4QACsQPi1IIHXeAOUUVZviaB1t\n",
       "2kSkMo5/x7MIXyd8PCq0pnbKPIres6mGRX1QKc6uIPE38jwk6nVxz42xjq/VMm2FRRu1V0M+AAAA\n",
       "JUGf90UVLCP/AB8dyQN/zKgAud4kUQLxC3kqql0tR41nN4mckFEAAAAPAZ4WdEf/ABYOpCUkBGgZ\n",
       "AAAAGAGeGGpH/wAWPOMAB+iz/N4aa66RMHhHTAAAACtBmh1JqEFsmUwIZ//+nhAAKiVlR0PnAAG1\n",
       "vBanMFAd6aYy5mZOWQf5ELuBAAAAJkGeO0UVLCP/AB8dyPi7b4FwAKLlJbKNky773P3S9CnoYKoq\n",
       "Szi4AAAAFAGeWnRH/wAVaV2wLbi2GGFO4WpxAAAAEQGeXGpH/wAVnNYU1QZTuFqdAAAAL0GaQUmo\n",
       "QWyZTAhn//6eEAAp9N+BgBsTNew+vfALaYtUrrgaeocSyRoAi1pdFhvQAAAAGUGef0UVLCP/AB8d\n",
       "yPzdtnUKeL8BoUrHUdcAAAAMAZ6edEf/AAAMjhaFAAAADAGegGpH/wAADJSgSwAAADdBmoVJqEFs\n",
       "mUwIX//+jLAAKlr23AC80byMCIc3SFlrue/6aooEnyxvsO6FkrnPSZjMWKD1wwypAAAAHkGeo0UV\n",
       "LCP/AB8dyPiY3fy4Abq/pSCyho3ptLC7gAAAAA8BnsJ0R/8AFZFyLYccugUAAAANAZ7Eakf/AAAM\n",
       "b3nsKQAAAEpBmslJqEFsmUwIX//+jLAAKlBYK9RO/vAEI8XiswLbV5ixkkp4eedirF170XTrSTeD\n",
       "HLxmiHI02qJcB7GGzRKN9K1IP+vgohhlQQAAACFBnudFFSwj/wAfHcj7nD5+N/ABra+j71BzSiqj\n",
       "kL+A0LkAAAASAZ8GdEf/ABWHJTjz+Q5TuFqcAAAAFQGfCGpH/wAVTOphfcOyaJvGSeGFgAAAAD5B\n",
       "mw1JqEFsmUwIX//+jLAAKlnm8ANv0tRHiybQmyMno7UOHwo8vdZ/eoQRHIAGKkH3HnnbXyxlx+yU\n",
       "Uj4JGQAAABlBnytFFSwj/wAfHcj8V92qXilZNKX6x09LAAAADgGfSnRH/wAVD0Ytt4RBAAAADwGf\n",
       "TGpH/wAVAUemW3Zx5wAAACJBm05JqEFsmUwIZ//+nhAAKOtwuBZwABbPXfzFGBuEqIMXAAAAPEGb\n",
       "cknhClJlMCGf/p4QACjTHrYAV2e5Pysqn8mzH+C1OvKw/jVCsO9OfxrQxi6CQapoKyoTCAvmHCwY\n",
       "sQAAAB5Bn5BFNEwj/wAfEys1vaVABdRk07RL0WTeBnniNVcAAAAQAZ+vdEf/ABS8vKvsqrjxswAA\n",
       "AA4Bn7FqR/8AFP9tXY8bMQAAAEBBm7ZJqEFomUwIZ//+nhAAKQGCelOAEVjO8exsUuO/VHbUBxoA\n",
       "fRbGpX8+TvTV5nHNV+J4NegyThKL43nn1EGLAAAAIUGf1EURLCP/AB8dyPPrU+XAC1tAMXxuP0Ng\n",
       "Lo1o2gESuAAAAA0Bn/N0R/8AFPQeuQ/xAAAACwGf9WpH/wAAAwO6AAAANUGb+kmoQWyZTAhn//6e\n",
       "EAAo2s/3AFMeSoOfFWz3W5vcpkW7qIdOY7dT/bUjlGsGTKMFhEGLAAAAHkGeGEUVLCP/AB8dyPb+\n",
       "y4ATI4Y/ac1+7I4bkznm4QAAABMBnjd0R/8AFR/eYAH0mwl28RgwAAAADAGeOWpH/wAVBQAjBwAA\n",
       "AEVBmj5JqEFsmUwIZ//+nhAAUbIsgByyx/ngYC5WsEKl8uuMQ2a9HhYgQfyHnFuf2zFg09T20kpI\n",
       "LOgtDjukxHA+YCuzQ44AAAAgQZ5cRRUsI/8AHx3Nm9hTnsgAJaXkOh64bCG6mQxOMgMAAAANAZ57\n",
       "dEf/ABTAfOQ/wQAAAAwBnn1qR/8AKhmsIYMAAABCQZpiSahBbJlMCGf//p4QAFHYsqPAABQR1KXY\n",
       "K1Igfks+8jhRufzy43GoWXxDdFbG3eH5RouTuOSrjEaxlJfD1AHHAAAAI0GegEUVLCP/AB8dzUfQ\n",
       "an0ALcBYOlKLJfmiL0UMpkMTJ6FBAAAAEwGev3RH/wAqMxwAJXLbpzXEMGAAAAAWAZ6hakf/ACoL\n",
       "3MALIRqzXz9FTWBKwQAAAFxBmqZJqEFsmUwIZ//+nhAAUbNB4A5NSduejBSb68L/Y9tpMlXnk89R\n",
       "Ucx1rK+3tmOIeklsL8sWcSFRvFgeoYOCRR5/ZoNH+fO7x1jcNDDl3wnt0xP5vvkK10AoIAAAACJB\n",
       "nsRFFSwj/wAfHc10Oh+ACxIfAO3VjfkTVNgqNaS1Zi6xAAAADQGe43RH/wAocI6BRv0AAAANAZ7l\n",
       "akf/AChwjoFG/QAAAERBmupJqEFsmUwIZ//+nhAAUgwyF2AL8WBj7Tl6wjAVacD8ygFylgo1OD5I\n",
       "LOgjKp+kiexPR5RrafwBL+HLSEQ8Z5MFTQAAACFBnwhFFSwj/wAfHc2U/aAB/LEAuQ0DxpnzyOcm\n",
       "Fhg1dSAAAAANAZ8ndEf/AChwjoFG/AAAABYBnylqR/8AKjnGAA/iVH4w0CiGaGGLAAAAKUGbLkmo\n",
       "QWyZTAhn//6eEABPyvSZurIADsjcXyWKL57tbTMCdIE/JEGLAAAAGkGfTEUVLCP/AB8dzQ2OQkeJ\n",
       "A48Xel0rO09LAAAADwGfa3RH/wAo4JmkSk+KAwAAABkBn21qR/8AKNXUUJz7ABwyCjXdyDNZ0PTB\n",
       "AAAAMEGbckmoQWyZTAhn//6eEABPXR9oKY2YAEZIHlqzONuCeNlnMnu+BmRCz9/9SQsHTQAAACFB\n",
       "n5BFFSwj/wAfHczaw5NZgA2/BFb8jrvMtkUPO2/q24UAAAATAZ+vdEf/AChdoEfoLq+ZkiDoxAAA\n",
       "ABoBn7FqR/8AKRnGABLVP5ba+kdpCaFN3slRiQAAADxBm7ZJqEFsmUwIZ//+nhAAT3VVOAFf1Z5g\n",
       "tKqlEFpMaY4gyl0S2ePDSZ/6yidhq/CX4GXdr5hrkzCwdMAAAAAaQZ/URRUsI/8AHx3M2+XjnCIQ\n",
       "9iBFQ2vDu4oAAAAOAZ/zdEf/ABRxci3bukEAAAARAZ/1akf/ACfZtMiN0pVf84AAAAA0QZv6SahB\n",
       "bJlMCGf//p4QAE+YhU2gCt+SxGYppTrScu0evnwLCPPwruBV/L7Tuw2b1TgpIQAAABdBnhhFFSwj\n",
       "/wAfHcy863tv7jO/AeDBzQAAABABnjd0R/8AJ8LuNWyjctmBAAAAEQGeOWpH/wAn2bTIjdKVX/OB\n",
       "AAAAK0GaPkmoQWyZTAhn//6eEABPzyvZKAI95mf6DvmRcNQmkJ2pz7oiJ3Fg6YAAAAAXQZ5cRRUs\n",
       "I/8AHx3NHckqDheykiTG4YsAAAAQAZ57dEf/ACfC7jVso3LZgQAAABIBnn1qR/8AKFnZe+VGDma6\n",
       "F7gAAABCQZpiSahBbJlMCGf//p4QAFGx2lAEan+s/7W3ZdLZN5pF1AfEiDBP00yvSt3SNLmfBbmb\n",
       "l74uYzf9zzalCNtn4OmAAAAAG0GegEUVLCP/AB8dzNfBKEE/92KpEPO9jy3sUQAAABABnr90R/8A\n",
       "J8LuNWyjctmBAAAAFQGeoWpH/wAqCFNp4HqLDgQE/i+0QQAAAGBBmqZJqEFsmUwIZ//+nhAAT9uo\n",
       "MYA2E8AS4kuR2SkPlTPbzWMGHVXy3wu4ruQAcyXmf2zEfhmEMKlgJE1egVpqwaonxk8CWjKzNwuT\n",
       "fqHBf2T5WOYpxpd37HkZjrKpwYAAAAAbQZ7ERRUsI/8AHx3M2ZRjDSdwFi3ZI9Z5b2KBAAAAGQGe\n",
       "43RH/wAoWxcAUAE4vNhOwH2m4czTu+8AAAARAZ7lakf/ACfZtMiN0pVf84EAAAA3QZrqSahBbJlM\n",
       "CGf//p4QAE9yldAEPb6C1Q8aygh8Lzg/mQWfTB3+Qg7KbPcRHj5+lSV/3OgR8QAAABdBnwhFFSwj\n",
       "/wAfHcy863tv7jO/AeDBzAAAABABnyd0R/8AJ8LuNWyjctmBAAAAEQGfKWpH/wAo6ae574mmI9uB\n",
       "AAAAQ0GbLkmoQWyZTAhn//6eEABRs0HgCJDboBn2/M9pBILcuI+HH94pb5YQTrCF56WXknMuFodM\n",
       "ZtolzHUuIP6C18eK4j4AAAAZQZ9MRRUsI/8AHx3NgH8qm+ltfIbtAt2i4AAAABABn2t0R/8AKOKT\n",
       "VOLmaWxLAAAAEgGfbWpH/wAqGepxQOzTOpsFWQAAAEBBm3JJqEFsmUwIZ//+nhAAUbVVOAEVjO/5\n",
       "9k++z56KQZHsFv8jzGRGsoUoO0YcsmrFpd4k91/r9U7a6pdsLBxxAAAAIUGfkEUVLCP/AB8dzZys\n",
       "AACdQZPStpgwulXvubTLssYHUgAAABABn690R/8AFDpt8HArHFNAAAAADgGfsWpH/wAqChBHseVN\n",
       "AAAASEGbtkmoQWyZTAhn//6eEABT83vABf7dAuN30HhwRU1f9jdu4mrRYBA2WzhSwkcQuK896i88\n",
       "zmTWKLLoUSq92jZOX9RvtUGH+AAAACNBn9RFFSwj/wAfHc2VuGwAmkWA8rLPjq5P4MEJEsu5Yzu6\n",
       "YAAAABcBn/N0R/8AKj+8wAPJSm9YpjqVdBIP8QAAAA8Bn/VqR/8AKxAlTIWeeZ8AAAA5QZv6SahB\n",
       "bJlMCGf//p4QAFG1n+4AiQ3DW5fMKHLCPGUMXHEDrvVzRk1ii0waFhGwBNMNvcP3FR3RAAAAJEGe\n",
       "GEUVLCP/AB8dzZW6kgBZITJBqKSX90LI9zj6gYEJIKmr0wAAABsBnjd0R/8AVD0Q70RABp2gH2hz\n",
       "YYjfwZNCIcAAAAARAZ45akf/AFQUAInudqdwtTkAAAAsQZo+SahBbJlMCGf//p4QAFG1n+4AiQ3g\n",
       "s+CVNbVWD+XvWuQKn9+B/9JUIdUAAAAcQZ5cRRUsI/8AHx3Nm/v44WsmcG0moaxDuUaG4QAAABAB\n",
       "nnt0R/8AJ8LuNWyjctmBAAAADgGefWpH/wAUfNYVKwnLAAAAPEGaYkmoQWyZTAhn//6eEABUSzOv\n",
       "Y4AKug/+nZ1jB3ywX60tqmXsLzMDT4RwHbqf627aDvIQapssI99RlQAAAB9BnoBFFSwj/wAfHc4q\n",
       "LAAAuohmDflBqDIUIe2o+BCRAAAADAGev3RH/wAqHoxRtQAAAAsBnqFqR/8AAAMDuwAAAEFBmqZJ\n",
       "qEFsmUwIZ//+nhAAo7lg/XaszTt3ud+Z3cn3hgCKob8iIgARZaSHmBE19Qd3JEfjWCPDNP49dnNG\n",
       "xeACHgAAABpBnsRFFSwj/wA0P3nyxQYjgJONOXrMOOnA/wAAAA4BnuN0R/8AKyLkVZO6QQAAAA4B\n",
       "nuVqR/8AVDNYRQcJywAAAGxBmupJqEFsmUwIZ//+nhAAp+NxwH+fcLS4wB+c3IKWJgJiYSjPMF8m\n",
       "mH+vY0TkraQWzeMPW25RKnLWZkuNuLD8F2N1FSLrMv0LpU6S+vTLw9eoZ0/ROnyp1ys3O9B6ymkE\n",
       "ffqdsLHzmZ/jBF0AAAAjQZ8IRRUsI/8ANhMKOhr81GlzNAB8BvoZ+wfaSw6bvv4mJaAAAAAVAZ8n\n",
       "dEf/AFQ6MBQCkl6Hg4BEpTETAAAAEAGfKWpH/wBWSKZQeilowwMAAAA/QZsuSahBbJlMCGf//p4Q\n",
       "AKfQcP+plkkAcUZ2YE9KQ1YA8ydoRQZmc2OhdNjiFCV6Jrww1i5ciM1YvY/fOCLgAAAAIkGfTEUV\n",
       "LCP/ADYFT71ekXAAtBgPYhdSADxLAx4rKGnELqAAAAASAZ9rdEf/ACsik2uDtqgyTwYlAAAADwGf\n",
       "bWpH/wAADG/MyTxaGQAAADJBm3JJqEFsmUwIZ//+nhAAVEwMa7YAvCBlk7vrV8XP7LZYvEgTw/OC\n",
       "2SKbeAvs4uLBvQAAACBBn5BFFSwj/wAfHc48doAJSY8DYPUHxQBxlwSZPjPNwAAAAAsBn690R/8A\n",
       "AAMDugAAABMBn7FqR/8AK1nGAA+VnGfLiF5BAAAAH0GbtkmoQWyZTAhn//6eEABRzD9kAEF80Pfw\n",
       "9iZRAxYAAAAVQZ/URRUsI/8AHx3IBMAjOB9rw76OAAAADAGf83RH/wAADI4WhQAAAAwBn/VqR/8A\n",
       "AAyUoEsAAAAgQZv5SahBbJlMCP/8hAASzzp4AIPIaXhbrxc3Z9lYUkEAAAARQZ4YQhH/AB8dyATA\n",
       "Izjdr4UAAAAOAZ43aRH/ACoZrCUDmEEAAEHoZYiCAA///vdonwKbWkN6gOSVxSXbT4H/q2dwfI/p\n",
       "AwAAAwAArq0zP7xY2GoCBFxTyV8ddfDJZje4Q2CPgcqffLU4GBJ40+qzkKZ6fPulPcpdmG/MDq3n\n",
       "2Oevl8hJuR8gABNUZaxcaiNX9s21DiVEEqNN0L8nZ4IO+Kt0kDgmUwshGGSQPRw3+qThsEept+tQ\n",
       "eDcwZ6+pKapNS+3bOs9iQZh9Znsqe5kCG2kvhAryzr/o3IMemQ6Yx+vOa2vYNEWiA0cQb1AkWtAG\n",
       "e40fi5QDh3WPt4E6ys+WCYdP9oVMrn4y/ywAX79OMvls+xRUhMDCoD59ygAc6AHEUKn3NHBOHgYX\n",
       "ilieLQrwEW+46e31T1evFHp/BUuMKn9VMDorj2/evjCsjrXuZ+J3/dk+gdhj92ALlu2GQIe8uZTq\n",
       "kKmnqoC09rkv6vMc9YUwnkDIpF2Lfl/hZpO5IonyOn/TIbiLAznufSDFVgXb9q1hwwyXhsJMWZps\n",
       "VJKiRCTI62lzx1EWDYU29qDYJI/kNucaz4fbEzD7Y9Jz8MoN2eNiEJrqk3i8LD0HdLgJ1IZ8Z59U\n",
       "Yb2S5uFp23qcfsQAYTnDNngWvL5/gm5SQ/E99M/GHYGjljhuMBXhul8Y8Cry7uhiNREZaMlMADKM\n",
       "X7nQ0mx4yT39u3a/UIOzBEZMXWausgDAP70FjnFKxjaywAk3BDwLuTQcJP9dR3hmJMLDyIuB07wR\n",
       "ZA7hBIpnloehHePGUr9gAfWA13qF4h2gZBxzTXo74zpcBbL+cllowHFCADmL+jl4UzHM3JLuTIa+\n",
       "BAodxPFF1RYgiBN9uRoxrYnScY8hIGFFl/25q3ULrwiNkQ9mUmehBZadKpVFLPLDjKqq9VTuvfym\n",
       "InaCV2r5eT7AHAvmwg6Ca0LRlfy74i487M0cuJw0cZuhChiUOaj/lOncrOIUKvkGoswMKczTeSOB\n",
       "hqjQ+Cjl2QvWmc7MPI3WLXRIAHFdzJButMLBy0u6ggR3UcpYX6b0fNzEwt8KKnXG76t+zgOtayaP\n",
       "nLQABvg2STSS1Rt3ZiMfcG/LCLwoMFzwDmsvIIaWUvuAVF97nVQ7i1FUdv5RlVUwr/5EPFG0kPU3\n",
       "fydgwPBjVu5n6SlNKA8qLSPIo8KacxKpgBHpL3dpKKdbY27PFA/XGpgi/4FtBtTM6jcQl2uOMS9E\n",
       "PQD1mPUMCGTvY0suDQt1b3A1FhfZbdDg414fsJ5xmiA5XNUxQXLwBoTeqnZHB/xmqcDGKBfzEsyV\n",
       "kLfiY8IlEq7VPFFM7gNk/0A4jcQn+wn9OWlQtDx0W0eqDts9v95q1e+RkG75EnKPSQp7SiuBZNp9\n",
       "hRwrb8RWyNCarM+Y5F56LekTPbFJD/1TsLjPNhfrnFb8KnGh+EO3BY/4ZJqzXZBYXGwR1Es+jHk+\n",
       "WtW/LYpRYXeMKsjSKNvKNtm7mFDKTJCAtnpKgRzA8zrMDlTjCQktuODgC+J2MghOBvZvqpF7MgQg\n",
       "CfUOwVEl/tFD3TUZmbZ4WbFywQ6CYbEbSWCq2YWiiJm/h8GHwRYLWOB3/ogiVR3ThwoBko7SrxzZ\n",
       "by7lctKwl1ZJS2s440L6Cq3Pt3wUbgWvF7N/MvOCWEHFd7mHnlx4bm5YoMJhTxHeEOYwqUF9JJvo\n",
       "O1tZkNJAqcL/fo6w4eMshpr2+gd7jWk3BaXdhvm/V5zI+XhrPsD41v4j/BQ3UHID4d5h/0sAMtzG\n",
       "Z5YIrbpTsv5XEY6pmgr3nVQZJkMzpjvXY0DNs2rrKDk/yLx8jlXtHPuqBu99toSkJ4HXuz9XOuok\n",
       "NZ/EZVjgFoEoY/V27oU74WT3TSU7Jx073agqsYjaEE/Zoi+5V8NUuSd9FEbBfyZ3K0xEdxBkplwS\n",
       "j4IP37AopMQc6nv82vHkfnp7h4Gtboeks1rQ4fhR/XUXYSzRltL+xdG3oJlm8Z8dxHCG5luMCJz1\n",
       "YBroSw4ka3UZcwqyL/BRrcBZh+faESo9CY93UcvqbywNEZC+OgVtoIt4FWHu4gM4Zjp+nuL4ymoC\n",
       "vmoXtitR6JGHbAJCgcVaBeaFXmII+ZvTvtQvgGeB4D+N+NNKBi1UOwG2pFHbwg0JWTP1Yd+gZi2d\n",
       "fI+VkW3qkhMwY3s/xV4ZdOdkgkCoYwsiwNC/i6LTtC8TM4LjIkEXii0Q95Pd19sdNv6qrT6C6AS7\n",
       "oYksGfi0DcTUZXb1M2TEbLF9YyCYOMpQGTttgrwDIVUpQYvRDMxpnF6W2cesAmY51neYDi9BwXGw\n",
       "Dtqn0bXcZmA2bLAQ3HsNLtVPxv6/ko+zf7k2MgBuEiUx6KAqcVkRbMi+0xKn5BWFIrY5+UNCNm0E\n",
       "C4i4gis6sPa74evxtLsCt/YHeT8rLqvwGekJdKHtEN05dXHmmxNYqkR8XqHUxmNXnj1Rr/l+J7dL\n",
       "y96t9HM4FgdUdQOUL1J1fchg8vEq7RoKtuUpl/flfMrui005nlaeeijNHO68ydhD+iOflS/GqDOP\n",
       "eBgW++++Z1PsWusorPVvGoXtcGfvc8geqm8C9SCyW4DnqzvhcUxlPlWIZda8BYi0dQSSkf+wloSG\n",
       "J+CtPNAVa5IhNC8/XV74lrzWasp3ddqRqrZaGyyYjkqJLSLJZToyuP/WOIkWkg1vVZZpHXa7VSIq\n",
       "XHYUzpLzGYNjtUkQoRKdS94tooWFTn64ooZBbMIcE9SXeknENzEu6tyu/A/wKapjMAM9m3gJ27i+\n",
       "ct71A06sLBx2qnrM+vJXOZmv/Zh0nmvEuNG28e3IJBvbyQ09/U+K9k2y/RNA9Y+9zV7Ck6HHah3z\n",
       "iyTpSKJN1k1rhnNigVPNs2jslDml5SwVcalM+L+H7fnWhGJhOlYbJ5g9+mRbHaGiU5TAequ8DOlS\n",
       "tC3ZmjtRbFQe45DSfmINmnkhw8aE286uG0g25tqN22a9SfNNSVFQFV3xNj6ON5g5OX2/yy6AfNCE\n",
       "iJu8uQ/bg3RJuKJ/lUCvlqsuUJ3x6zfqS3gAgHu8Wsq0uMdFDF0AvOZ9j/VKQESEjYq6AulT/BDV\n",
       "ihGGmA9Fs7FkGa8SIbUbV2rAPZ5rAQtbr0qZyQ0UXas1cEKgyIqrsYy2slObgb3m1ZeK1DlzFAKl\n",
       "6/WO9LZ1hrE+I81bSQ07gegm0oi3Cm7Yf14obMYA+0cAjgpvqsP3y0reFjWAk2N9KcMDYz3BaUwb\n",
       "TeFJdH7NPDLhPIlTcBhXoHM9APHFDB5N5A/Fnivm+lt4khKwTU/eyYmvUVDcQYkBFtFR7rqBHHrS\n",
       "Z/BsmSAAjdbZ6PJHMsaPPSlUoL6EXCmMDRX6XrNVg2MnofrvzqgxU1PLb3msdZWEBgL5O7VQD++m\n",
       "vjmUl8XbD/DucctwcoR1CN+N9cjetXui7Da5YWr180lvgTSKjDOANdGykWp64McZG+EUQ7mGJ7Fo\n",
       "wqWorQdKa8YRnJWppEsUTsgyp3onvJXurbZ2Nx4pJLp3Ym/UFR6YvG90mz3L1AuvhtCm0cXKhIHj\n",
       "HC6ivo0D5B8noH9gvCDT2L+gcPHfQdYMQ46kHpPmLceNpKco6EZ+M3Je8zeUOEczYnZvy6smh2uB\n",
       "dw4Uzm9AKAS9vALYR3EcwCt+Jr5YRab+/gh2LvbdtQKUA4aTw5CbvjSJAa+IBgjZtXwQvzuZvAQ0\n",
       "G2/cMMlJRNLX4G2arwVrg/VqduLhLJQQRDPT9BE3FtZ+2ZU8ylI07jvvKYxF87mccdikKsR9Yew3\n",
       "bm04q492IJ4374Za/rDO1cuX1ErFiwHYcdrmVePFFlSefeNU+Pfw07TfCnY2I7bmFmSZrMiBGVtq\n",
       "ntnxQuSOhVSeizOPUGrtsP+/8DMH8zE8gMSLyndcO7/C1cDwOoU5SOpy4kpJPJXFi+dl6tSwpt/y\n",
       "j24bDBImrIyMZImfL++pNtt8SCXzq+4K32OfbxzMInyYUBERzO0tcv2pbosVJWzBLSbC3RkkHaI3\n",
       "xpjZRioQ2TmLV2kD8z97H5obGiU311qm9YbhSlqIfx1JQwMEcU2JtZkLMLfD7vIVymzCrPQDm3i1\n",
       "DVTxWNbn6DGx8xJOXQtAysi0twewrpRtNsW9lYgBzV4laaYUpfOQaKZTMnXptoMRTGGHIVu9nDC8\n",
       "jz9T4OFwXmPq5Uv9CXUgaFaNEPcy78nNsIvMqA6hPpiUlNB9W3Z1C3EhsF0Ga6ivDdEHWcdk4vF+\n",
       "6AE+hi31Qqmqzuu7EWqcg7YDtxjq9KDX/IGdLnUKo2bggplGhxsGex3GmCRSzj12hoEqBPXzNgqM\n",
       "J6pkHzSydSltzGAsn4rs0Jo3XcBb6rl3gf3tUlWBd+ndAt7t5JVW69WHLkAmamxk0XzyJi7C0aqh\n",
       "4F1UrCzEi5BhsFgJBdk4GnLgXrWMlCQxc8HJWHB2Z7RFmJqVxIwKby9mRirmdYzAEIqhdVUvMbjR\n",
       "a1E+n1ttWjzHiaUN3xGTbHRm4a04DApLN2uKKk0A+Rc3u474rGemHZrvnq62nkEyAUr8SPdJIXYp\n",
       "O5z8vhVBPAwivZqLtX8Oa6he7bJzAVT5nY1M5UDPzr9kDdUOt2q5Yl3tbZEUxpQ8q0HF1Jizh002\n",
       "H5IWvt7VsH4iMpA+g7fMizH2uRUOvgwWyoQkFuoFQr5j8UE03sN3fize+RN4tj2Cme5L1BNWvEZY\n",
       "OlJNUinxB8TYaQZUlRZwifHjvsfDT47Eg016HDSXXHZSGHb1LdbZxt0+NcMDJjwk1LCdp+bOd8wi\n",
       "fMkt5Y3L+7JsYDxTF4or6yQMbM/MR8c1JlT2bh/jYcucXCntnT9RFGctEdCE0n6+4DBTOS6w1NWz\n",
       "yu2UMhx7CBKUMjnpzyhV59pWXP9fIiPasTKc4ZiBIJwUa/DbOmP4iDY6aaSJ8MU+SiZC8mAY5Iqp\n",
       "uqw/Lmf2QRLC1g+lvML1tt8po4nd+3dFWIKbSEStwQPSWzL5wGGBWIW9yoXFmjOzE6UMoH/D/VL7\n",
       "SqbQrT/axhVRwHYwMasKjhyJPJb5B27DLFM779RQogqpTYHsQWgboUEjqctHvJ7sM1GDhgbllUEQ\n",
       "d+7eehEhQmOx6ZeI0M0mgG8rjecbz47AVV2OlQYNsp+OKZO80YzPUiOsYc1icQ6djCDuOcFBiP/c\n",
       "xJ+sOGfVoQVfLAAI1xNh0kxy/23etXEP/PvO6Q2EOsVMvsxB+wBnuDsIseyFsLALHHalmMdWJTNC\n",
       "6ckxwt/+CRval6MY3GMYVEfTb0JjW4Uz23eLhRPgn7mPvgvtQ/1npecRO4uqeuVkoCb1pFONt32i\n",
       "EqtRMTE8tYHBnDTDpotQBY+AudbmR2JfI/wZWROwym+oo3KYSHZPZVpEDudWG/8uKzwU6yqvycfM\n",
       "Sc7FBdfRzurXAfR1V+w4+RFBNfqedjlq2DJTyFIhaBOMv7sFWK4exSXA7FKq8FoKTyoyrg2nS5co\n",
       "8KFwWE4NuWdKs0WuWuiTg49NtKB5/wD4lgkK9MAsnfrqx8ZDJX3xKCMEee4ETBz7MxN1BDlBZ/Hm\n",
       "YjNhUtqEbebuLqJ4O4MFkQVJhRcktw2uC6dc9ay7I2TjwKz5QEIzXEAU4LxAz+ClfwzkzKN7+nv/\n",
       "RBmaYBj7dtKOb1V8sPYZrTID142BI/yDkWYjtdAr37R/ZuM9L9QdgYC6oqh2PUUJ1YLlPlfwOY31\n",
       "SdtZZTy4rfuxH+axXPK/GBW1T0WLqaZ6TweX8CWNe61mMpquAhDcn83AP2HO8kJUBmSMy7L6Av1n\n",
       "NvPnhsOqEolFESEt6MajqJPod7JT7dPMuVzYrJmGTAXwf9jOUO8oAO5vuD4Og3VYsdv+S+hSeaDs\n",
       "jsjeQ62zo9Yux14aNGHpLt+chrhtRVSgq+yyF9GX2kAJNcUtsYW1MzjuBnGpiUvtThob0EtElr+U\n",
       "MTcQ8pG2IbXZRa2428tdE4c0qQWn5sMpGHC0FYi31xFuhInSkv0aFC9zopsT7G9AGuaI+hbl3ejc\n",
       "KQplIb0JmOR21uIMiQXmljqXn/wk7xBayHz+fRELsbA6+SDYiJAGXd4VUyMam4MLCFVTyHrsSkc7\n",
       "Dl3Btf5UyCeayOfeorwXjcuhHw3ta5k7p5FiUUHuG7ZU/n3WEEZUthSEwH+gJipn+KVjULLZMFf+\n",
       "Sbdwf1o9vUUeVx+H3GkifMRCYXy3ffuarq9z3idhd6sZEfpDQvMYVUwB27fceme8NOj0ySMsxUAL\n",
       "cdgiSrbgDnELJS7CaPZpJAX41wdw4VxQfonAJ1N59nStiuwG8B5W8Bs8kNsJHV/nK14Lso3WlmW9\n",
       "o63G6BQm/DBcbCgJWNfV6nq4N1yxzBpGwnsIMizzKP2poF8KOM/TMiK7TBipixi6RZ+be7AyGB/c\n",
       "YrkMGAAt/l4B9PLVSCxyMBa1JAvtaoJT2M7RU7gtvIIWVpfY/NwtqBtSvkZ2QtR64sD8qbDjP1Ph\n",
       "ctxz43spZG2sE/9CEt5kX9FEpq5RolHIx9jRR5rBVuW/TH2ieo/YvrYl8yaEKfO0Nc8IejKj11lD\n",
       "P7US3aNYrD/6fbcBX9aLcVcPMCSIsgJl2MbwNabvNXTTg9oK/7jzaW4zo8Jyl2AAuY4Ekvu+I29+\n",
       "Uuh7JPGi+DmGhFQOV+Y8fAr+C2S9U6iYBfHy5WmjyzlH1Mr4RxmDCKTKDXSmTxAPA/PsEPLrtAHB\n",
       "0MqQsF7VD6+G3SSZApO3CCa2uYaJXcGeLXiwizY/qpRrQuFrRA9sOdo21Oa37mWpFPsAMd6Wp4wG\n",
       "HEzW0DeZChUPZCgivkRnX9bQq5UJyQ+RyDbo7UhdgryUxJ7bUAoKzMN7MorEg8D5wBk4IcZvIWHp\n",
       "LC5bpu1xWHl+FUtAXlcB9ppe3Mgkx8ck9+eLrK6aHLXg0FBitPD/3Pjhq/fkX0d4tQ44djbFEduv\n",
       "qMa5GBZHCSMG+R0DdJFQvy8nj6vs1jtemP9XgKC+qtDmebWue8EeZQqgy9KVg4qnmowwhy8MxEvM\n",
       "42ZRsDS1S3vnvoVMyv1hsh7KuBGFwJtaa/k1zYF6lXFhzFrRPNWAJdrIF4GLbnnk9iX4g5UUwe7k\n",
       "MrHJFOxaGNQqfNOuQC2gnf7loUoZ7ngV2lEg3UQse4FBmHUcM4IPxTGOvCGc9fzToO20AVJlnvRS\n",
       "mAO3xa6mK+GI9Vgs5lWIwJX0dnfgV3R7r6JoIWB3z600J1IrgeZKk/uSC8yutGx+0A16Sr1iC+ut\n",
       "ThuZFxd4vlwt1vIjzZAIUzof2RoKhgfx8sXWAVJpJs+3bO8Jt8Nw1WwIEKn+fHqPF8aqsSzRL64w\n",
       "J0kblQ6TmoRyCzqLLFuCpyMuTUixNmGwXRd5WxYEGIs0ZCnBX7sLKxAtktf+9Xv0H5mLxO1Pj+sz\n",
       "8DXKa5nYl64oJ1x59PhG65+2hAiCbx6bJBNNdF6/toOqQ+lzgeJC8ZuDeDbBr3YLIS1ldVBgjLEt\n",
       "c23hlD4+lztUAzQysnnasXsek3uzSyOsRzzJnsb4hjkNHqIhbg9FBkkeIiefGpkC+1SRs8MkSGJx\n",
       "URPyNa5LNQT4Po5Hh3BWJ3lKP662xsrO9rV/CZ5pjp4NDoPHB8Nnr7ljcKoBmijzDGpdw8K5ISkz\n",
       "ZDy9sRzaf2WcDnqxG+LrHGD6/+SLy0rk9yuFp/PHmhfm5JfjM+Hh2hGjDjRQ+/upDnbOwL+HgosV\n",
       "Rcv8x4ojhkRUgxoCWEXMRUL18PpdCo/+8zYQPw/laKxNE+/0LFJX3h+HwbFT5i9MyOleWZ+g6Yuv\n",
       "hGCQW1EL5UMCpHVif8/ileDD4VeN3k+BULaQ+D+s1+jFkjFYt+FwJMq+cptVy2BF9BcOTzoY+rg/\n",
       "Y9N78OZauFGKz4Q5+TtmheXvN2fL7zKqBMekB/OElI7ZGcXq0O0WJSM5jdBeIiem4sFpMdEPQynI\n",
       "icZrnC1Bg3jfgwGP9rMH5VnVdpTKQHUxs97Yw2+1DbUwRika7i0E35s0zApsEeA/lamcMp25BQyq\n",
       "gDcCohk6GEdbu71fqhxGS1toVDX16a+kPbdVGGA1y+eZWYuS9ZGaRGHldVaG2G0blgQLJhFTgcYW\n",
       "OA0X1Rdv7XHR8QFeDT+7BSmKhdPsv//0k3/t4cv8PCeaaLKzRhU6nGIxdUkM9AiO/Jk8l7q2ySVb\n",
       "m4+ggzZxocvMDW/9P0bFi+Fs28jDyAPJPrVHOfKjtmBhfU75+vdJ3PjZ4qrh6M3AyACACZFbREg3\n",
       "sYel8LLa493d3XO4rGhHhlS3uOSPu9mSeWUfw0K5a3VUPjKWVvoej+RIAADkaU615sDGjcubhTdG\n",
       "UpSW998X2Pk/4lnv/JYhrtp2Ci75KO0xQQ9Z0JgL/pTs/ibwRcjyX91Yt5kNSdXEt4wnFm+r5Clw\n",
       "La091ewINgtLgAXhXcYqAptlQ8P1tX2sp77vlEhR86u0lwBc6ztV442z+VNsbgVFEVLwQd8lqfDv\n",
       "gNT+IYGOBkgerj1IAao84++irWU6OMVpX2kqrW5rQhlSWv3v/2EBCA2rZCV2svCwjMy1Wb1NJ6QK\n",
       "R/XgCvv1WkK6zQpa6AVBsenxZGV4xReJnU7d0lBxsTEuu+8QGYO+QRNcl6D0ESoROoF3p1gyciX7\n",
       "OEHI9RjcPpZwJ0Jjoo5Kp+3MDNjX0nJgPzLw3eS9oNS5pKyjHtMdeo+w0g8tiv8t5JUo2mQqOEXX\n",
       "HYN9YEyxp6ov35SGH9NOIL2MB+I54eVMxBxQ4PURHKRKw/LF+2QSCAnzwHIoj0Hi+wugIZ1XutaD\n",
       "tBYrC7dQqUoSJhxwzd3qDJUxZjVr8WGf7QC4HLXR3VgA9lEriV/6A9Tdd26hHPEoQxLHX6b7b3JD\n",
       "8jfcsO4r/doHx8U4VN5vo6O6KKLoRznrgRiOZRS+K0xaXi3xbE/RbORJ0cW8/cxSssjLO4psOX2v\n",
       "964zJeW5Yyz8JX4cOwjwRFBQwmlwyARPUZokQnWqpUFWG5/gE5L9nFY5430QOTBZPuik7Km5Tgkj\n",
       "EMpuX8H8/1CuParL7+KvPalmgnXRJc+jeGeqWuOig3BnPau2H4eTlyEu8bYu0LEQBkYfdgLWgGTh\n",
       "He/bm9d9QiRDbp357od5hf6CpEkgv+tatALYs/BEfaRjDzFEOUamMS9+jL9U+SPRW2lnA++Tk25x\n",
       "J383d/if0UDwy/2lc9lT1wLuZjkL21ch4uMO5X4E3lVfPxuCbGXUSpEsoc5nxZSnEwdKKT+ANpyX\n",
       "wjwrCkKStn8cqp+RzcJXacLbZYaHoEh3lfnqiTa19ZZInXHWcCxTFtjAGCjJNNHZX0IQBlqR2Qbz\n",
       "DDWdPZibRPNJ81MI9OAgilkRi4E7ny8eyxiaX/LMfM1ro4t7SYYpXnxvZpTGZ+GxFqGI4utPY3DY\n",
       "mdcDXAmojnl59QisfSBUGY2XmOcb2IeEELyrmMtf9C047HvmlOOjtPK+s1exRHErlAqCiHKBxaEt\n",
       "a6cWLiWpknjrptbI/D+AJqK+o5qnm0iNK1cW312ZPtYQIVfhC8k3JlW0twKDsPWvWjRII0NHGKqu\n",
       "SWxULlnjtwH+M1adM6mEP/99vFCfQsKbO01ilURL4KqdHIbOuGaCoViuKKXFv5PkPZrf4ohgcvz8\n",
       "oQ3hXXcgpv2RW24Plpc33rHCGLvyPCi7dzZnqfuZUdeITVXMSZKdrKIEPxSooLvHNiokyDw9GWCn\n",
       "WUJGNcOaI8qP14D1edRt9/VDHEdYb98eJ2H8c2tyVG/mfUgOaxkrAq2DtHXxrrveVfnVoQjEDPH2\n",
       "NmHlLAkRv7N0CPTX+/C+uewSZ5EGWMdS7RlNKFG6n4K/146QJUX83IA/KUt+PsBcA79XJPaNlrMd\n",
       "NlpKa46r531o4osDUEExG4C+/voYRg4AybNeq5s0rDXEUZHjZJqEJzKocRgVUZf/FHMvQAzuKqP+\n",
       "KvFiZ0Rxi2DhHo3xjd+3ZpWsKG/VgR0NC0rbymrCd5k8Sh9rvW/HhJ3QHU4jLPOIoEeM7FyQukCf\n",
       "OGAkO39YdWdEOdYOfeZRID4Pr+4z8rUdaTkjWe+j+e1kSkbUku8wKXR0CORePcHP2QqbwNxJiHzA\n",
       "lo0bedbE8NKP9703zwPyJ9aNrBFykFXB6s2lhVLV1uMSzdllW/YoRvzKV18MvNeKr7tKUKiLgAVq\n",
       "sPmPB5jW3X5s3y+phwwtCkQMGKKXfYj+q7kbboioxng6mlVMcylOo8bniB0u6JfAScq8ln55XvOM\n",
       "z0dqfmZkpkhQHfOSp1eVMcG7vBTb4K0DImnpBUxPNzvaYugVdP23YLe8L3RfwpPtK6zNhM2WBqiG\n",
       "5gJ+5OspISvQxuNxD1gXIrMjzv/OWHYP6J+aFoH33WB0oUDIXreI0GfCb+qvB7ca1xbR4q69kqj9\n",
       "2ClYYmFwKVkK59h6iZOV3fIfb+BZSs7ZH6Bxw9IHyJFBK57dzzf7DOzJT9hGhezli51LHxtneL9H\n",
       "nExH1WNYdQkUMOMAL7I9mTTq3ETZFVd6FyKx+r+S2W85SbMEH7v8RbFtUpYVl3kOpxdWkNm44F+l\n",
       "oBqN2ZDA8uFIEnpLYpZtMX3WDog3xFghPVneub1wxD0omD2Eu35ujIi9q1C2mMqUgp4plkzB8IvW\n",
       "/iLg3VkNyN9z2dbM/tWgj/cstl5+klhQzoXpJ6ITFqBHxONJFLs+YY+Ttf4C5rzgvfmlhvsBo0nC\n",
       "j0gY1X3ASAOVJ8AlhJCfNqzyukAwPr4nCtyQ4O+xXa2+MRV/MDRoirewby3VdDS+tgO2MrV0Jk9D\n",
       "oAWV1awqQcRGePn/fLB8JZBdhaxkpOUWaL/9K7J2+B0t4NwlF7+W1MvRZtvjucvHKeyw0/zSFh+4\n",
       "5ATuR/Rc77f87l8bkd+u72GRKNtOTSy+bkUwSQPCDp2+krVo1u6kaNJRerRD84BOMA/Vs7dpxdu9\n",
       "K+DBvyKue9+h2KaUaz4s3RBbFqyLZIxzxxcoN/w58OTnghAQFQKUEc0cm45QrPiubGpAqN64FHlg\n",
       "v+jAG1/bO5OJLPaDvWO8NqxFZYB5Td2+0bHreRKDEXBPUlBkzmbCDTve2a7qk+qwvEHLiexKX2As\n",
       "ktLQ5GZWZeyK6GPO/GyY7v4SASzjHo/B/i7waJrlf6CgaocjMV8a3eiqZ4PjG1Fl4YVLrS83b1K1\n",
       "Acw5F4X0jkwmSpDQjgUYEpaUWDoNS9AhPxwsiRKWMSPfzH8YydsfkWlLHDw4NZJzjPDfxRw9nZu2\n",
       "aF8iNvsfiSNYrf7EIaBdoOfUmtEC7bQ9YJqyKKZlaGgIE4VlqzCvGpjCzLKkAy35uln4rJpvwxKF\n",
       "sD5uDke1KRgQvfMAxqVcUGnbH2dx5AyWHkba4KqzsI3NcvA1u93bUI+ilUrgLrbIca/iCLw8s59U\n",
       "gjor3so34kq5RSxsAoqpJQE5FowYGjlH2IocX8YZdUwAeTgCWhr10JkNDQz2yeSmiNrlIb3Q1toy\n",
       "ID/IoWLKqJ9e9j6I0fza+uUWGOTQ/U+tdSi9WUaDFAMLkASWs9cgXYQMU255CrWhFSHlzibJiL0O\n",
       "vJc46P1IVxCaWCDcRHbfxQPa8//ASq+U15xxkCjy13wvkioRWyce/xn4oJux8eDw0ljrOJacVJpX\n",
       "U5ZNpkG2Lm20vaLPzxvNMw0DmkjX7zmayE6Ccm8HHvkYzoP2QKtstoNHauvUElPVY5lh/Mjr1k7i\n",
       "Y3z40kc527yTzaChsvX/25MS5DWWCkf451fReCirhIhYjIwLksLxddfnUl47MKz5qKg7zQ4uxZlX\n",
       "o7yB4p7yOzo6jTtBLhOwOdMn8uN52rwWuk8dVqm1AJHDxbAiBWY80dAZyMAHqUCeN/RlNKD7DX+e\n",
       "lXmx6k7o9TesvDsnWHmctYIZi43/ZJeAWW8tp9OukBkiXsLQdnltPxgK77lmnldDoQNmvuI4xCUG\n",
       "DnSLD7Tfsmz1MqFQr+Aj5ufQYolDzGl8YM+21wCAlRSoKF4acSAPFOZHSmtpDtgMPkRyQSalpNNN\n",
       "2XA2OjEMKo8SzSINoaiOqpQL8PSPtztWzQehyCOhhJhkH57Yn3T1X+Tm1OsehR8gGxoObSGmrRb5\n",
       "CHBm2/YQNptQ5XkGz6q0f+jwMxWH7EnlpWehdsb6uunXn/N4L4FfTItMhLx8vnW6hOvzqExxZLXN\n",
       "mjIxVuguPzJJUB8FjdDVLuGzJTAOzUXnXaYsSMKPHkRQtYGruuLIU+ZZS1eFUcq6U3O3/e7zbLsQ\n",
       "vRFCOh1ljwUQD/SxKBm+QTC4Kqsy9kJOOvLT0nxQvhxqMD/X/THlRIhyrMNYv8CvueujhlB05WdY\n",
       "4zkVDy8A+P+ntqEgy+aOKTnIFFpwYT2FvEHYKPJ2HsITuHoYsoApjKPMbmV+qj+NaJz7Axmr6DQU\n",
       "l7dSx1edCdwmKCGhvewQ2AaZ1X9AQ1imGfjmV37Md7Sm7J3tpO+2Ksk0AClu311juNJ7wRpS7ap2\n",
       "zwsfjNd8AIAJKOcCx7at5boeB6ogz2lQceeBEuewLkmmRoSbqHa6+147Kmo2DumOyuqON4tqe4cV\n",
       "w/cP1qQJZZ8LuoghJQHe/uH6elOrKlQI85jPItlQZVO5VRYiGrgBle/akVxijzvYlhub9mj8C7kY\n",
       "vjwS/rdJh1r/QV1xzN7cFPhe4/dBL9it8aMnszRujcmO9w3FI1uluv3+1muTTWI2rZ8FjDhmNS/+\n",
       "xhJVn+FBDCV8IZfS+tL/F0bow/JzBKKCrBK3pI084J+QST5H3sk+am6m4/LYP3iCrYTINQi5PgkC\n",
       "kFp567VMNt8RRtjG8dtfyjdoefxIwKEirQOaRIgrCvfH3alXo66gSBQL3gwotThlXD5b1l0A3vVN\n",
       "LINQ6PK3ZHIYVPb0X97U0sb8PAwT/n2Ide7I2wciQD/91oTAU58K561f6Z/ej30eVgGkCsuaBjKF\n",
       "e7NU1YQXRfcdnz0Qo4c5hXU7kTfyG9HwXokmRsvHkaT2Se0DRMZJ8O14Wtb2JKMKq1ZOG0WxsLZ4\n",
       "f8Gyxkq1FETYf6DojmLdKfyFU5clsQN+JcyBOirebozAu8y1d3krIBYCDrlm215IG+44r1L3dTmA\n",
       "qW9Q484rl0hHMfDZ8fZHc1GcafbHR7Wiqzluu4UtZnpKshm6LtFruQSo327GLF8I/EWNqm1De2vw\n",
       "Sr/TMWOlWWsIKrfVOWu+irjM+ugtzUpS1LpBLqgrZYuyKdAyZxscf41XX9KPGUgT9jwAKSixIgG6\n",
       "8Uuj8wUgoVG7Jngxm+DUArlDc3a+EegsseqIRfKT4pX1nirRLs0wlvbLG2NZkk75t6JxKQZG+bs9\n",
       "fQpWPx3TR5otrwN7MkqvgRgahbhbIWEtgqsJwX0Zgnd9M/rp0PDECbjareVPM5bKI1uYN3HGiIlh\n",
       "klxe3sjIC4U0e+vIq15HyICjx50rweKEb4iC57ZceHhrXf8n1/qybgos3J6aA61/Ri3wvzgwMJ6J\n",
       "cB6AB3fdkNd1N8u+okTSXDX4AyP/6rHlUDi8LXxpb5q3rKQimVgO4HLxpFpmeud2oYBID+eOuAVr\n",
       "OefK9PPrylTPOiW4FDC1SKBO/UnOPbM3bBk29rzIq2DAPXDXapam1VmpXgdmgMoedv/s0qG4Ivji\n",
       "zwYrtvhrDSUCYBt+9cE/YFpeNPWyC/3PksWlF34eVIxsk/ww12w6i+Wt5CeYd36v6F22lDZxzFCR\n",
       "XxCSFsxW9e5SmAGI6Ggo8Kj5rEzonV0HxJRaQnI8abyH6gKXbduDO6N10KRI9nL0JfJTa7r+3nMm\n",
       "KoQvjZYn73f0rV0UphCb89g81u8uvUxrtqNz9FRaZsn82ftsKb9ld+Xz0mmraX/CsjQ6XYL68w6F\n",
       "ypMteiIMxgXd078On2N3YxQ3vowUYc2A6IWoKJGbcfREP8IYhDc+AYELlDpWvSigyCQz7PKZlTqZ\n",
       "nebLDQA4EFxKGEdKiFkT/gqxzjDOmZ2+wGNzCbekzeZ7CM4T9Op3S/68ErwaNYe3E/w/RiNvuGDR\n",
       "KBIF2zXMHxCZge38VrgrjDAvsv2DV6uPiMRl1+bX/hb9Tmgrw+Yjrkhee5ci6SLxoZRJLc4wtL77\n",
       "lvnQ2BAIrqCD7shvU05u7USsB86zw28nodAdO8uD1Mnfyt6Q7LusqNL5aQD/UwLodcv5qctJhNez\n",
       "/rcZle6d4bqElbjUQ3osJOst39ggKpJMkHeRHs2oGeJAKAbNA/1+XCr6UUVc/fow2vbtgxmsHJgr\n",
       "HiKdbSNaWoyAQej0BmCle6chitq8Qu2zES1XdU90g/2XGzRsQkX09InTMkz3dQDN1v2gM+AXxEcy\n",
       "NuMmtervtFSgKHTFn+JD/7oXPgcl6HCH7rf98y6LuCcfAjAfewSoPWtQc6USyEELPp6MeHf5fwc7\n",
       "r0BaQf9OM29VX0V7tQTk26defdmGT0Jasibuzpo806s4SucDvD7VFlBzoY9jWOuKS2Q3oRE2i1yT\n",
       "keyzI5p2k6LUOM8B8yB0ENhDfBw3iAtVgpffDZPtrP/bJLa7vjGnSXPOwJ+0cD58nJpsoxCd2juD\n",
       "x1CyPcWZ4BZCUd39hjXzNAJ9IUV5pP6WeYofFrjvW43zaqLQQYBPCY56nzLmAgXoigSHtV8ZmzAz\n",
       "jZ3liJzTwk7kh1jtmQEPkPd0/+BBKYq3Ag8qd9mUY+HqAWPDgN/7MZaHE0nHp2XGaodHRRto4cao\n",
       "sifsrXTIFkqZ6vUi3oc3NTQIxcMax3Mlqz07ybbxSSYz+BnJ/S2FZpLzJztQKA5HV3dfVyDF1nWn\n",
       "+09wMA0hvFx+/tJYA9r82FFZM9UhBcWjZU34d/VN/f9hvVkBVt7XQ8xNWh4Vwf1gxHyKHCOMDsZP\n",
       "9rll5FRTmFbA5oBtdoHQn7d3YBLadW82DLsKMfhVmNnemKCgdtNJqRWp/7qsvd+aDe4r3fP4E1Nm\n",
       "USKuHzsJKCzQfyFbeU7JSdD5323rn+ZvAQzHVG5CwtoaxKidPe7dV3lWRaiaamACsxCGKQatGsm5\n",
       "ZhrP5texGUbqk135lLZSxYCxN6viZ3CiYdxrDizDzFA95IcUa8JDJD7fZQznz3i0J8rx8hfqI3Dy\n",
       "9UxPTjczbyrF8pEa4faJiNq52GRUBGsgUv86Z1YjwigAjkGbZfoWuKXHd7DOQJKif2pj8/uLhMKs\n",
       "ir8gTSbZty0xaBRRwHxNhUeJFYHXsUmQjQdHd9x2jxTkcbbp4Z5R42vd/UulUHSQLdWVZjN6KDs+\n",
       "OujShkk6LlWVF+gGr+5w01lwO1xJ/vP8isT00WPBY2aRrtrrhoffMVrSLqpfPfTI1417YF8N6eDG\n",
       "cWTYqrk7dFmcOylp9fzfggRomZUrCN1p1bIH9ldqqoazWqI50nS/12wlSrScAjpoZerth1xPUaWv\n",
       "PXWnRqnTg87lCayj/UBz142yprjw45z/m0v+0GYXD1r/9MbHQ566f1Bktk4KBOH7KAh6pcXffrvL\n",
       "SfmsK1lTCoX7XqVrvD/oVQ3e8gT8LVr62Yv5pPxnR3QI7z7xZJ4oXTN4MeL50CqwGzNN+N2FFrde\n",
       "8wq6dbRG+CeBhfrJImtRMQkYvb9Ior6PEhS2pmGI270VPC1Y5xQhdOb5Q19hCvzHCX2M8KRg67qC\n",
       "mB/qYbl/VMBsmExr2o3mFvCNdiJNlFmizgaAEW4Trk1F/1/S7l9YPpipp2GBeF8s5+laDkkivhth\n",
       "tpZzbEVi5AA/ikbVkW5WNS4zr5q416Peu09FiMmqB6fxUZT9g0OIstRircuv+xBU6uvA3A5y40rj\n",
       "WBlxknhKPFX7nFP8XbNYmBRgjD/ebhI+9DT8X0/5wVji+rnwrewACBug+8zsYMqaJyOzN172FJac\n",
       "GAMpFBgBlL6/pJWcwSHfAXDJJbiYUfoWcWSJnG3uSKuiEgte0KuO/Ftf7CA8Cao9boPx1WsdwjSe\n",
       "vVWiDxR+I/sBd4wccIN2OPajIcWuuYq+nffR+3Tlh3iT1AZXI3KVIhrB4ar2xLXwbwlMwnuF1CaH\n",
       "Nt08lek+Le0J+5loAr0UX7i7VDKePGXNp4iAvs4J/jf6nZ/2xoEgjUWj28Jn+4Q7dB0IKuXMkatx\n",
       "CcBryZx6PpoGNk4N5rlbYlroH6uRZ5xAP7DSo2C33RUpK6Ng5QX18Lu1lb7kjfali6Qk0odgK6HJ\n",
       "8pbZh2hJ40ZhZrXNxhhquG2lsdZpgL6HBZO390FK2njjhyyg97pu8brZ0XxGLCpRkTQ5NpHG9P3l\n",
       "Mw4UtQDtROptOxsyozCM2LXPYUs4AHHFVlVgMD5FUF588dM3IjnifJNEvCssFfF4lDX2FG2JavZZ\n",
       "jWl/pMCuePU8+kBYLmI045tRYF6Q+XYtNz3ZZLvx1RS3ioWMwFQpbPBfrjZy76RnlkaqxQ1LUq9q\n",
       "/DzOgvP96GLLuX81p5zMNc4IBO1V9mRg/oNAWVrXNmWUMl3UIxnyb2NmJkN2moyaAjXaKQuCfTZb\n",
       "a4q7kCc5ACD8XP+hIgF0PC2hp579rs4a9jZ/JkjANDGYNGWNsqa+fbM2oZgrNlCnyGJKoWk7fsor\n",
       "P6C1bfdfGABUPr4oD56zTIFbjyQPofKab/PY6VqfOtN88bcdz7VO+UZcJfrtX6PyIesxzN2+CKEf\n",
       "zxsCS/IaTGTNVKbLQue9r1NTTyngnNOp2WOMUttw2pVfL3fvNHh8olHYInw7aCYQ5BYjhyYMeZ06\n",
       "Nzv6kilePRewQEQaSw3FblRQkg0pd83japZUAqwpa01jL9icvVg3EeSHyG7pqbb975ITVO4H8LCl\n",
       "y6Y8/bDb6yhWk2wHGPHGPbrEuuRFQxX/NfRgkFuydefsrorGyYwuPHINZ3dXKKIMLsqaGjEjYJVd\n",
       "51SrM5GV8nfrQ32bN+ZEf6slLCoj9PKZJL4PIeJZBVMJ5dKCaGV0pPeptxfZW5zTPzuEB30Q+ZtK\n",
       "PczuKH/RlXkMX4M0NEbM/X8eNbVYh6vm5SwUJgZuQyWvGCB5XOG/bwOq0CYq5gPj1aHJ7uzHYLGi\n",
       "e5z16UJyiOD2X2r+IlESrF9LcgS8d8Dz4lYyGPc2gRgSLMZLK3RJ2ovYmGjSTJqbjHg3KtKa+S6o\n",
       "dL1NujlBeIKq0SHv7EuJgqqUXWKGWNo3FafUoJSgno+orlpb+CZOmzzZ1WY3R02bAvJzQ4HJ+LKM\n",
       "RkXYb0E4ftPw9XPavui2ZKec0a7lc77CiEpetoYRtpfx1N7K7/eG/A5S33Hv4ILxK4zqKXTzBqTV\n",
       "1qWbO4GpGX/NRc9xTvk2I52BLCtqjYLi0l+3F7zsx8nYk3FOlrrmDUWm/unLTWNiMLlWrWb4j22r\n",
       "dRQ834S4gpCkWSEP8E6vVI8gjbUiB+13/I5FkP9lzRBtzZybN2nvpqe05oJstNNNYI+81gX3iiWM\n",
       "sIE1yoKGWqPKTttcyKx+ibzetmwoELM6rFsTAG+eB2/CHsTQvyEMX9hQIO/WMYeeAhSJ1Xukxc8m\n",
       "/J01JQF6v1UOk/hhrE51ItVGXas/Ay0UoFxnZb0hyGIECShg/3M9iNxE+kX01uWaASzheeDn02IH\n",
       "ThANZAE3AV77KBqq5ANZeFQIcC+ut8lm+SSv7MWSgYsktNhUrpYBAOGp8EFwbXhKaL8X7j01l9VR\n",
       "DeWu8A0ShPr18sXR93wSgRpXSShoXdILGRqijTfLRzNgnNFyiHJxYb6IMpnaQoQinF8ar6C6OwLi\n",
       "F8intW+k2UBryBZ7jp6F5wy8lrbVITCXfmv4qNYvaoErk7e8BjiNjvXRyHkFl69cl6P0dIUX5f4a\n",
       "QFXr1S3/XzSkKFPTWtsrJKTJ09kSAPSs6mBczZOTdWkqf3ZElQ81KvefOwjYsbOcd3kSF0oaK0p1\n",
       "ElpS4BPLrHUWp1Yc2SVQCDVarWcjQTVsu8GGkIClTTLu5dJSyV9Cq42JsQwS2YXU3JnTdgrlrW2d\n",
       "SbwKQeeh1NW9Bniq7JyhYKQY378y8mYALfaewRYd7FF5DwXvcofIGd7C3gQkhqRa90NqUWszjEfx\n",
       "f7nElhxVC6BrrGN9MWGGwxbqOp1EVVW/atHaBw9gMyjP8zRzD4ddKRqUeeBiWqhhl2TAToQN3Ict\n",
       "DrmHf/d2bHKfgK8VDIZrp0M+FiaE/GT/EOrkYloJfMqj+s6agGwP9VzO7cZYsaByih7sN+dVHgE2\n",
       "pfLNhWsx7qDAh4bF8Q/MkN/eD6W03FPjSdpDXVels+rS69WbZNpm6M+uzmp8UhoHqrGqMe75//Ya\n",
       "kRzbZCfheUFgDOpoqHdWu10p9wp5tLbZWi2q3hZC67Q06JQduf4/ho2WGHgB5XJXc+j7x+Ei7V7J\n",
       "/BSezruYLrodBKhC77BPBSb9LCNymOXXPTK5LN0ZaF1yKJvZokfkz0W5uadj7+TxCOeO+R+EM7Wr\n",
       "tdgTB+4GIO/A4Q+G2gkikoCJW2SuuBazbhKl0btWYRa8P1uh/bPdooVKAG+4dpryHQli9LZ1z9wk\n",
       "yZTMW1PYQLYLqmwWpVnkVIkcpGNQora036qmL7DINIr/XSjXzlDyGdM7cEwXOzBsLU6SiAG/dz81\n",
       "D4NAd3mFTSG3M8WFpW+vFbJffmJQsVSazUuuPRZ8UPwBl7XlxlsEgcTpNx3ngd/8smUz9pLF+Vz1\n",
       "/soXlqVpbuhWewubNWNE/dACsA+O0Yr4/Dh+rhDCiPgvYteuCsKP73I/5QWs1b+PUmf/Ptty3eFV\n",
       "/zmWDCo+5oCjXHWCaXjXCZmxA8IRMZHiG9rTKNSDkiUXU/5uXRwOnlxJGA+CNvm69gWLkcypwF3y\n",
       "XQcQlL9SIYt5KvWllWMiGfVFA2YjiCOaqdoWS2pfihBiADFNIfPULj/wBa+GWJxXAT09CRXTJlCm\n",
       "HcLL/AMjwh8jFRbYyFQ+0uzQz2NJvNTd0H7fTVsLt4M2oF7qThS4nCbZu2gXO1aT0WJFfkOGHHm3\n",
       "pdbQimU6TmQbNlsRY3DOPfhPqHCR4ED+i4kT/xjSEt6HphYz8kAyG7VhFgiXLQbk8ZWTNmYjEq/J\n",
       "+3YoyHu9N7U8mOALT5o3IaNMwJwcodAElIeV77xrhwdBlg8+fHp63q3bMTdgtAzr6oBzrZuZynkA\n",
       "UNA9PGASBvSXktdtbZIQ1rRZH3GT1XIRXwN0uTd67KhZb0DRgl3lsop/nmTV7T0y5wo8dvJDvb+t\n",
       "iKau4TobvL7yFxeFt11GvPZBnDlR+Cxaw0c95nba5MrUCHJUdIQB0xT1jFi6Nh1B94Xu3ldGth2g\n",
       "31QGun8//O5uoZrXNl6Y6kFU8gce+J8qvBcI9OH+B+42vDbJjBB00WcdxYJZpsEdaYnMYdVtsyQE\n",
       "2qzH8u2jtOiOJFr5Z3j60LgCEOhtCzYhPrTHG4kknx0WPWACf6eEg9MrrLgwFxeb0ElCPsRm5GHU\n",
       "tpS698euvfxhrUK7Re/qCAuZO49bMecfZ7HpxP/W7rTlxWEUOSSlsXzqrI2ZNKsGTlFixBr5zBur\n",
       "FPom/3d/OiPRjYnt1jS4p8SHXN+eM+0WE7pSsjhOm3ge+SBaKMdoz8NQBkY6XZzaqxWUAOXbL8j/\n",
       "FxkSSD4ZXh7DwRjRAhcrKgPIhVkLnjXH4qKBx8QMijBI0cxNfh/y8ymaUoxlcTMY5xvfgJ2E1HjW\n",
       "26hhkSv5C+uTfDsf46Pq+ksBZTIH2j121WfA58Od48l0BxvUxjubrAFyLrjGrEQZsmEHcskV9YnE\n",
       "LFlphwNepY23yOaxVQ3ouX0lF2Uai2oUoa+/G5C+eyhTMPn8hfI2mPFzzAI20ig/5SizAfBGRyPG\n",
       "xUC338Fw3Apypaz1HfXMB76mrUUOufSPxEeAlfIjUh8MnyVCZplUhif4PDi2It4x4g1VWYdWx1b2\n",
       "Lxl6c6wgA71ifuN6fu2I+O9xjBXsk5ZzFS/daglKm/jY5ZSUaHsIeqMnOTc13DJUKTHiMb5YPzCL\n",
       "Tff1vchkJa6nFLPL+29oD72PHhOnECIctgl0H93huxdJj7XX6SLFScbxWrj4zC7ESAhthXbDsaQD\n",
       "//MAhupeMc/0FvBwfyuL8ovdc+gGvXBOZY6xdRFRCeGDaaLHi1FPP8VAbRD3PpNZJNK/n4I9ROd/\n",
       "i7WKsxIXicRI36+xuniC6blbJk0oY4MchpXVhOX//BoJ0wQguUMupgOOqZfYmYSXDxZ0OXSSAc9W\n",
       "Z4OZBV9VjpO5woLV/nm2D9jiRFbWIVM5GMvP4N411Oa8eiyrNrNk9ItjZvppFsELeaVC6kgXUXtt\n",
       "tcsgQ8WfBoBrKLs+fxnVa0Z/xfTPt2Drf7OwXx44GKWvTo0AuGy6OZq1d4v+se/jEN4b5tUcJE9B\n",
       "ZguSk1j7Sz17Gy8vOrnLxdX/If3v9s0Ak1Cga97ksfK57rZk0KC5Vyqo+hwtoDVKUJ0BJtMKqXyk\n",
       "oucWFrn+vWvFmbHSRlHTUthNMlX6aZokEgNxLLb0EgjBo0zOhy7aLZeXDmoMYOOPv3TYEAiFrOi6\n",
       "gvFANbvBFnbA5tf56qLu/iMG5QwXxx2m71NcnuDNn3DkR9ExzPp530j4lZ4dALm6xvIQEc5kZVMh\n",
       "8YIboFJR3f2BoqQuPLQh9FDncrZDKGm9DEKcW5QR140QPL/scAvWqz6zpoauHkmr/elKAucH7+H8\n",
       "xqS3u59F8MhAIw3rZkmSsD5Qx/Ngx7HKTTvoe0aBcw0+G5F0OGXd3e8Y7WWTyArRUUND5Tk23F7W\n",
       "cHuVQzbkogc630gLyL77cBxZPVUAKihb0mEbdgtOhro+xylcbKGkUYmBXHfWoSWWLToAxPUacqGg\n",
       "yvjM5pnXnHEovNiNaBIKeqiwl39L/mXMldjG7O6WjywFqgLrmJs0Xglbukxrcq5LBWgYfIVE8Bhy\n",
       "az54OQmOGfJPv3qpw3/pmw2x/WJEnVzb8cf0TKdBn0bUegjW6mYHbFDeRiSm/Jsif8G8r4UMiwrI\n",
       "AWdA2XSyimCoZizpwMumZN0WN0/uR9T+rG1NES5BLclEtXMROYZt+HFdZ4lLoW4735R94uHeob5I\n",
       "XHo/H8TAsoZoKtSGiWnKG4FmJcz2efESPM+lBFtRCmFSPNlWZ3GPCZ5RJ3BVYH006o+EkVly8APF\n",
       "+/CH1WsHyMrLsmb0pvYmaH/Lrzw8Cy9U1FBJ3sDuNp4WExlzfvNVtwbSv54jO02fhv/I7iXLeiG4\n",
       "7JctlgYJaERveIt7Gg+kDQWmfBoL5TeiU3UP+m7t/Wohvucfs4/fq8pAuyFtm5FLfwB0Syyr+7aL\n",
       "VpsCQc52iHXcQYIQE7tn39QLFW1FusnLsY/k4FW5VTn/MVkjkjkTS++6Riu0NImbPIhLOhsrB7zI\n",
       "tpa3pNHsRfS6NfU/TRiCpVaofCpwpqKZFVb2TJplfsRYqLVjk07YC8pAWFUwLNOINXPos3bA7A9M\n",
       "rm8UmaVhoc9iMy8mOk37q/YydLfGz0MlrO6sjLBl8JKi/1K03qIXHYUYFvPHBfKSobWVBB1lrWar\n",
       "9sXv4RBHV/GJzNRTNrB3mnowiSe44Owf/e/WmFab84uXBdnzuh93yFXCU7TM8Q3LqRTu8xOodHY2\n",
       "NBpq6XMJacTrXUe3dhmEKdc7dhjQfGeDj6lYqhMnIKzSGDPI8QKdInrRRzwZNxh9pKGCwgICZBBo\n",
       "mKZoZoBvvtdnvftgk/oarOeqhfqW6XECiONtMvxDsyMY36e7b5Vtq0coUowRRTDCB7JoZ93JmT3M\n",
       "fK9iLre5fwDO7afR30vKyiFby9JsNYYv7qlnbzJ5KgjjbxruwVZOdU2hQsPWeiD8s7X/g3WIHqB+\n",
       "ewVPl/9y1+7AUr6EmioiZ3Lz1QYiHE3NhZkmax9bjlQqxK8hf6tB84M3ttw/DdcsgSrztm9F/6zU\n",
       "vb+7lvkrqphHrGp/JJPmaZ5LXI2tOMoHsBck+AwXks4FGLZCxvM3hXdCj/Vv77AEVNkQjwQma6+f\n",
       "v5c82435Wnor1DtOCHPTAdADOHln2K1w2eKDHyJTO9JTOFwl+ect+F5c19jbuUxRX1yvLLACKh0H\n",
       "PLv32ngXgsquMZjpnHFKwlr7S0A7RaV90rQczNoYn6ePvlHYq4YVW+E44IXf+iWHrL3iXqR/JO6v\n",
       "Pn0+CJ+7C3+qaj2XUHgYtTLuQeaY7yv4XXwbYdVLwYeAW01TVGy8WMYxcEcAjRIvZSNXh8JMs8qC\n",
       "kLlUsFVa/bmg/VH4CRAx/N2DB99rQui5Y+BScxT8/MY6XM/EwScdmtZC7Daewd0BvLogq6XM+L3v\n",
       "awwEX6K4kUEFsAyT+4W9ANoS8ZC7B7hLkkAbidObKZBf0yaai/qrAlnPqpKNSZiURGVc+thfu7ko\n",
       "7Jpvm8ldiCgHGI2NvrXgq1FgGlaHIBpTsjNsv6IrnK0TSA1SYiX++kzaecpjQgVxTRHSg7DoPIHU\n",
       "LJEa7nQr3ZtC5R6aUDAOu3931srt9wYOFtOTWTgUtJzwb50GCaLYER4rxTVbWXKqZVR9BGx7G6WO\n",
       "bm52iezSO7+kOv6V1PzVbr19v4Dtr+qBfdyZNbgbrnHXjLktWrHvuBkwArFX0cfB4r2NPP8zN4pZ\n",
       "b4NlihNLXhAM8f/LV/DER+kdGXLi08G40g1k92kN79/g9u//+XbyfFmXwsZlOHRmT7SpjbgRYXpR\n",
       "Z2Uzi4I4FmmAH5brQnarVBDP9fgGdJDh3CbxFhRiV5aPRd/ggrEswY5D1e1Ps70Ek423WHpbIqVU\n",
       "WLkJis0NM42PJ2Rud1wMK8W5HcB9bTvDlQiS/d0RCnYXH5p7hevd0uMEzSZp6OGUgWwGzz0IWHtR\n",
       "vFlIh26Ey96nROP5byEul9IoknYcMU9MniIPAAAB9kGaJGxDP/6eEANz7HggpfwBu6XN5TTQ6LS0\n",
       "XGg4ilCZzSQ1l+cw+dqmrHAMRKXNt+ArWHhZuVKQs4qaUzxvX8Y3Gn03VfBkD6BhlSdKsXsZUvYk\n",
       "cFZ+BLfkusWR+5joCRnC6KIPAd5DJXxTHsO2fw4FewOrO3jQg21AH1C//ZLBVA07eqDfsJwhOX3N\n",
       "3XRaGtlciQclJuMokj8MUAzRkIyZFGKbCQwTOiPPHKnAM05URa8JbJI8dikJLd2quYhMtesakwDa\n",
       "Gcz4wxwnAr0gbQ2FMTaJn5ucj8iMFC8ykZrQSoUUA+07A5/zFWiDcLdfiInK0QELGMedYNvyPN0R\n",
       "QPYiFAkBGv6Kv8wFucpsJeLoFZhoX4ZBSl6bGLXtRQ7eDQJpr4/HkVxCNdelKywVkMREE9Yy5DhO\n",
       "d9Bw+O5M1+YBxL+JKcV8binE/ePgYcJXHI6kpHPxX+rFCZLlZ1jpjZcFpekMB1ms3MmHexY2/9kC\n",
       "yhGTEmdFhPFnKy9ButMx51oj6Cj4SVT+oRyWR6g7Jd15ip8jNGSlOP1tfVwNu9bdmWpQNIf7NW+h\n",
       "tgHKZTb5/NX4SbOXoFhkuiPt286KtQcVbhmRVahczUbDthw+H5USBCDA49K2RUPZ98qR/djUSGkH\n",
       "Zw1L5nXB9JAKbKsjeFakXaLAISAAAAA4QZ5CeIR/ARpRUIbZZEAAIyNVhxHhYflVQz1lkfmiDxkX\n",
       "d/er4Ttv4Ln0PwLuJa65OhaWJMSQE7EAAAA5AZ5hdEf/AcSKNpHiCPnFiADTkdkR7AtKnt6hQWYj\n",
       "dL40nmsETgxa0HdDEUfPMLeUCfaohMrC9aqxAAAALwGeY2pH/wHFgBmsfBcIANqYFm0SHGL19Jc1\n",
       "NtHoaHZxor/zSSbTOkEnn53MbAbyAAAAS0GaaEmoQWiZTAhn//6eEACe2zJVgBQDFlHOzboDvg4d\n",
       "v5Ao4wNjCXDikyAYO4MwlI8GzVmiO4trJWKUDuJ2sNoQaWwymTnXDI2rgAAAABdBnoZFESwj/wEe\n",
       "KgYkF0EVyh5vIUHUEQAAABEBnqV0R/8BxIp9o6VeAMcpMAAAABgBnqdqR/8BxYANF+/AATKVufkv\n",
       "H89zi4EAAABKQZqsSahBbJlMCGf//p4QAE9zj3ACpadrG9NyDsm65kjmIdJlji7TkpfcSELh+9kS\n",
       "ufzi7LgrMcgm8M5MMl60UpWJDwA/0fNWhlwAAAAhQZ7KRRUsI/8BHioDIk+0AD8TG/Sf7NYbF4tl\n",
       "EPQk0C3dAAAAHgGe6XRH/wHEinAmkOACZObizi5BrL2nl4MiPS9WUwAAABgBnutqR/8BxYANBiiO\n",
       "UAXPKNvU1fLBHIEAAAA2QZrwSahBbJlMCGf//p4QAE1LTywAkjh2oXNpnO+YFQgzw+j5l028nIH0\n",
       "LWJubKR4o1JQWDuhAAAAIEGfDkUVLCP/AR4qBgBJJn3YFwA2yFwTFzi08hee9hnAAAAAEAGfLXRH\n",
       "/wHEimLLWgsn42YAAAAbAZ8vakf/AcWADKTTkXwAG09NJp8RXR106xuBAAAAIUGbNEmoQWyZTAhn\n",
       "//6eEABNaJMxmwAH4xZKd9hx6TgqYAAAABNBn1JFFSwj/wEeKgMOXBA1tJqTAAAAEgGfcXRH/wHE\n",
       "im+/4/P5T10cqQAAAA8Bn3NqR/8BxYABQjxEroEAAACFQZt4SahBbJlMCGf//p4QAJ7jccAN1679\n",
       "rUcAhkyZx8qdD047hj/V0J1alwrpL1YA3v+sLkcVYjiSQOueHWUCnBBkRCKtwFcGybQstV90Jyym\n",
       "uUzWPi8CdhVeWmS351zKMZEPPx1ej4gAPlgYA4IRDzbvPWespR5yjBdes/b8MgimUNRZQQAAAB1B\n",
       "n5ZFFSwj/wEeKgYmUnpwAtIMIYrU2+vhdn2cKQAAAB4Bn7V0R/8BxIp8zWKXOSt5AC1mpQKGZ9I8\n",
       "O8/UoUgAAAAcAZ+3akf/AcWAGRhJEIAFemTEkpFsu62wKvxflQAAACJBm7xJqEFsmUwIZ//+nhAA\n",
       "nzKuZZAAHaG8O+BrCCz/FgdMAAAAG0Gf2kUVLCP/AR4qBiozoAW8OQTeJy76+OukXAAAABMBn/l0\n",
       "R/8BxIp9n/eFvqBMTaG5AAAAEgGf+2pH/wHFgBkMxi/yrJohqAAAADxBm+BJqEFsmUwIZ//+nhAA\n",
       "nzb1DACMj6mmx9UKOIenGwiRjd6dSbQI+C4jQHCGUE+zS0t0LINZbNLAZUEAAAAdQZ4eRRUsI/8B\n",
       "HioGHwPbQAcWU0ckVsn7vq166RcAAAAZAZ49dEf/AcSKfcnTABK27/nnIXXS7JAoagAAABABnj9q\n",
       "R/8BxYABQUq7Cs5NAAAAPUGaJEmoQWyZTAhn//6eEACjsaFMd4AHFNeTlmrZGpv9oEL7HAJgOdPR\n",
       "dAFtbs8Md+nZfAFc066+Y53PgR8AAAAcQZ5CRRUsI/8BHioGTk1KMABdASoFIAyQy/KGUwAAABAB\n",
       "nmF0R/8BxIpiy1oLJ+NnAAAAEgGeY2pH/wHFgBkMxi/yrJohqAAAAEtBmmhJqEFsmUwIZ//+nhAA\n",
       "o1der1wCD0qgQM/HQ2zVgMTbShLZFpfstyma1d20kwHnWf4WvQNWKKjQ9ezcykN9EyH2luYvTf80\n",
       "BFwAAAAeQZ6GRRUsI/8BHioGRWtz7wAbhTX2NUN/YC5/lDKRAAAAEAGepXRH/wHEimLLWgsn42YA\n",
       "AAAUAZ6nakf/AcWAGZbVc/qIVPsvvSkAAAA4QZqsSahBbJlMCGf//p4QAKOt/dSgFoEzAVxUC6K6\n",
       "BZ9g0034Qjiq9Swm9ABxaQpdvi/pSjxICLgAAAATQZ7KRRUsI/8BHioGTBgLIrC6LwAAABABnul0\n",
       "R/8BxIp+SdctTKYvAAAAEAGe62pH/wHFgA1WY06gZi8AAAAuQZrwSahBbJlMCGf//p4QAFG1WiQA\n",
       "q3N3XaFqb6w2abcptP78mVRmsOcEPRAxYQAAABFBnw5FFSwj/wEeKgAwkyhNsAAAABABny10R/8B\n",
       "xIpwblO9RyYuAAAADwGfL2pH/wHFgAFCPESugQAAACtBmzRJqEFsmUwIZ//+nhAAUbOPcAKf37J5\n",
       "KxVvR1rT8HI2poKumF2wsHHAAAAAE0GfUkUVLCP/AR4qAzYMD2OsIuAAAAAOAZ9xdEf/AcSKYswQ\n",
       "rNsAAAAPAZ9zakf/AcWAAUI8RK6BAAAAIUGbeEmoQWyZTAhn//6eEABRs3vABEraswzLKNwd/lED\n",
       "FwAAABFBn5ZFFSwj/wEeKgAwkyhNsAAAAA4Bn7V0R/8BxIpizBCs2wAAAA8Bn7dqR/8BxYABQjxE\n",
       "roEAAAAnQZu8SahBbJlMCGf//p4QAFGdJSRkoAj3RN30g4NvfQDuImlBYOOAAAAAE0Gf2kUVLCP/\n",
       "AR4qAzcqsdOekXAAAAAOAZ/5dEf/AcSKYswQrNsAAAAPAZ/7akf/AcWAAUI8RK6AAAAAMEGb4Emo\n",
       "QWyZTAhn//6eEABRtVU4AWH1apN8aAfZHoA1tVouD7JjBBRTj/b5tBYOOQAAABFBnh5FFSwj/wEe\n",
       "KgAwkyhNsQAAABEBnj10R/8BxIpwXA6Ceq+5UAAAAA8Bnj9qR/8BxYABQjxEroEAAABKQZokSahB\n",
       "bJlMCGf//p4QAFPw64AaqGoMDF+6RLV8HkSWADXke1S/azq1wwUxux/IYvAP6lSGdEmVRX7S4swn\n",
       "Lvlsj+pYLkatDBgAAAAUQZ5CRRUsI/8BHioDMz2cexoFqoEAAAAOAZ5hdEf/AcSKYswQrNsAAAAQ\n",
       "AZ5jakf/AcWADaZjTCBmLgAAAD5BmmhJqEFsmUwIZ//+nhAAUbK+OAKXzrB8F/YAXDuC76ZM+kdr\n",
       "SAyT6C7RjOUvxYrQwOkNr100i7i7b0nBQQAAABpBnoZFFSwj/wEeKgM5XkgAtUFa70DxOoITVQAA\n",
       "ABEBnqV0R/8BxIpwZOu8nVRqTAAAAA8BnqdqR/8BxYABQUq7Q20AAABgQZqsSahBbJlMCGf//p4Q\n",
       "AFPydGAG2u3fOHOgPSr1juLY0nmfDxaGPfkLly02oj7uy7Xr5aSivSTZ3ykUpQLAIys9G5Y+waQw\n",
       "yfI233KYeXbFtkcldqkgZuv94c8I1aGDAAAAI0GeykUVLCP/AR4qA0a3SnoAPxE1tw1t8w7p+D1k\n",
       "W6ZfddDPAAAAGwGe6XRH/wHEinDGVgAExjFsWWmd2CHruF6MUwAAABMBnutqR/8BxYANnczuGPHs\n",
       "Hoa5AAAAOkGa8EmoQWyZTAhn//6eEABT8bjgB72OSwIX8Jh8Kcm5iDouquXNXo+HagxIrMnWU3PD\n",
       "XGf25m58EXEAAAAbQZ8ORRUsI/8BHioDTRnQAtvbXqj5qYWfkdlQAAAAEAGfLXRH/wHEimLLWgsn\n",
       "42YAAAAZAZ8vakf/AcWADbTpgAfoapasphJ98sUNQQAAADJBmzRJqEFsmUwIZ//+nhAAU/J0YAiY\n",
       "8rDxvZkJKERcpBxaUc9UCnk5H3EShnQL2ULBvQAAABFBn1JFFSwj/wEeKgAwUkjQ2wAAABABn3F0\n",
       "R/8BxIpwxfE7RyYvAAAAGAGfc2pH/wHFgA2na1gAnajumWXgdvQ7KwAAAFdBm3hJqEFsmUwIZ//+\n",
       "nhAAVrffweFyYArfrwE4Ybc9eRYj5RdIEz80dC3st9XhBrHXji8/nsKLpHVra0csZ1+nH/8QTIvr\n",
       "EM8zvhpSbaUeUkMIrzeTBQUAAAAcQZ+WRRUsI/8BHioDXyalGAAnWEi39/vxwHIZ1wAAABoBn7V0\n",
       "R/8BxIpwzddAAnTAhiSiXhEvjLg4uAAAABsBn7dqR/8BxYAN9A9BrwBEnlQjVwk8FnPlBSEAAAAu\n",
       "QZu8SahBbJlMCGf//p4QAFZR12rADa3EFIvXvcyyusd2XeZfFezKN9aUQsC7gAAAAB9Bn9pFFSwj\n",
       "/wEeKgNc0XWOgCEQmqySmi0nYW6fvTSYAAAAEAGf+XRH/wHEimLLWgsn42cAAAAQAZ/7akf/AcWA\n",
       "AUFKuwrOTAAAAEFBm+BJqEFsmUwIZ//+nhAAVjJ0YAraZKFO3TJifMISvkbPyYjP+e1/iRVS3qIQ\n",
       "RZP5c3g6YwuhSgEle2aVB1aF5QAAABxBnh5FFSwj/wEeKgNeM/gAtbn2lePEyDqQdjzPAAAAGwGe\n",
       "PXRH/wHEinETKmACVE8Z//GfCzLt9G4bgAAAABMBnj9qR/8BxYAN9i+hzybS0E7hAAAAM0GaJEmo\n",
       "QWyZTAhn//6eEABWMdpQBUvop4EWixSOTPvkTLH2GQ/S7xO14EjQRY7355MFBAAAABRBnkJFFSwj\n",
       "/wEeKgNeAw1vyzQIzwAAABABnmF0R/8BxIpwupE7TKYvAAAADwGeY2pH/wHFgAFCPESugAAAADdB\n",
       "mmhJqEFsmUwIZ//+nhAAU/K+OAKZpdNhUELRhB6kGNprDVJUWyLKQNVuDEmhqDqX3i8PQsG9AAAA\n",
       "E0GehkUVLCP/AR4qA0sqsaeekXEAAAAOAZ6ldEf/AcSKYswQrNsAAAAYAZ6nakf/AcWADadrWACG\n",
       "zUSnujhpWXi5AAAASEGarEmoQWyZTAhf//6MsABUzDs7AHKJc6LSlPdFdzeHFSOBw8212ouygoT8\n",
       "nNyPWQ9AJ0SMzogt4LPQUws7dZz949S5ohgyoAAAABRBnspFFSwj/wEeKgNHwBJNRDSLgQAAAA4B\n",
       "nul0R/8BxIpizBCs2wAAABMBnutqR/8BxYANfGwQmpB3BNKTAAAATUGa8EmoQWyZTAhf//6MsABX\n",
       "S7lGAXgArm5Dydj1l5m9P/Io68xlxeiDRLi7IQGjdssoqxgl6SCWGTZahnyA0fYADZ2DPY0ijGoh\n",
       "8CNhAAAAJEGfDkUVLCP/AR4qA15PtABaDWWTxxBd9BWnrCX61HHAc+4UgAAAAA8Bny10R/8BxIpi\n",
       "y1oLQ2wAAAASAZ8vakf/AcWADfwT29+P7OddAAAAMkGbNEmoQWyZTAhf//6MsABXUhtOwBTMdXDG\n",
       "ZXEowciPG0bfaENHh8Sq7x+kyaIhswg4AAAAHEGfUkUVLCP/AR4qA1vG7swAbYmuFIB44mz3ppMA\n",
       "AAASAZ9xdEf/AcSKf7viKJDqSJDVAAAAEgGfc2pH/wHFgA38LaQrEhOQ3QAAACxBm3VJqEFsmUwI\n",
       "X//+jLAAVvPN4AKljsDJtJN/3eurO+5nQUvJYIdmz2YQcQAAAChBm5lJ4QpSZTAhf/6MsABW4MTC\n",
       "F/RFgBXK2oVOFdYQwcj1rMP2ZhBwAAAAH0Gft0U0TCP/AR4Kcawrt475YbAC0yM05+vIcWW66RcA\n",
       "AAAUAZ/WdEf/AcSKcOvWj+sWRizB6NUAAAAQAZ/Yakf/AcWAAUFKuwrOTAAAAC1Bm9pJqEFomUwI\n",
       "Z//+nhAAVjVVOAEZFifhnySaVWsjmpSqdeq3FwV8wLiIF3AAAAA/QZv+SeEKUmUwIX/+jLAAVvN4\n",
       "YArVEtZzWjullnq/EV9Y/TD4YAkxCQl/IUSqSFkiDDYcBYMI4q5HAjbTMIOBAAAAHkGeHEU0TCP/\n",
       "AR4KcbTHaAB+4SEd48MM4gJPZ+R2VAAAABkBnjt0R/8BxIpxJpDgAnU/yojwsy/e32DVAAAAGgGe\n",
       "PWpH/wHFgA33qIABO3Qp/Rqc4mR14pavAAAALEGaIkmoQWiZTAhf//6MsABW83hgCt5vK7XlkIZZ\n",
       "ezL/tfWICcuiKhaqIYMWAAAAEUGeQEURLCP/AR4qADBSSNDbAAAADgGef3RH/wHEimLMEKzbAAAA\n",
       "DwGeYWpH/wHFgAFCPESugQAAADdBmmZJqEFsmUwIX//+jLAAVvH6MAKjOigbvPmwemG9KhRn5gX+\n",
       "HTdyP1aI6qBdUyzH3i0GjCqhAAAAGkGehEUVLCP/AR4qA14z+AC1et6HiZB96M64AAAAEQGeo3RH\n",
       "/wHEinESkTidVGpMAAAAEgGepWpH/wHFgA32P3Dni3XQpQAAADlBmqdJqEFsmUwIX//+jLAAVLT/\n",
       "gAtno2AkFsS0GYE/Rn9GVmfTnmY1475XrgGPmQWGNV6sTchgyoAAAAA5QZrLSeEKUmUwIX/+jLAA\n",
       "VLN4YAbms6zB1SAmq1gsI2UX9lt9hMxBvuY8ww1UVp1mE6FTy4y0MGVBAAAAFEGe6UU0TCP/AR4K\n",
       "cafcyYLaTUmAAAAAEAGfCHRH/wHEinC6kTtMpi8AAAAPAZ8Kakf/AcWAAUI8RK6BAAAAJUGbD0mo\n",
       "QWiZTAhf//6MsABUs83gATrMC18kJzCOwSsiX3OugdMAAAAcQZ8tRREsI/8BHioDSk+0AD9v+ZRZ\n",
       "wT8NPTNlQQAAAA8Bn0x0R/8BxIpiy1oLQ2wAAAAPAZ9Oakf/AcWAAUFKu0NsAAAAJ0GbU0moQWyZ\n",
       "TAhP//3xAAMiuicAB+II70Vzg6NwvBWPijfmKgCEbQAAABNBn3FFFSwj/wEeKgNKDA6isLouAAAA\n",
       "DgGfkHRH/wHEimLMEKzbAAAADwGfkmpH/wHFgAFCPESugQAAACJBm5VJqEFsmUwUTH/8hAATTt4A\n",
       "AD3rSSokQYCNM39pWFBBAAAAFwGftGpH/wHF73bbSHABOIK7YnDTK+xdAAAV4m1vb3YAAABsbXZo\n",
       "ZAAAAAAAAAAAAAAAAAAAA+gAAB9AAAEAAAEAAAAAAAAAAAAAAAABAAAAAAAAAAAAAAAAAAAAAQAA\n",
       "AAAAAAAAAAAAAAAAQAAAAAAAAAAAAAAAAAAAAAAAAAAAAAAAAAAAAAAAAAIAABUMdHJhawAAAFx0\n",
       "a2hkAAAAAwAAAAAAAAAAAAAAAQAAAAAAAB9AAAAAAAAAAAAAAAAAAAAAAAABAAAAAAAAAAAAAAAA\n",
       "AAAAAQAAAAAAAAAAAAAAAAAAQAAAAAGwAAABIAAAAAAAJGVkdHMAAAAcZWxzdAAAAAAAAAABAAAf\n",
       "QAAAAgAAAQAAAAAUhG1kaWEAAAAgbWRoZAAAAAAAAAAAAAAAAAAAMgAAAZAAVcQAAAAAAC1oZGxy\n",
       "AAAAAAAAAAB2aWRlAAAAAAAAAAAAAAAAVmlkZW9IYW5kbGVyAAAAFC9taW5mAAAAFHZtaGQAAAAB\n",
       "AAAAAAAAAAAAAAAkZGluZgAAABxkcmVmAAAAAAAAAAEAAAAMdXJsIAAAAAEAABPvc3RibAAAALNz\n",
       "dHNkAAAAAAAAAAEAAACjYXZjMQAAAAAAAAABAAAAAAAAAAAAAAAAAAAAAAGwASAASAAAAEgAAAAA\n",
       "AAAAAQAAAAAAAAAAAAAAAAAAAAAAAAAAAAAAAAAAAAAAAAAAABj//wAAADFhdmNDAWQAHv/hABhn\n",
       "ZAAerNlBsJaEAAADAAQAAAMBkDxYtlgBAAZo6+PLIsAAAAAcdXVpZGtoQPJfJE/FujmlG88DI/MA\n",
       "AAAAAAAAGHN0dHMAAAAAAAAAAQAAAZAAAAEAAAAAGHN0c3MAAAAAAAAAAgAAAAEAAAD7AAAMgGN0\n",
       "dHMAAAAAAAABjgAAAAEAAAIAAAAAAQAABQAAAAABAAACAAAAAAEAAAAAAAAAAQAAAQAAAAABAAAC\n",
       "AAAAAAEAAAUAAAAAAQAAAgAAAAABAAAAAAAAAAEAAAEAAAAAAQAABQAAAAABAAACAAAAAAEAAAAA\n",
       "AAAAAQAAAQAAAAABAAAFAAAAAAEAAAIAAAAAAQAAAAAAAAABAAABAAAAAAMAAAIAAAAAAQAABQAA\n",
       "AAABAAACAAAAAAEAAAAAAAAAAQAAAQAAAAABAAAFAAAAAAEAAAIAAAAAAQAAAAAAAAABAAABAAAA\n",
       "AAEAAAUAAAAAAQAAAgAAAAABAAAAAAAAAAEAAAEAAAAAAQAABQAAAAABAAACAAAAAAEAAAAAAAAA\n",
       "AQAAAQAAAAABAAAFAAAAAAEAAAIAAAAAAQAAAAAAAAABAAABAAAAAAEAAAUAAAAAAQAAAgAAAAAB\n",
       "AAAAAAAAAAEAAAEAAAAAAQAABQAAAAABAAACAAAAAAEAAAAAAAAAAQAAAQAAAAABAAAFAAAAAAEA\n",
       "AAIAAAAAAQAAAAAAAAABAAABAAAAAAEAAAUAAAAAAQAAAgAAAAABAAAAAAAAAAEAAAEAAAAAAQAA\n",
       "BQAAAAABAAACAAAAAAEAAAAAAAAAAQAAAQAAAAABAAAFAAAAAAEAAAIAAAAAAQAAAAAAAAABAAAB\n",
       "AAAAAAEAAAUAAAAAAQAAAgAAAAABAAAAAAAAAAEAAAEAAAAAAQAAAgAAAAABAAAFAAAAAAEAAAIA\n",
       "AAAAAQAAAAAAAAABAAABAAAAAAEAAAUAAAAAAQAAAgAAAAABAAAAAAAAAAEAAAEAAAAAAQAABQAA\n",
       "AAABAAACAAAAAAEAAAAAAAAAAQAAAQAAAAABAAAFAAAAAAEAAAIAAAAAAQAAAAAAAAABAAABAAAA\n",
       "AAEAAAUAAAAAAQAAAgAAAAABAAAAAAAAAAEAAAEAAAAAAQAABQAAAAABAAACAAAAAAEAAAAAAAAA\n",
       "AQAAAQAAAAABAAAFAAAAAAEAAAIAAAAAAQAAAAAAAAABAAABAAAAAAEAAAUAAAAAAQAAAgAAAAAB\n",
       "AAAAAAAAAAEAAAEAAAAAAQAABQAAAAABAAACAAAAAAEAAAAAAAAAAQAAAQAAAAABAAAFAAAAAAEA\n",
       "AAIAAAAAAQAAAAAAAAABAAABAAAAAAEAAAUAAAAAAQAAAgAAAAABAAAAAAAAAAEAAAEAAAAAAQAA\n",
       "BQAAAAABAAACAAAAAAEAAAAAAAAAAQAAAQAAAAABAAAFAAAAAAEAAAIAAAAAAQAAAAAAAAABAAAB\n",
       "AAAAAAEAAAUAAAAAAQAAAgAAAAABAAAAAAAAAAEAAAEAAAAAAQAABQAAAAABAAACAAAAAAEAAAAA\n",
       "AAAAAQAAAQAAAAABAAAFAAAAAAEAAAIAAAAAAQAAAAAAAAABAAABAAAAAAEAAAUAAAAAAQAAAgAA\n",
       "AAABAAAAAAAAAAEAAAEAAAAAAQAABQAAAAABAAACAAAAAAEAAAAAAAAAAQAAAQAAAAABAAACAAAA\n",
       "AAEAAAUAAAAAAQAAAgAAAAABAAAAAAAAAAEAAAEAAAAAAQAABQAAAAABAAACAAAAAAEAAAAAAAAA\n",
       "AQAAAQAAAAABAAAFAAAAAAEAAAIAAAAAAQAAAAAAAAABAAABAAAAAAEAAAUAAAAAAQAAAgAAAAAB\n",
       "AAAAAAAAAAEAAAEAAAAAAQAABQAAAAABAAACAAAAAAEAAAAAAAAAAQAAAQAAAAABAAAFAAAAAAEA\n",
       "AAIAAAAAAQAAAAAAAAABAAABAAAAAAEAAAUAAAAAAQAAAgAAAAABAAAAAAAAAAEAAAEAAAAAAQAA\n",
       "BQAAAAABAAACAAAAAAEAAAAAAAAAAQAAAQAAAAABAAAFAAAAAAEAAAIAAAAAAQAAAAAAAAABAAAB\n",
       "AAAAAAEAAAUAAAAAAQAAAgAAAAABAAAAAAAAAAEAAAEAAAAAAQAABQAAAAABAAACAAAAAAEAAAAA\n",
       "AAAAAQAAAQAAAAABAAAFAAAAAAEAAAIAAAAAAQAAAAAAAAABAAABAAAAAAEAAAUAAAAAAQAAAgAA\n",
       "AAABAAAAAAAAAAEAAAEAAAAAAQAABQAAAAABAAACAAAAAAEAAAAAAAAAAQAAAQAAAAABAAAFAAAA\n",
       "AAEAAAIAAAAAAQAAAAAAAAABAAABAAAAAAEAAAUAAAAAAQAAAgAAAAABAAAAAAAAAAEAAAEAAAAA\n",
       "AQAABQAAAAABAAACAAAAAAEAAAAAAAAAAQAAAQAAAAABAAAFAAAAAAEAAAIAAAAAAQAAAAAAAAAB\n",
       "AAABAAAAAAEAAAUAAAAAAQAAAgAAAAABAAAAAAAAAAEAAAEAAAAAAQAABQAAAAABAAACAAAAAAEA\n",
       "AAAAAAAAAQAAAQAAAAABAAAFAAAAAAEAAAIAAAAAAQAAAAAAAAABAAABAAAAAAEAAAUAAAAAAQAA\n",
       "AgAAAAABAAAAAAAAAAEAAAEAAAAAAQAABQAAAAABAAACAAAAAAEAAAAAAAAAAQAAAQAAAAABAAAF\n",
       "AAAAAAEAAAIAAAAAAQAAAAAAAAABAAABAAAAAAEAAAUAAAAAAQAAAgAAAAABAAAAAAAAAAEAAAEA\n",
       "AAAAAQAABQAAAAABAAACAAAAAAEAAAAAAAAAAQAAAQAAAAABAAAEAAAAAAEAAAIAAAAAAQAAAAAA\n",
       "AAABAAACAAAAAAEAAAUAAAAAAQAAAgAAAAABAAAAAAAAAAEAAAEAAAAAAQAABQAAAAABAAACAAAA\n",
       "AAEAAAAAAAAAAQAAAQAAAAABAAAFAAAAAAEAAAIAAAAAAQAAAAAAAAABAAABAAAAAAEAAAUAAAAA\n",
       "AQAAAgAAAAABAAAAAAAAAAEAAAEAAAAAAQAABQAAAAABAAACAAAAAAEAAAAAAAAAAQAAAQAAAAAB\n",
       "AAAFAAAAAAEAAAIAAAAAAQAAAAAAAAABAAABAAAAAAEAAAUAAAAAAQAAAgAAAAABAAAAAAAAAAEA\n",
       "AAEAAAAAAQAABQAAAAABAAACAAAAAAEAAAAAAAAAAQAAAQAAAAABAAAFAAAAAAEAAAIAAAAAAQAA\n",
       "AAAAAAABAAABAAAAAAEAAAUAAAAAAQAAAgAAAAABAAAAAAAAAAEAAAEAAAAAAQAABQAAAAABAAAC\n",
       "AAAAAAEAAAAAAAAAAQAAAQAAAAABAAAFAAAAAAEAAAIAAAAAAQAAAAAAAAABAAABAAAAAAEAAAUA\n",
       "AAAAAQAAAgAAAAABAAAAAAAAAAEAAAEAAAAAAQAABQAAAAABAAACAAAAAAEAAAAAAAAAAQAAAQAA\n",
       "AAABAAAFAAAAAAEAAAIAAAAAAQAAAAAAAAABAAABAAAAAAEAAAUAAAAAAQAAAgAAAAABAAAAAAAA\n",
       "AAEAAAEAAAAAAQAABQAAAAABAAACAAAAAAEAAAAAAAAAAQAAAQAAAAABAAAFAAAAAAEAAAIAAAAA\n",
       "AQAAAAAAAAABAAABAAAAAAEAAAUAAAAAAQAAAgAAAAABAAAAAAAAAAEAAAEAAAAAAQAABQAAAAAB\n",
       "AAACAAAAAAEAAAAAAAAAAQAAAQAAAAABAAAFAAAAAAEAAAIAAAAAAQAAAAAAAAABAAABAAAAAAEA\n",
       "AAUAAAAAAQAAAgAAAAABAAAAAAAAAAEAAAEAAAAAAQAABQAAAAABAAACAAAAAAEAAAAAAAAAAQAA\n",
       "AQAAAAABAAAFAAAAAAEAAAIAAAAAAQAAAAAAAAABAAABAAAAAAEAAAUAAAAAAQAAAgAAAAABAAAA\n",
       "AAAAAAEAAAEAAAAAAQAABQAAAAABAAACAAAAAAEAAAAAAAAAAQAAAQAAAAABAAAFAAAAAAEAAAIA\n",
       "AAAAAQAAAAAAAAABAAABAAAAAAEAAAUAAAAAAQAAAgAAAAABAAAAAAAAAAEAAAEAAAAAAQAABQAA\n",
       "AAABAAACAAAAAAEAAAAAAAAAAQAAAQAAAAABAAACAAAAAAEAAAUAAAAAAQAAAgAAAAABAAAAAAAA\n",
       "AAEAAAEAAAAAAQAAAgAAAAABAAAFAAAAAAEAAAIAAAAAAQAAAAAAAAABAAABAAAAAAEAAAUAAAAA\n",
       "AQAAAgAAAAABAAAAAAAAAAEAAAEAAAAAAQAABQAAAAABAAACAAAAAAEAAAAAAAAAAQAAAQAAAAAB\n",
       "AAACAAAAAAEAAAUAAAAAAQAAAgAAAAABAAAAAAAAAAEAAAEAAAAAAQAABQAAAAABAAACAAAAAAEA\n",
       "AAAAAAAAAQAAAQAAAAABAAAFAAAAAAEAAAIAAAAAAQAAAAAAAAABAAABAAAAAAEAAAMAAAAAAQAA\n",
       "AQAAAAAcc3RzYwAAAAAAAAABAAAAAQAAAZAAAAABAAAGVHN0c3oAAAAAAAAAAAAAAZAAADTgAAAC\n",
       "YQAAAFQAAAA5AAAAJQAAAHIAAACuAAAAMgAAACIAAAAYAAAAmgAAADEAAAAdAAAAGwAAAHgAAAAr\n",
       "AAAAIwAAABsAAAA9AAAAOQAAAD4AAAB2AAAAJQAAABoAAAAVAAAAeAAAAB0AAAAdAAAAGQAAAIUA\n",
       "AAAlAAAAGQAAABoAAABUAAAAJAAAABgAAAAQAAAATgAAACgAAAAXAAAAGQAAAGMAAAAnAAAAIgAA\n",
       "ACAAAABnAAAAJgAAABMAAAAbAAAAZgAAACYAAAAdAAAAGAAAAEgAAAAcAAAAEAAAABAAAAA8AAAA\n",
       "IQAAABAAAAAPAAAASwAAACUAAAAVAAAAFwAAAEkAAAArAAAAIAAAACAAAAA4AAAAawAAACkAAAAZ\n",
       "AAAAIwAAADwAAAAmAAAAGwAAABYAAABWAAAAKgAAABYAAAAYAAAATwAAACAAAAAXAAAAEgAAAEUA\n",
       "AAAcAAAAEwAAABsAAABnAAAAJgAAABYAAAATAAAAdwAAACsAAAAhAAAAGAAAADYAAAAcAAAAEgAA\n",
       "ABAAAABDAAAAGgAAABIAAAASAAAASAAAACYAAAAVAAAAFAAAAFwAAAAjAAAAHQAAABIAAABDAAAA\n",
       "KAAAACIAAAAYAAAAWwAAACkAAAATAAAAHAAAAC8AAAAqAAAAGAAAABUAAAAzAAAAHQAAABAAAAAQ\n",
       "AAAAOwAAACIAAAATAAAAEQAAAE4AAAAlAAAAFgAAABkAAABCAAAAHQAAABIAAAATAAAAJgAAAEAA\n",
       "AAAiAAAAFAAAABIAAABEAAAAJQAAABEAAAAPAAAAOQAAACIAAAAXAAAAEAAAAEkAAAAkAAAAEQAA\n",
       "ABAAAABGAAAAJwAAABcAAAAaAAAAYAAAACYAAAARAAAAEQAAAEgAAAAlAAAAEQAAABoAAAAtAAAA\n",
       "HgAAABMAAAAdAAAANAAAACUAAAAXAAAAHgAAAEAAAAAeAAAAEgAAABUAAAA4AAAAGwAAABQAAAAV\n",
       "AAAALwAAABsAAAAUAAAAFgAAAEYAAAAfAAAAFAAAABkAAABkAAAAHwAAAB0AAAAVAAAAOwAAABsA\n",
       "AAAUAAAAFQAAAEcAAAAdAAAAFAAAABYAAABEAAAAJQAAABQAAAASAAAATAAAACcAAAAbAAAAEwAA\n",
       "AD0AAAAoAAAAHwAAABUAAAAwAAAAIAAAABQAAAASAAAAQAAAACMAAAAQAAAADwAAAEUAAAAeAAAA\n",
       "EgAAABIAAABwAAAAJwAAABkAAAAUAAAAQwAAACYAAAAWAAAAEwAAADYAAAAkAAAADwAAABcAAAAj\n",
       "AAAAGQAAABAAAAAQAAAAJAAAABUAAAASAABB7AAAAfoAAAA8AAAAPQAAADMAAABPAAAAGwAAABUA\n",
       "AAAcAAAATgAAACUAAAAiAAAAHAAAADoAAAAkAAAAFAAAAB8AAAAlAAAAFwAAABYAAAATAAAAiQAA\n",
       "ACEAAAAiAAAAIAAAACYAAAAfAAAAFwAAABYAAABAAAAAIQAAAB0AAAAUAAAAQQAAACAAAAAUAAAA\n",
       "FgAAAE8AAAAiAAAAFAAAABgAAAA8AAAAFwAAABQAAAAUAAAAMgAAABUAAAAUAAAAEwAAAC8AAAAX\n",
       "AAAAEgAAABMAAAAlAAAAFQAAABIAAAATAAAAKwAAABcAAAASAAAAEwAAADQAAAAVAAAAFQAAABMA\n",
       "AABOAAAAGAAAABIAAAAUAAAAQgAAAB4AAAAVAAAAEwAAAGQAAAAnAAAAHwAAABcAAAA+AAAAHwAA\n",
       "ABQAAAAdAAAANgAAABUAAAAUAAAAHAAAAFsAAAAgAAAAHgAAAB8AAAAyAAAAIwAAABQAAAAUAAAA\n",
       "RQAAACAAAAAfAAAAFwAAADcAAAAYAAAAFAAAABMAAAA7AAAAFwAAABIAAAAcAAAATAAAABgAAAAS\n",
       "AAAAFwAAAFEAAAAoAAAAEwAAABYAAAA2AAAAIAAAABYAAAAWAAAAMAAAACwAAAAjAAAAGAAAABQA\n",
       "AAAxAAAAQwAAACIAAAAdAAAAHgAAADAAAAAVAAAAEgAAABMAAAA7AAAAHgAAABUAAAAWAAAAPQAA\n",
       "AD0AAAAYAAAAFAAAABMAAAApAAAAIAAAABMAAAATAAAAKwAAABcAAAASAAAAEwAAACYAAAAbAAAA\n",
       "FHN0Y28AAAAAAAAAAQAAACwAAABidWR0YQAAAFptZXRhAAAAAAAAACFoZGxyAAAAAAAAAABtZGly\n",
       "YXBwbAAAAAAAAAAAAAAAAC1pbHN0AAAAJal0b28AAAAdZGF0YQAAAAEAAAAATGF2ZjU2LjQwLjEw\n",
       "MQ==\n",
       "\">\n",
       "  Your browser does not support the video tag.\n",
       "</video>"
      ]
     },
     "metadata": {},
     "output_type": "display_data"
    }
   ],
   "source": [
    "try:\n",
    "    display_html(HTML(anim.to_html5_video()))\n",
    "# In case the build-in renderers are unaviable, fall back to\n",
    "# a custom one, that doesn't require external libraries\n",
    "except RuntimeError:\n",
    "    anim.save(None, writer=matplotlib_utils.SimpleMovieWriter(0.001))"
   ]
  },
  {
   "cell_type": "markdown",
   "metadata": {},
   "source": [
    "# Logistic regression\n",
    "Your assignment is to implement the logistic regression\n",
    "\n",
    "Plan:\n",
    "* Use a shared variable for weights\n",
    "* Use a matrix placeholder for `X`\n",
    " \n",
    "We shall train on a two-class MNIST dataset\n",
    "* please note that target `y` are `{0,1}` and not `{-1,1}` as in some formulae"
   ]
  },
  {
   "cell_type": "code",
   "execution_count": 30,
   "metadata": {},
   "outputs": [
    {
     "name": "stdout",
     "output_type": "stream",
     "text": [
      "y [shape - (360,)]: [0 1 0 1 0 1 0 0 1 1]\n",
      "X [shape - (360, 64)]:\n"
     ]
    }
   ],
   "source": [
    "from sklearn.datasets import load_digits\n",
    "mnist = load_digits(2)\n",
    "\n",
    "X, y = mnist.data, mnist.target\n",
    "\n",
    "print(\"y [shape - %s]:\" % (str(y.shape)), y[:10])\n",
    "print(\"X [shape - %s]:\" % (str(X.shape)))"
   ]
  },
  {
   "cell_type": "code",
   "execution_count": 31,
   "metadata": {},
   "outputs": [
    {
     "name": "stdout",
     "output_type": "stream",
     "text": [
      "X:\n",
      " [[ 0.  0.  5. 13.  9.  1.  0.  0.  0.  0.]\n",
      " [ 0.  0.  0. 12. 13.  5.  0.  0.  0.  0.]\n",
      " [ 0.  0.  1.  9. 15. 11.  0.  0.  0.  0.]]\n",
      "y:\n",
      " [0 1 0 1 0 1 0 0 1 1]\n"
     ]
    },
    {
     "data": {
      "image/png": "[encoded data removed]",
      "text/plain": [
       "<matplotlib.figure.Figure at 0x7f330c07e9b0>"
      ]
     },
     "metadata": {},
     "output_type": "display_data"
    }
   ],
   "source": [
    "print('X:\\n',X[:3,:10])\n",
    "print('y:\\n',y[:10])\n",
    "plt.imshow(X[0].reshape([8,8]));"
   ]
  },
  {
   "cell_type": "markdown",
   "metadata": {},
   "source": [
    "It's your turn now!\n",
    "Just a small reminder of the relevant math:\n",
    "\n",
    "$$\n",
    "P(y=1|X) = \\sigma(X \\cdot W + b)\n",
    "$$\n",
    "$$\n",
    "\\text{loss} = -\\log\\left(P\\left(y_\\text{predicted} = 1\\right)\\right)\\cdot y_\\text{true} - \\log\\left(1 - P\\left(y_\\text{predicted} = 1\\right)\\right)\\cdot\\left(1 - y_\\text{true}\\right)\n",
    "$$\n",
    "\n",
    "$\\sigma(x)$ is available via `tf.nn.sigmoid` and matrix multiplication via `tf.matmul`"
   ]
  },
  {
   "cell_type": "code",
   "execution_count": 32,
   "metadata": {},
   "outputs": [],
   "source": [
    "from sklearn.model_selection import train_test_split\n",
    "X_train, X_test, y_train, y_test = train_test_split(\n",
    "    X, y, random_state=42)"
   ]
  },
  {
   "cell_type": "markdown",
   "metadata": {},
   "source": [
    "__Your code goes here.__ For the training and testing scaffolding to work, please stick to the names in comments."
   ]
  },
  {
   "cell_type": "code",
   "execution_count": 33,
   "metadata": {},
   "outputs": [],
   "source": [
    "# Model parameters - weights and bias\n",
    "# weights = tf.Variable(...) shape should be (X.shape[1], 1)\n",
    "# b = tf.Variable(...)\n",
    "\n",
    "weights = tf.Variable(tf.random_normal(shape=(X.shape[1],1), stddev=0.01, dtype=tf.float32))\n",
    "b = tf.Variable(0.0, dtype=tf.float32)\n",
    "s.run(tf.global_variables_initializer())\n"
   ]
  },
  {
   "cell_type": "code",
   "execution_count": 34,
   "metadata": {},
   "outputs": [],
   "source": [
    "# Placeholders for the input data\n",
    "# input_X = tf.placeholder(...)\n",
    "# input_y = tf.placeholder(...)\n",
    "\n",
    "input_X = tf.placeholder(tf.float32, (None, None))\n",
    "input_y = tf.placeholder(tf.float32, (None, ))"
   ]
  },
  {
   "cell_type": "code",
   "execution_count": 35,
   "metadata": {},
   "outputs": [],
   "source": [
    "# The model code\n",
    "\n",
    "# Compute a vector of predictions, resulting shape should be [input_X.shape[0],]\n",
    "# This is 1D, if you have extra dimensions, you can  get rid of them with tf.squeeze .\n",
    "# Don't forget the sigmoid.\n",
    "# predicted_y = <predicted probabilities for input_X>\n",
    "predicted_y = tf.squeeze(tf.sigmoid(tf.matmul(input_X, weights) + b))\n",
    "\n",
    "# Loss. Should be a scalar number - average loss over all the objects\n",
    "# tf.reduce_mean is your friend here\n",
    "# loss = <logistic loss (scalar, mean over sample)>\n",
    "loss = - tf.reduce_mean(input_y * tf.log(predicted_y) + (1-input_y) * tf.log(1-predicted_y))\n",
    "\n",
    "# See above for an example. tf.train.*Optimizer\n",
    "# optimizer = <optimizer that minimizes loss>\n",
    "optimizer = tf.train.AdamOptimizer(0.01).minimize(loss)"
   ]
  },
  {
   "cell_type": "markdown",
   "metadata": {},
   "source": [
    "A test to help with the debugging"
   ]
  },
  {
   "cell_type": "code",
   "execution_count": 36,
   "metadata": {},
   "outputs": [],
   "source": [
    "validation_weights = 1e-3 * np.fromiter(map(lambda x:\n",
    "        s.run(weird_psychotic_function, {my_scalar:x, my_vector:[1, 0.1, 2]}),\n",
    "                                   0.15 * np.arange(1, X.shape[1] + 1)),\n",
    "                                   count=X.shape[1], dtype=np.float32)[:, np.newaxis]\n",
    "# Compute predictions for given weights and bias\n",
    "prediction_validation = s.run(\n",
    "    predicted_y, {\n",
    "    input_X: X,\n",
    "    weights: validation_weights,\n",
    "    b: 1e-1})\n",
    "\n",
    "# Load the reference values for the predictions\n",
    "validation_true_values = np.loadtxt(\"validation_predictons.txt\")\n",
    "\n",
    "assert prediction_validation.shape == (X.shape[0],),\\\n",
    "       \"Predictions must be a 1D array with length equal to the number \" \\\n",
    "       \"of examples in input_X\"\n",
    "assert np.allclose(validation_true_values, prediction_validation)\n",
    "loss_validation = s.run(\n",
    "        loss, {\n",
    "            input_X: X[:100],\n",
    "            input_y: y[-100:],\n",
    "            weights: validation_weights+1.21e-3,\n",
    "            b: -1e-1})\n",
    "assert np.allclose(loss_validation, 0.728689)"
   ]
  },
  {
   "cell_type": "code",
   "execution_count": 37,
   "metadata": {},
   "outputs": [
    {
     "name": "stdout",
     "output_type": "stream",
     "text": [
      "loss at iter 0:0.3950\n",
      "train auc: 1.0\n",
      "test auc: 1.0\n",
      "loss at iter 1:0.1437\n",
      "train auc: 1.0\n",
      "test auc: 1.0\n",
      "loss at iter 2:0.1020\n",
      "train auc: 1.0\n",
      "test auc: 1.0\n",
      "loss at iter 3:0.0904\n",
      "train auc: 1.0\n",
      "test auc: 1.0\n",
      "loss at iter 4:0.0643\n",
      "train auc: 1.0\n",
      "test auc: 1.0\n"
     ]
    }
   ],
   "source": [
    "from sklearn.metrics import roc_auc_score\n",
    "s.run(tf.global_variables_initializer())\n",
    "for i in range(5):\n",
    "    s.run(optimizer, {input_X: X_train, input_y: y_train})\n",
    "    loss_i = s.run(loss, {input_X: X_train, input_y: y_train})\n",
    "    print(\"loss at iter %i:%.4f\" % (i, loss_i))\n",
    "    print(\"train auc:\", roc_auc_score(y_train, s.run(predicted_y, {input_X:X_train})))\n",
    "    print(\"test auc:\", roc_auc_score(y_test, s.run(predicted_y, {input_X:X_test})))"
   ]
  },
  {
   "cell_type": "markdown",
   "metadata": {},
   "source": [
    "### Coursera submission"
   ]
  },
  {
   "cell_type": "code",
   "execution_count": 37,
   "metadata": {
    "collapsed": true
   },
   "outputs": [],
   "source": [
    "grade_submitter = grading.Grader(\"BJCiiY8sEeeCnhKCj4fcOA\")"
   ]
  },
  {
   "cell_type": "code",
   "execution_count": 38,
   "metadata": {
    "collapsed": true
   },
   "outputs": [],
   "source": [
    "test_weights = 1e-3 * np.fromiter(map(lambda x:\n",
    "    s.run(weird_psychotic_function, {my_scalar:x, my_vector:[1, 2, 3]}),\n",
    "                               0.1 * np.arange(1, X.shape[1] + 1)),\n",
    "                               count=X.shape[1], dtype=np.float32)[:, np.newaxis]"
   ]
  },
  {
   "cell_type": "markdown",
   "metadata": {},
   "source": [
    "First, test prediction and loss computation. This part doesn't require a fitted model."
   ]
  },
  {
   "cell_type": "code",
   "execution_count": 39,
   "metadata": {
    "collapsed": true
   },
   "outputs": [],
   "source": [
    "prediction_test = s.run(\n",
    "    predicted_y, {\n",
    "    input_X: X,\n",
    "    weights: test_weights,\n",
    "    b: 1e-1})"
   ]
  },
  {
   "cell_type": "code",
   "execution_count": 40,
   "metadata": {
    "collapsed": true
   },
   "outputs": [],
   "source": [
    "assert prediction_test.shape == (X.shape[0],),\\\n",
    "       \"Predictions must be a 1D array with length equal to the number \" \\\n",
    "       \"of examples in X_test\""
   ]
  },
  {
   "cell_type": "code",
   "execution_count": 41,
   "metadata": {
    "collapsed": true
   },
   "outputs": [],
   "source": [
    "grade_submitter.set_answer(\"0ENlN\", prediction_test)"
   ]
  },
  {
   "cell_type": "code",
   "execution_count": 42,
   "metadata": {
    "collapsed": true
   },
   "outputs": [],
   "source": [
    "loss_test = s.run(\n",
    "    loss, {\n",
    "        input_X: X[:100],\n",
    "        input_y: y[-100:],\n",
    "        weights: test_weights+1.21e-3,\n",
    "        b: -1e-1})\n",
    "# Yes, the X/y indices mistmach is intentional"
   ]
  },
  {
   "cell_type": "code",
   "execution_count": 43,
   "metadata": {
    "collapsed": true
   },
   "outputs": [],
   "source": [
    "grade_submitter.set_answer(\"mMVpM\", loss_test)"
   ]
  },
  {
   "cell_type": "code",
   "execution_count": 44,
   "metadata": {
    "collapsed": true
   },
   "outputs": [],
   "source": [
    "grade_submitter.set_answer(\"D16Rc\", roc_auc_score(y_test, s.run(predicted_y, {input_X:X_test})))"
   ]
  },
  {
   "cell_type": "markdown",
   "metadata": {},
   "source": [
    "Please use the credentials obtained from the Coursera assignment page."
   ]
  },
  {
   "cell_type": "code",
   "execution_count": 45,
   "metadata": {},
   "outputs": [
    {
     "name": "stdout",
     "output_type": "stream",
     "text": [
      "Submitted to Coursera platform. See results on assignment page!\n"
     ]
    }
   ],
   "source": [
    "grade_submitter.submit(<email>, <token>)"
   ]
  }
 ],
 "metadata": {
  "kernelspec": {
   "display_name": "Python 3",
   "language": "python",
   "name": "python3"
  },
  "language_info": {
   "codemirror_mode": {
    "name": "ipython",
    "version": 3
   },
   "file_extension": ".py",
   "mimetype": "text/x-python",
   "name": "python",
   "nbconvert_exporter": "python",
   "pygments_lexer": "ipython3",
   "version": "3.6.4"
  }
 },
 "nbformat": 4,
 "nbformat_minor": 1
}
